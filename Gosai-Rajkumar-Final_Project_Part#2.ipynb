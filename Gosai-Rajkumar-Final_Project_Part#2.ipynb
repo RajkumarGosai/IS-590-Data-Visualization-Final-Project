{
 "cells": [
  {
   "cell_type": "code",
   "execution_count": 1,
   "metadata": {},
   "outputs": [
    {
     "data": {
      "text/html": [
       "        <script type=\"text/javascript\">\n",
       "        window.PlotlyConfig = {MathJaxConfig: 'local'};\n",
       "        if (window.MathJax) {MathJax.Hub.Config({SVG: {font: \"STIX-Web\"}});}\n",
       "        if (typeof require !== 'undefined') {\n",
       "        require.undef(\"plotly\");\n",
       "        requirejs.config({\n",
       "            paths: {\n",
       "                'plotly': ['https://cdn.plot.ly/plotly-latest.min']\n",
       "            }\n",
       "        });\n",
       "        require(['plotly'], function(Plotly) {\n",
       "            window._Plotly = Plotly;\n",
       "        });\n",
       "        }\n",
       "        </script>\n",
       "        "
      ]
     },
     "metadata": {},
     "output_type": "display_data"
    }
   ],
   "source": [
    "import bqplot\n",
    "import numpy as np\n",
    "import pandas as pd\n",
    "import ipywidgets\n",
    "import geopandas as gpd\n",
    "import warnings\n",
    "import plotly\n",
    "from plotly import tools\n",
    "import plotly.figure_factory as ff\n",
    "import chart_studio.plotly as py\n",
    "from plotly.offline import init_notebook_mode, iplot\n",
    "import plotly.figure_factory as ff\n",
    "init_notebook_mode(connected=True)\n",
    "import plotly.graph_objects as go\n",
    "warnings.filterwarnings('ignore')\n",
    "from bqplot import pyplot as plt\n",
    "%matplotlib inline\n",
    "import matplotlib.pyplot as plt\n",
    "import seaborn as sns\n",
    "sns.set()"
   ]
  },
  {
   "cell_type": "code",
   "execution_count": 2,
   "metadata": {},
   "outputs": [],
   "source": [
    "# loading the files required for analysis\n",
    "\n",
    "covid_data=pd.read_csv(\"C:/Users/rajku/COVID-19 dataset/covid_19_data.csv\", header=0)\n",
    "covid19_time_series_confirmed=pd.read_csv(\"C:/Users/rajku/COVID-19 dataset/time_series_covid_19_confirmed.csv\", header=0)\n",
    "covid19_time_series_confirmed_US=pd.read_csv(\"C:/Users/rajku/COVID-19 dataset/time_series_covid_19_confirmed_US.csv\", header=0)\n",
    "covid19_time_series_deaths=pd.read_csv(\"C:/Users/rajku/COVID-19 dataset/time_series_covid_19_deaths.csv\", header=0)\n",
    "covid19_time_series_deaths_US=pd.read_csv(\"C:/Users/rajku/COVID-19 dataset/time_series_covid_19_deaths_US.csv\", header=0)"
   ]
  },
  {
   "cell_type": "code",
   "execution_count": 3,
   "metadata": {},
   "outputs": [],
   "source": [
    "# converting the column names of some files which required some changes\n",
    "\n",
    "covid_data.rename(columns={'Province/State':'State', 'Country/Region':'Country'}, inplace=True)\n",
    "covid19_time_series_confirmed.rename(columns={'Province/State':'State', 'Country/Region':'Country'}, inplace=True)\n",
    "covid19_time_series_deaths.rename(columns={'Province/State':'State', 'Country/Region':'Country'}, inplace=True)"
   ]
  },
  {
   "cell_type": "code",
   "execution_count": 4,
   "metadata": {},
   "outputs": [
    {
     "data": {
      "text/html": [
       "<div>\n",
       "<style scoped>\n",
       "    .dataframe tbody tr th:only-of-type {\n",
       "        vertical-align: middle;\n",
       "    }\n",
       "\n",
       "    .dataframe tbody tr th {\n",
       "        vertical-align: top;\n",
       "    }\n",
       "\n",
       "    .dataframe thead th {\n",
       "        text-align: right;\n",
       "    }\n",
       "</style>\n",
       "<table border=\"1\" class=\"dataframe\">\n",
       "  <thead>\n",
       "    <tr style=\"text-align: right;\">\n",
       "      <th></th>\n",
       "      <th>SNo</th>\n",
       "      <th>ObservationDate</th>\n",
       "      <th>State</th>\n",
       "      <th>Country</th>\n",
       "      <th>Last Update</th>\n",
       "      <th>Confirmed</th>\n",
       "      <th>Deaths</th>\n",
       "      <th>Recovered</th>\n",
       "    </tr>\n",
       "  </thead>\n",
       "  <tbody>\n",
       "    <tr>\n",
       "      <td>0</td>\n",
       "      <td>1</td>\n",
       "      <td>01/22/2020</td>\n",
       "      <td>Anhui</td>\n",
       "      <td>Mainland China</td>\n",
       "      <td>1/22/2020 17:00</td>\n",
       "      <td>1.0</td>\n",
       "      <td>0.0</td>\n",
       "      <td>0.0</td>\n",
       "    </tr>\n",
       "    <tr>\n",
       "      <td>1</td>\n",
       "      <td>2</td>\n",
       "      <td>01/22/2020</td>\n",
       "      <td>Beijing</td>\n",
       "      <td>Mainland China</td>\n",
       "      <td>1/22/2020 17:00</td>\n",
       "      <td>14.0</td>\n",
       "      <td>0.0</td>\n",
       "      <td>0.0</td>\n",
       "    </tr>\n",
       "    <tr>\n",
       "      <td>2</td>\n",
       "      <td>3</td>\n",
       "      <td>01/22/2020</td>\n",
       "      <td>Chongqing</td>\n",
       "      <td>Mainland China</td>\n",
       "      <td>1/22/2020 17:00</td>\n",
       "      <td>6.0</td>\n",
       "      <td>0.0</td>\n",
       "      <td>0.0</td>\n",
       "    </tr>\n",
       "    <tr>\n",
       "      <td>3</td>\n",
       "      <td>4</td>\n",
       "      <td>01/22/2020</td>\n",
       "      <td>Fujian</td>\n",
       "      <td>Mainland China</td>\n",
       "      <td>1/22/2020 17:00</td>\n",
       "      <td>1.0</td>\n",
       "      <td>0.0</td>\n",
       "      <td>0.0</td>\n",
       "    </tr>\n",
       "    <tr>\n",
       "      <td>4</td>\n",
       "      <td>5</td>\n",
       "      <td>01/22/2020</td>\n",
       "      <td>Gansu</td>\n",
       "      <td>Mainland China</td>\n",
       "      <td>1/22/2020 17:00</td>\n",
       "      <td>0.0</td>\n",
       "      <td>0.0</td>\n",
       "      <td>0.0</td>\n",
       "    </tr>\n",
       "  </tbody>\n",
       "</table>\n",
       "</div>"
      ],
      "text/plain": [
       "   SNo ObservationDate      State         Country      Last Update  Confirmed  \\\n",
       "0    1      01/22/2020      Anhui  Mainland China  1/22/2020 17:00        1.0   \n",
       "1    2      01/22/2020    Beijing  Mainland China  1/22/2020 17:00       14.0   \n",
       "2    3      01/22/2020  Chongqing  Mainland China  1/22/2020 17:00        6.0   \n",
       "3    4      01/22/2020     Fujian  Mainland China  1/22/2020 17:00        1.0   \n",
       "4    5      01/22/2020      Gansu  Mainland China  1/22/2020 17:00        0.0   \n",
       "\n",
       "   Deaths  Recovered  \n",
       "0     0.0        0.0  \n",
       "1     0.0        0.0  \n",
       "2     0.0        0.0  \n",
       "3     0.0        0.0  \n",
       "4     0.0        0.0  "
      ]
     },
     "execution_count": 4,
     "metadata": {},
     "output_type": "execute_result"
    }
   ],
   "source": [
    "covid_data.head()"
   ]
  },
  {
   "cell_type": "code",
   "execution_count": 5,
   "metadata": {},
   "outputs": [
    {
     "data": {
      "text/html": [
       "<div>\n",
       "<style scoped>\n",
       "    .dataframe tbody tr th:only-of-type {\n",
       "        vertical-align: middle;\n",
       "    }\n",
       "\n",
       "    .dataframe tbody tr th {\n",
       "        vertical-align: top;\n",
       "    }\n",
       "\n",
       "    .dataframe thead th {\n",
       "        text-align: right;\n",
       "    }\n",
       "</style>\n",
       "<table border=\"1\" class=\"dataframe\">\n",
       "  <thead>\n",
       "    <tr style=\"text-align: right;\">\n",
       "      <th></th>\n",
       "      <th>Country</th>\n",
       "      <th>ObservationDate</th>\n",
       "      <th>Confirmed</th>\n",
       "      <th>Deaths</th>\n",
       "      <th>Recovered</th>\n",
       "    </tr>\n",
       "  </thead>\n",
       "  <tbody>\n",
       "    <tr>\n",
       "      <td>0</td>\n",
       "      <td>Azerbaijan</td>\n",
       "      <td>2020-02-28</td>\n",
       "      <td>1.0</td>\n",
       "      <td>0.0</td>\n",
       "      <td>0.0</td>\n",
       "    </tr>\n",
       "    <tr>\n",
       "      <td>1</td>\n",
       "      <td>('St. Martin',)</td>\n",
       "      <td>2020-03-10</td>\n",
       "      <td>2.0</td>\n",
       "      <td>0.0</td>\n",
       "      <td>0.0</td>\n",
       "    </tr>\n",
       "    <tr>\n",
       "      <td>2</td>\n",
       "      <td>Afghanistan</td>\n",
       "      <td>2020-02-24</td>\n",
       "      <td>1.0</td>\n",
       "      <td>0.0</td>\n",
       "      <td>0.0</td>\n",
       "    </tr>\n",
       "    <tr>\n",
       "      <td>3</td>\n",
       "      <td>Afghanistan</td>\n",
       "      <td>2020-02-25</td>\n",
       "      <td>1.0</td>\n",
       "      <td>0.0</td>\n",
       "      <td>0.0</td>\n",
       "    </tr>\n",
       "    <tr>\n",
       "      <td>4</td>\n",
       "      <td>Afghanistan</td>\n",
       "      <td>2020-02-26</td>\n",
       "      <td>1.0</td>\n",
       "      <td>0.0</td>\n",
       "      <td>0.0</td>\n",
       "    </tr>\n",
       "    <tr>\n",
       "      <td>...</td>\n",
       "      <td>...</td>\n",
       "      <td>...</td>\n",
       "      <td>...</td>\n",
       "      <td>...</td>\n",
       "      <td>...</td>\n",
       "    </tr>\n",
       "    <tr>\n",
       "      <td>7356</td>\n",
       "      <td>occupied Palestinian territory</td>\n",
       "      <td>2020-03-12</td>\n",
       "      <td>0.0</td>\n",
       "      <td>0.0</td>\n",
       "      <td>0.0</td>\n",
       "    </tr>\n",
       "    <tr>\n",
       "      <td>7357</td>\n",
       "      <td>occupied Palestinian territory</td>\n",
       "      <td>2020-03-14</td>\n",
       "      <td>0.0</td>\n",
       "      <td>0.0</td>\n",
       "      <td>0.0</td>\n",
       "    </tr>\n",
       "    <tr>\n",
       "      <td>7358</td>\n",
       "      <td>occupied Palestinian territory</td>\n",
       "      <td>2020-03-15</td>\n",
       "      <td>0.0</td>\n",
       "      <td>0.0</td>\n",
       "      <td>0.0</td>\n",
       "    </tr>\n",
       "    <tr>\n",
       "      <td>7359</td>\n",
       "      <td>occupied Palestinian territory</td>\n",
       "      <td>2020-03-16</td>\n",
       "      <td>0.0</td>\n",
       "      <td>0.0</td>\n",
       "      <td>0.0</td>\n",
       "    </tr>\n",
       "    <tr>\n",
       "      <td>7360</td>\n",
       "      <td>occupied Palestinian territory</td>\n",
       "      <td>2020-03-17</td>\n",
       "      <td>0.0</td>\n",
       "      <td>0.0</td>\n",
       "      <td>0.0</td>\n",
       "    </tr>\n",
       "  </tbody>\n",
       "</table>\n",
       "<p>7361 rows × 5 columns</p>\n",
       "</div>"
      ],
      "text/plain": [
       "                             Country ObservationDate  Confirmed  Deaths  \\\n",
       "0                         Azerbaijan      2020-02-28        1.0     0.0   \n",
       "1                    ('St. Martin',)      2020-03-10        2.0     0.0   \n",
       "2                        Afghanistan      2020-02-24        1.0     0.0   \n",
       "3                        Afghanistan      2020-02-25        1.0     0.0   \n",
       "4                        Afghanistan      2020-02-26        1.0     0.0   \n",
       "...                              ...             ...        ...     ...   \n",
       "7356  occupied Palestinian territory      2020-03-12        0.0     0.0   \n",
       "7357  occupied Palestinian territory      2020-03-14        0.0     0.0   \n",
       "7358  occupied Palestinian territory      2020-03-15        0.0     0.0   \n",
       "7359  occupied Palestinian territory      2020-03-16        0.0     0.0   \n",
       "7360  occupied Palestinian territory      2020-03-17        0.0     0.0   \n",
       "\n",
       "      Recovered  \n",
       "0           0.0  \n",
       "1           0.0  \n",
       "2           0.0  \n",
       "3           0.0  \n",
       "4           0.0  \n",
       "...         ...  \n",
       "7356        0.0  \n",
       "7357        0.0  \n",
       "7358        0.0  \n",
       "7359        0.0  \n",
       "7360        0.0  \n",
       "\n",
       "[7361 rows x 5 columns]"
      ]
     },
     "execution_count": 5,
     "metadata": {},
     "output_type": "execute_result"
    }
   ],
   "source": [
    "# FIlling the city names with country names where the city row is null\n",
    "\n",
    "covid_data['State']=covid_data['State'].mask(pd.isnull, covid_data['Country'])\n",
    "covid_data[covid_data['Confirmed'].isnull()]\n",
    "countrywise_data=covid_data.copy()\n",
    "countrywise_data.drop('State', axis=1, inplace=True)\n",
    "countrywise_data=countrywise_data.groupby(['Country', 'ObservationDate'], as_index=False)['Confirmed', 'Deaths', 'Recovered'].sum()\n",
    "countrywise_data['ObservationDate'] = countrywise_data['ObservationDate'].astype('datetime64[ns]')\n",
    "countrywise_data\n",
    "# latest_covid_data=covid_data.sort_values(by=['Country','State', 'ObservationDate'], ascending=[True, True]).groupby(['State', 'Country']).tail(1)"
   ]
  },
  {
   "cell_type": "code",
   "execution_count": 6,
   "metadata": {},
   "outputs": [],
   "source": [
    "#temp_data"
   ]
  },
  {
   "cell_type": "code",
   "execution_count": 7,
   "metadata": {},
   "outputs": [],
   "source": [
    "# x_sc=bqplot.DateScale()\n",
    "# y_sc=bqplot.LinearScale()\n",
    "# col_sc=bqplot.ColorScale(colors=['orange', 'red', 'green'])"
   ]
  },
  {
   "cell_type": "code",
   "execution_count": 8,
   "metadata": {},
   "outputs": [],
   "source": [
    "# lines_1 = bqplot.Lines(x=np.array(temp_data['ObservationDate']), y=np.array(temp_data['Confirmed']), scales={'x': x_sc, 'y': y_sc})\n",
    "# lines_2 = bqplot.Lines(x=np.array(temp_data['ObservationDate']), y=np.array(temp_data['Deaths']), scales={'x': x_sc, 'y': y_sc})\n",
    "# lines_3 = bqplot.Lines(x=np.array(temp_data['ObservationDate']), y=np.array(temp_data['Recovered']), scales={'x': x_sc, 'y': y_sc})"
   ]
  },
  {
   "cell_type": "code",
   "execution_count": 9,
   "metadata": {},
   "outputs": [],
   "source": [
    "# ax_x = bqplot.Axis(scale=x_sc, label='Observation Date')\n",
    "# ax_y = bqplot.Axis(scale=y_sc, label='Total cases, deaths and recovered', orientation='vertical')\n",
    "# ax_col=bqplot.Axis(scale=col_sc)"
   ]
  },
  {
   "cell_type": "code",
   "execution_count": 10,
   "metadata": {},
   "outputs": [],
   "source": [
    "# fig = bqplot.Figure(marks = [lines_1, lines_2, lines_3], axes=[ax_x, ax_y])\n",
    "# fig"
   ]
  },
  {
   "cell_type": "code",
   "execution_count": 11,
   "metadata": {},
   "outputs": [],
   "source": [
    "# map_data=datewise_data.groupby('Country', as_index=False)['Confirmed', 'Deaths', 'Recovered'].sum()\n",
    "# map_data"
   ]
  },
  {
   "cell_type": "code",
   "execution_count": 12,
   "metadata": {},
   "outputs": [],
   "source": [
    "# figure = plt.figure(title=\"Date vs Covid Cases\")\n",
    "# line=plt.plot(x=np.array(temp_data['ObservationDate']), y= np.array(temp_data['Confirmed']), colors=['orange'])\n",
    "# line=plt.plot(x=np.array(temp_data['ObservationDate']), y= np.array(temp_data['Deaths']), colors=['red'])\n",
    "# line=plt.plot(x=np.array(temp_data['ObservationDate']), y= np.array(temp_data['Recovered']), colors=['green'])\n",
    "# plt.show()"
   ]
  },
  {
   "cell_type": "code",
   "execution_count": 13,
   "metadata": {},
   "outputs": [],
   "source": [
    "# countrywise_data[countrywise_data['Country']=='Mainland China'].count()"
   ]
  },
  {
   "cell_type": "code",
   "execution_count": 14,
   "metadata": {},
   "outputs": [
    {
     "data": {
      "text/html": [
       "<div>\n",
       "<style scoped>\n",
       "    .dataframe tbody tr th:only-of-type {\n",
       "        vertical-align: middle;\n",
       "    }\n",
       "\n",
       "    .dataframe tbody tr th {\n",
       "        vertical-align: top;\n",
       "    }\n",
       "\n",
       "    .dataframe thead th {\n",
       "        text-align: right;\n",
       "    }\n",
       "</style>\n",
       "<table border=\"1\" class=\"dataframe\">\n",
       "  <thead>\n",
       "    <tr style=\"text-align: right;\">\n",
       "      <th></th>\n",
       "      <th>Country</th>\n",
       "      <th>ObservationDate</th>\n",
       "      <th>Confirmed</th>\n",
       "      <th>Deaths</th>\n",
       "      <th>Recovered</th>\n",
       "    </tr>\n",
       "  </thead>\n",
       "  <tbody>\n",
       "    <tr>\n",
       "      <td>6906</td>\n",
       "      <td>US</td>\n",
       "      <td>2020-01-22</td>\n",
       "      <td>1.0</td>\n",
       "      <td>0.0</td>\n",
       "      <td>0.0</td>\n",
       "    </tr>\n",
       "    <tr>\n",
       "      <td>6907</td>\n",
       "      <td>US</td>\n",
       "      <td>2020-01-23</td>\n",
       "      <td>1.0</td>\n",
       "      <td>0.0</td>\n",
       "      <td>0.0</td>\n",
       "    </tr>\n",
       "    <tr>\n",
       "      <td>6908</td>\n",
       "      <td>US</td>\n",
       "      <td>2020-01-24</td>\n",
       "      <td>2.0</td>\n",
       "      <td>0.0</td>\n",
       "      <td>0.0</td>\n",
       "    </tr>\n",
       "    <tr>\n",
       "      <td>6909</td>\n",
       "      <td>US</td>\n",
       "      <td>2020-01-25</td>\n",
       "      <td>2.0</td>\n",
       "      <td>0.0</td>\n",
       "      <td>0.0</td>\n",
       "    </tr>\n",
       "    <tr>\n",
       "      <td>6910</td>\n",
       "      <td>US</td>\n",
       "      <td>2020-01-26</td>\n",
       "      <td>5.0</td>\n",
       "      <td>0.0</td>\n",
       "      <td>0.0</td>\n",
       "    </tr>\n",
       "    <tr>\n",
       "      <td>...</td>\n",
       "      <td>...</td>\n",
       "      <td>...</td>\n",
       "      <td>...</td>\n",
       "      <td>...</td>\n",
       "      <td>...</td>\n",
       "    </tr>\n",
       "    <tr>\n",
       "      <td>6981</td>\n",
       "      <td>US</td>\n",
       "      <td>2020-04-06</td>\n",
       "      <td>366667.0</td>\n",
       "      <td>10783.0</td>\n",
       "      <td>19581.0</td>\n",
       "    </tr>\n",
       "    <tr>\n",
       "      <td>6982</td>\n",
       "      <td>US</td>\n",
       "      <td>2020-04-07</td>\n",
       "      <td>396223.0</td>\n",
       "      <td>12722.0</td>\n",
       "      <td>21763.0</td>\n",
       "    </tr>\n",
       "    <tr>\n",
       "      <td>6983</td>\n",
       "      <td>US</td>\n",
       "      <td>2020-04-08</td>\n",
       "      <td>429052.0</td>\n",
       "      <td>14695.0</td>\n",
       "      <td>23559.0</td>\n",
       "    </tr>\n",
       "    <tr>\n",
       "      <td>6984</td>\n",
       "      <td>US</td>\n",
       "      <td>2020-04-09</td>\n",
       "      <td>461437.0</td>\n",
       "      <td>16478.0</td>\n",
       "      <td>25410.0</td>\n",
       "    </tr>\n",
       "    <tr>\n",
       "      <td>6985</td>\n",
       "      <td>US</td>\n",
       "      <td>2020-04-10</td>\n",
       "      <td>496535.0</td>\n",
       "      <td>18586.0</td>\n",
       "      <td>28790.0</td>\n",
       "    </tr>\n",
       "  </tbody>\n",
       "</table>\n",
       "<p>80 rows × 5 columns</p>\n",
       "</div>"
      ],
      "text/plain": [
       "     Country ObservationDate  Confirmed   Deaths  Recovered\n",
       "6906      US      2020-01-22        1.0      0.0        0.0\n",
       "6907      US      2020-01-23        1.0      0.0        0.0\n",
       "6908      US      2020-01-24        2.0      0.0        0.0\n",
       "6909      US      2020-01-25        2.0      0.0        0.0\n",
       "6910      US      2020-01-26        5.0      0.0        0.0\n",
       "...      ...             ...        ...      ...        ...\n",
       "6981      US      2020-04-06   366667.0  10783.0    19581.0\n",
       "6982      US      2020-04-07   396223.0  12722.0    21763.0\n",
       "6983      US      2020-04-08   429052.0  14695.0    23559.0\n",
       "6984      US      2020-04-09   461437.0  16478.0    25410.0\n",
       "6985      US      2020-04-10   496535.0  18586.0    28790.0\n",
       "\n",
       "[80 rows x 5 columns]"
      ]
     },
     "execution_count": 14,
     "metadata": {},
     "output_type": "execute_result"
    }
   ],
   "source": [
    "d=countrywise_data[countrywise_data['Country']=='US']\n",
    "d"
   ]
  },
  {
   "cell_type": "code",
   "execution_count": 15,
   "metadata": {},
   "outputs": [],
   "source": [
    "# Creating a function to plot line graphs for COnfirmed, Deaths and Recovered cases\n",
    "def line_graph(col):\n",
    "    plt.figure(figsize=(15,7))\n",
    "    tem_data=countrywise_data[countrywise_data['Country']==col]\n",
    "    plt.plot('ObservationDate', 'Confirmed',data=tem_data, c='orange', marker='o')\n",
    "    plt.plot('ObservationDate', 'Deaths',data=tem_data, c='red', marker='o')\n",
    "    plt.plot('ObservationDate', 'Recovered',data=tem_data, c='green',marker='o')\n",
    "    plt.title(\"COVID 19 Cases Countrywise\"+col)\n",
    "    plt.xlabel(\"Observation Date\")\n",
    "    plt.ylabel('Number of Cases')\n",
    "    plt.show()"
   ]
  },
  {
   "cell_type": "code",
   "execution_count": 16,
   "metadata": {},
   "outputs": [
    {
     "data": {
      "image/png": "[encoded data removed]",
      "text/plain": [
       "<Figure size 1080x504 with 1 Axes>"
      ]
     },
     "metadata": {
      "needs_background": "light"
     },
     "output_type": "display_data"
    }
   ],
   "source": [
    "# Calling the function and passing the COuntry name as the argument \n",
    "line_graph(col=\"US\")"
   ]
  },
  {
   "cell_type": "code",
   "execution_count": 17,
   "metadata": {},
   "outputs": [
    {
     "data": {
      "text/html": [
       "<div>\n",
       "<style scoped>\n",
       "    .dataframe tbody tr th:only-of-type {\n",
       "        vertical-align: middle;\n",
       "    }\n",
       "\n",
       "    .dataframe tbody tr th {\n",
       "        vertical-align: top;\n",
       "    }\n",
       "\n",
       "    .dataframe thead th {\n",
       "        text-align: right;\n",
       "    }\n",
       "</style>\n",
       "<table border=\"1\" class=\"dataframe\">\n",
       "  <thead>\n",
       "    <tr style=\"text-align: right;\">\n",
       "      <th></th>\n",
       "      <th>Country</th>\n",
       "      <th>Country_code</th>\n",
       "      <th>geometry</th>\n",
       "    </tr>\n",
       "  </thead>\n",
       "  <tbody>\n",
       "    <tr>\n",
       "      <td>0</td>\n",
       "      <td>Fiji</td>\n",
       "      <td>FJI</td>\n",
       "      <td>MULTIPOLYGON (((180.00000 -16.06713, 180.00000...</td>\n",
       "    </tr>\n",
       "    <tr>\n",
       "      <td>1</td>\n",
       "      <td>United Republic of Tanzania</td>\n",
       "      <td>TZA</td>\n",
       "      <td>POLYGON ((33.90371 -0.95000, 34.07262 -1.05982...</td>\n",
       "    </tr>\n",
       "    <tr>\n",
       "      <td>2</td>\n",
       "      <td>Western Sahara</td>\n",
       "      <td>SAH</td>\n",
       "      <td>POLYGON ((-8.66559 27.65643, -8.66512 27.58948...</td>\n",
       "    </tr>\n",
       "    <tr>\n",
       "      <td>3</td>\n",
       "      <td>Canada</td>\n",
       "      <td>CAN</td>\n",
       "      <td>MULTIPOLYGON (((-122.84000 49.00000, -122.9742...</td>\n",
       "    </tr>\n",
       "    <tr>\n",
       "      <td>4</td>\n",
       "      <td>United States of America</td>\n",
       "      <td>USA</td>\n",
       "      <td>MULTIPOLYGON (((-122.84000 49.00000, -120.0000...</td>\n",
       "    </tr>\n",
       "    <tr>\n",
       "      <td>...</td>\n",
       "      <td>...</td>\n",
       "      <td>...</td>\n",
       "      <td>...</td>\n",
       "    </tr>\n",
       "    <tr>\n",
       "      <td>172</td>\n",
       "      <td>Republic of Serbia</td>\n",
       "      <td>SRB</td>\n",
       "      <td>POLYGON ((18.82982 45.90887, 18.82984 45.90888...</td>\n",
       "    </tr>\n",
       "    <tr>\n",
       "      <td>173</td>\n",
       "      <td>Montenegro</td>\n",
       "      <td>MNE</td>\n",
       "      <td>POLYGON ((20.07070 42.58863, 19.80161 42.50009...</td>\n",
       "    </tr>\n",
       "    <tr>\n",
       "      <td>174</td>\n",
       "      <td>Kosovo</td>\n",
       "      <td>KOS</td>\n",
       "      <td>POLYGON ((20.59025 41.85541, 20.52295 42.21787...</td>\n",
       "    </tr>\n",
       "    <tr>\n",
       "      <td>175</td>\n",
       "      <td>Trinidad and Tobago</td>\n",
       "      <td>TTO</td>\n",
       "      <td>POLYGON ((-61.68000 10.76000, -61.10500 10.890...</td>\n",
       "    </tr>\n",
       "    <tr>\n",
       "      <td>176</td>\n",
       "      <td>South Sudan</td>\n",
       "      <td>SDS</td>\n",
       "      <td>POLYGON ((30.83385 3.50917, 29.95350 4.17370, ...</td>\n",
       "    </tr>\n",
       "  </tbody>\n",
       "</table>\n",
       "<p>177 rows × 3 columns</p>\n",
       "</div>"
      ],
      "text/plain": [
       "                         Country Country_code  \\\n",
       "0                           Fiji          FJI   \n",
       "1    United Republic of Tanzania          TZA   \n",
       "2                 Western Sahara          SAH   \n",
       "3                         Canada          CAN   \n",
       "4       United States of America          USA   \n",
       "..                           ...          ...   \n",
       "172           Republic of Serbia          SRB   \n",
       "173                   Montenegro          MNE   \n",
       "174                       Kosovo          KOS   \n",
       "175          Trinidad and Tobago          TTO   \n",
       "176                  South Sudan          SDS   \n",
       "\n",
       "                                              geometry  \n",
       "0    MULTIPOLYGON (((180.00000 -16.06713, 180.00000...  \n",
       "1    POLYGON ((33.90371 -0.95000, 34.07262 -1.05982...  \n",
       "2    POLYGON ((-8.66559 27.65643, -8.66512 27.58948...  \n",
       "3    MULTIPOLYGON (((-122.84000 49.00000, -122.9742...  \n",
       "4    MULTIPOLYGON (((-122.84000 49.00000, -120.0000...  \n",
       "..                                                 ...  \n",
       "172  POLYGON ((18.82982 45.90887, 18.82984 45.90888...  \n",
       "173  POLYGON ((20.07070 42.58863, 19.80161 42.50009...  \n",
       "174  POLYGON ((20.59025 41.85541, 20.52295 42.21787...  \n",
       "175  POLYGON ((-61.68000 10.76000, -61.10500 10.890...  \n",
       "176  POLYGON ((30.83385 3.50917, 29.95350 4.17370, ...  \n",
       "\n",
       "[177 rows x 3 columns]"
      ]
     },
     "execution_count": 17,
     "metadata": {},
     "output_type": "execute_result"
    }
   ],
   "source": [
    "# downloaded shape file to plot geo map\n",
    "\n",
    "shape_file=gpd.read_file('ne_110m_admin_0_countries.shp')[['ADMIN','ADM0_A3', 'geometry']]\n",
    "shape_file.columns=['Country','Country_code', 'geometry']\n",
    "shape_file"
   ]
  },
  {
   "cell_type": "code",
   "execution_count": 18,
   "metadata": {},
   "outputs": [
    {
     "data": {
      "text/plain": [
       "array([' Azerbaijan', \"('St. Martin',)\", 'Afghanistan', 'Albania',\n",
       "       'Algeria', 'Andorra', 'Angola', 'Antigua and Barbuda', 'Argentina',\n",
       "       'Armenia', 'Aruba', 'Australia', 'Austria', 'Azerbaijan',\n",
       "       'Bahamas', 'Bahamas, The', 'Bahrain', 'Bangladesh', 'Barbados',\n",
       "       'Belarus', 'Belgium', 'Belize', 'Benin', 'Bhutan', 'Bolivia',\n",
       "       'Bosnia and Herzegovina', 'Botswana', 'Brazil', 'Brunei',\n",
       "       'Bulgaria', 'Burkina Faso', 'Burma', 'Burundi', 'Cabo Verde',\n",
       "       'Cambodia', 'Cameroon', 'Canada', 'Cape Verde', 'Cayman Islands',\n",
       "       'Central African Republic', 'Chad', 'Channel Islands', 'Chile',\n",
       "       'Colombia', 'Congo (Brazzaville)', 'Congo (Kinshasa)',\n",
       "       'Costa Rica', 'Croatia', 'Cuba', 'Curacao', 'Cyprus',\n",
       "       'Czech Republic', 'Denmark', 'Diamond Princess', 'Djibouti',\n",
       "       'Dominica', 'Dominican Republic', 'East Timor', 'Ecuador', 'Egypt',\n",
       "       'El Salvador', 'Equatorial Guinea', 'Eritrea', 'Estonia',\n",
       "       'Eswatini', 'Ethiopia', 'Faroe Islands', 'Fiji', 'Finland',\n",
       "       'France', 'French Guiana', 'Gabon', 'Gambia', 'Gambia, The',\n",
       "       'Georgia', 'Germany', 'Ghana', 'Gibraltar', 'Greece', 'Greenland',\n",
       "       'Grenada', 'Guadeloupe', 'Guam', 'Guatemala', 'Guernsey', 'Guinea',\n",
       "       'Guinea-Bissau', 'Guyana', 'Haiti', 'Holy See', 'Honduras',\n",
       "       'Hong Kong', 'Hungary', 'Iceland', 'India', 'Indonesia', 'Iran',\n",
       "       'Iraq', 'Ireland', 'Israel', 'Italy', 'Ivory Coast', 'Jamaica',\n",
       "       'Japan', 'Jersey', 'Jordan', 'Kazakhstan', 'Kenya', 'Kosovo',\n",
       "       'Kuwait', 'Kyrgyzstan', 'Laos', 'Latvia', 'Lebanon', 'Liberia',\n",
       "       'Libya', 'Liechtenstein', 'Lithuania', 'Luxembourg', 'MS Zaandam',\n",
       "       'Macau', 'Madagascar', 'Mainland China', 'Malawi', 'Malaysia',\n",
       "       'Maldives', 'Mali', 'Malta', 'Martinique', 'Mauritania',\n",
       "       'Mauritius', 'Mayotte', 'Mexico', 'Moldova', 'Monaco', 'Mongolia',\n",
       "       'Montenegro', 'Morocco', 'Mozambique', 'Namibia', 'Nepal',\n",
       "       'Netherlands', 'New Zealand', 'Nicaragua', 'Niger', 'Nigeria',\n",
       "       'North Ireland', 'North Macedonia', 'Norway', 'Oman', 'Others',\n",
       "       'Pakistan', 'Palestine', 'Panama', 'Papua New Guinea', 'Paraguay',\n",
       "       'Peru', 'Philippines', 'Poland', 'Portugal', 'Puerto Rico',\n",
       "       'Qatar', 'Republic of Ireland', 'Republic of the Congo', 'Reunion',\n",
       "       'Romania', 'Russia', 'Rwanda', 'Saint Barthelemy',\n",
       "       'Saint Kitts and Nevis', 'Saint Lucia',\n",
       "       'Saint Vincent and the Grenadines', 'San Marino',\n",
       "       'Sao Tome and Principe', 'Saudi Arabia', 'Senegal', 'Serbia',\n",
       "       'Seychelles', 'Sierra Leone', 'Singapore', 'Slovakia', 'Slovenia',\n",
       "       'Somalia', 'South Africa', 'South Korea', 'South Sudan', 'Spain',\n",
       "       'Sri Lanka', 'St. Martin', 'Sudan', 'Suriname', 'Sweden',\n",
       "       'Switzerland', 'Syria', 'Taiwan', 'Tanzania', 'Thailand',\n",
       "       'The Bahamas', 'The Gambia', 'Timor-Leste', 'Togo',\n",
       "       'Trinidad and Tobago', 'Tunisia', 'Turkey', 'UK', 'US', 'Uganda',\n",
       "       'Ukraine', 'United Arab Emirates', 'Uruguay', 'Uzbekistan',\n",
       "       'Vatican City', 'Venezuela', 'Vietnam', 'West Bank and Gaza',\n",
       "       'Western Sahara', 'Yemen', 'Zambia', 'Zimbabwe',\n",
       "       'occupied Palestinian territory'], dtype=object)"
      ]
     },
     "execution_count": 18,
     "metadata": {},
     "output_type": "execute_result"
    }
   ],
   "source": [
    "#unique countries present in COIVD_19 dataset\n",
    "countrywise_data['Country'].unique()"
   ]
  },
  {
   "cell_type": "code",
   "execution_count": 19,
   "metadata": {},
   "outputs": [],
   "source": [
    "#sorted(shape_file['Country_code'].unique())"
   ]
  },
  {
   "cell_type": "code",
   "execution_count": 20,
   "metadata": {},
   "outputs": [],
   "source": [
    "# countrywise_data['Country'].map({'Mainland China':\"China\", \"Macau\":\"China\", \"Hong Kong\":\"China\"})\n",
    "# countrywise_data['Country'].map({'Jersey':'France', 'Martinique':'France', 'Mayotte':'France', 'Monaco':'France','Reunion':'France', 'Saint Barthelemy':'France'})\n",
    "# countrywise_data['Country']=countrywise_data['Country'].map({'Congo (Brazzaville)':'Democratic Republic of the Congo', 'Congo (Kinshasa)':'Democratic Republic of the Congo'})\n",
    "# countrywise_data['Country']=countrywise_data['Country'].map({'Czech Republic':'Czechia'})\n",
    "# countrywise_data['Country']=countrywise_data['Country'].map({'French Guiana':'French Southern and Antarctic Lands'})\n",
    "# countrywise_data['Country']=countrywise_data['Country'].map({'Liechtenstein':'Switzerland'})\n",
    "# countrywise_data['Country']=countrywise_data['Country'].map({'MS Zaandam':'Netherlands', 'St. Martin':'Netherlands'})\n",
    "# countrywise_data['Country']=countrywise_data['Country'].map({'Malta':'Italy', 'San Marino':'Italy'})\n",
    "# countrywise_data['Country']=countrywise_data['Country'].map({'North Ireland':'Ireland', 'Republic of Ireland':'Ireland'})\n",
    "# countrywise_data['Country']=countrywise_data['Country'].map({'North Macedonia':'Greece'})\n",
    "# countrywise_data['Country']=countrywise_data['Country'].map({'Saint Kitts and Nevis':'Trinidad and Tobago', 'Saint Lucia':'Trinidad and Tobago',\n",
    "#                                                             'Saint Vincent and the Grenadines':'Trinidad and Tobago'})\n",
    "# countrywise_data['Country']=countrywise_data['Country'].map({'Sao Tome and Principe':'South Africa'})\n",
    "# countrywise_data['Country']=countrywise_data['Country'].map({'Serbia':'Russia', 'Seychelles':'Russia'})\n",
    "# countrywise_data['Country']=countrywise_data['Country'].map({'Timor-Leste':'Indonesia'})\n",
    "# countrywise_data['Country']=countrywise_data['Country'].map({'Tanzania':'United Republic of Tanzania'})\n",
    "# countrywise_data['Country']=countrywise_data['Country'].map({'West Bank and Gaza':'Israel', 'occupied Palestinian territory':'Israel'})\n",
    "# countrywise_data['Country']=countrywise_data['Country'].map({'Burma':'Myanmar'})\n",
    "# countrywise_data['Country']=countrywise_data['Country'].map({'UK':'United Kingdom'})\n",
    "# countrywise_data['Country']=countrywise_data['Country'].map({'US':'United States of America'})\n",
    "# countrywise_data['Country']=countrywise_data['Country'].map({'Gambia':'The Gambia'})"
   ]
  },
  {
   "cell_type": "code",
   "execution_count": 21,
   "metadata": {},
   "outputs": [],
   "source": [
    "# As there was discrepency in the country names, tried to merge countires and change the names so that we can match maximum number of countries\n",
    "# in both the dataset\n",
    "\n",
    "countrywise_data['Country']=countrywise_data['Country'].apply(lambda x: 'China' if (x=='Mainland China') else x)\n",
    "countrywise_data['Country']=countrywise_data['Country'].apply(lambda x: 'France' if (x=='Jersey' or x=='Martinique' or x=='Mayotte' or x=='Monaco' or x=='Reunion' or x=='Saint Barthelemy') else x)\n",
    "countrywise_data['Country']=countrywise_data['Country'].apply(lambda x: 'Democratic Republic of the Congo' if (x=='Congo (Brazzaville)' or x=='Congo (Kinshasa)' or x=='Republic of the Congo') else x)\n",
    "countrywise_data['Country']=countrywise_data['Country'].apply(lambda x: 'Czechia' if (x=='Czech Republic') else x)\n",
    "countrywise_data['Country']=countrywise_data['Country'].apply(lambda x: 'French Southern and Antarctic Lands' if (x=='French Guiana') else x)\n",
    "countrywise_data['Country']=countrywise_data['Country'].apply(lambda x: 'Switzerland' if (x=='Liechtenstein') else x)\n",
    "countrywise_data['Country']=countrywise_data['Country'].apply(lambda x: 'Netherlands' if (x=='MS Zaandam' or x=='St. Martin') else x)\n",
    "countrywise_data['Country']=countrywise_data['Country'].apply(lambda x: 'Italy' if (x=='Malta' or x=='San Marino') else x)\n",
    "countrywise_data['Country']=countrywise_data['Country'].apply(lambda x: 'Ireland' if (x=='North Ireland' or x=='Republic of Ireland') else x)\n",
    "countrywise_data['Country']=countrywise_data['Country'].apply(lambda x: 'Greece' if (x=='North Macedonia') else x)\n",
    "countrywise_data['Country']=countrywise_data['Country'].apply(lambda x: 'Trinidad and Tobago' if (x=='Saint Kitts and Nevis' or x=='Saint Lucia' or x=='Saint Vincent and the Grenadines') else x)\n",
    "countrywise_data['Country']=countrywise_data['Country'].apply(lambda x: 'South Africa' if (x=='Sao Tome and Principe') else x)\n",
    "countrywise_data['Country']=countrywise_data['Country'].apply(lambda x: 'Russia' if (x=='Serbia' or x=='Seychelles') else x)\n",
    "countrywise_data['Country']=countrywise_data['Country'].apply(lambda x: 'Indonesia' if (x=='Timor-Leste') else x)\n",
    "countrywise_data['Country']=countrywise_data['Country'].apply(lambda x: 'United Republic of Tanzania' if (x=='Tanzania') else x)\n",
    "countrywise_data['Country']=countrywise_data['Country'].apply(lambda x: 'Israel' if (x=='West Bank and Gaza' or x=='occupied Palestinian territory') else x)\n",
    "countrywise_data['Country']=countrywise_data['Country'].apply(lambda x: 'Myanmar' if (x=='Burma') else x)\n",
    "countrywise_data['Country']=countrywise_data['Country'].apply(lambda x: 'United Kingdom' if (x=='UK') else x)\n",
    "countrywise_data['Country']=countrywise_data['Country'].apply(lambda x: 'United States of America' if (x=='US') else x)\n",
    "countrywise_data['Country']=countrywise_data['Country'].apply(lambda x: 'The Gambia' if (x=='Gambia') else x)"
   ]
  },
  {
   "cell_type": "code",
   "execution_count": 22,
   "metadata": {},
   "outputs": [],
   "source": [
    "\n",
    "countrywise_data=countrywise_data.groupby(['Country', 'ObservationDate'], as_index=False)['Confirmed', 'Deaths', 'Recovered'].sum()"
   ]
  },
  {
   "cell_type": "code",
   "execution_count": 23,
   "metadata": {},
   "outputs": [
    {
     "data": {
      "text/html": [
       "<div>\n",
       "<style scoped>\n",
       "    .dataframe tbody tr th:only-of-type {\n",
       "        vertical-align: middle;\n",
       "    }\n",
       "\n",
       "    .dataframe tbody tr th {\n",
       "        vertical-align: top;\n",
       "    }\n",
       "\n",
       "    .dataframe thead th {\n",
       "        text-align: right;\n",
       "    }\n",
       "</style>\n",
       "<table border=\"1\" class=\"dataframe\">\n",
       "  <thead>\n",
       "    <tr style=\"text-align: right;\">\n",
       "      <th></th>\n",
       "      <th>Country</th>\n",
       "      <th>ObservationDate</th>\n",
       "      <th>Confirmed</th>\n",
       "      <th>Deaths</th>\n",
       "      <th>Recovered</th>\n",
       "      <th>Country_code</th>\n",
       "      <th>geometry</th>\n",
       "    </tr>\n",
       "  </thead>\n",
       "  <tbody>\n",
       "    <tr>\n",
       "      <td>0</td>\n",
       "      <td>Afghanistan</td>\n",
       "      <td>2020-02-24</td>\n",
       "      <td>1.0</td>\n",
       "      <td>0.0</td>\n",
       "      <td>0.0</td>\n",
       "      <td>AFG</td>\n",
       "      <td>POLYGON ((66.51861 37.36278, 67.07578 37.35614...</td>\n",
       "    </tr>\n",
       "    <tr>\n",
       "      <td>1</td>\n",
       "      <td>Afghanistan</td>\n",
       "      <td>2020-02-25</td>\n",
       "      <td>1.0</td>\n",
       "      <td>0.0</td>\n",
       "      <td>0.0</td>\n",
       "      <td>AFG</td>\n",
       "      <td>POLYGON ((66.51861 37.36278, 67.07578 37.35614...</td>\n",
       "    </tr>\n",
       "    <tr>\n",
       "      <td>2</td>\n",
       "      <td>Afghanistan</td>\n",
       "      <td>2020-02-26</td>\n",
       "      <td>1.0</td>\n",
       "      <td>0.0</td>\n",
       "      <td>0.0</td>\n",
       "      <td>AFG</td>\n",
       "      <td>POLYGON ((66.51861 37.36278, 67.07578 37.35614...</td>\n",
       "    </tr>\n",
       "    <tr>\n",
       "      <td>3</td>\n",
       "      <td>Afghanistan</td>\n",
       "      <td>2020-02-27</td>\n",
       "      <td>1.0</td>\n",
       "      <td>0.0</td>\n",
       "      <td>0.0</td>\n",
       "      <td>AFG</td>\n",
       "      <td>POLYGON ((66.51861 37.36278, 67.07578 37.35614...</td>\n",
       "    </tr>\n",
       "    <tr>\n",
       "      <td>4</td>\n",
       "      <td>Afghanistan</td>\n",
       "      <td>2020-02-28</td>\n",
       "      <td>1.0</td>\n",
       "      <td>0.0</td>\n",
       "      <td>0.0</td>\n",
       "      <td>AFG</td>\n",
       "      <td>POLYGON ((66.51861 37.36278, 67.07578 37.35614...</td>\n",
       "    </tr>\n",
       "    <tr>\n",
       "      <td>...</td>\n",
       "      <td>...</td>\n",
       "      <td>...</td>\n",
       "      <td>...</td>\n",
       "      <td>...</td>\n",
       "      <td>...</td>\n",
       "      <td>...</td>\n",
       "      <td>...</td>\n",
       "    </tr>\n",
       "    <tr>\n",
       "      <td>6139</td>\n",
       "      <td>Zimbabwe</td>\n",
       "      <td>2020-04-06</td>\n",
       "      <td>10.0</td>\n",
       "      <td>1.0</td>\n",
       "      <td>0.0</td>\n",
       "      <td>ZWE</td>\n",
       "      <td>POLYGON ((31.19141 -22.25151, 30.65987 -22.151...</td>\n",
       "    </tr>\n",
       "    <tr>\n",
       "      <td>6140</td>\n",
       "      <td>Zimbabwe</td>\n",
       "      <td>2020-04-07</td>\n",
       "      <td>11.0</td>\n",
       "      <td>2.0</td>\n",
       "      <td>0.0</td>\n",
       "      <td>ZWE</td>\n",
       "      <td>POLYGON ((31.19141 -22.25151, 30.65987 -22.151...</td>\n",
       "    </tr>\n",
       "    <tr>\n",
       "      <td>6141</td>\n",
       "      <td>Zimbabwe</td>\n",
       "      <td>2020-04-08</td>\n",
       "      <td>11.0</td>\n",
       "      <td>3.0</td>\n",
       "      <td>0.0</td>\n",
       "      <td>ZWE</td>\n",
       "      <td>POLYGON ((31.19141 -22.25151, 30.65987 -22.151...</td>\n",
       "    </tr>\n",
       "    <tr>\n",
       "      <td>6142</td>\n",
       "      <td>Zimbabwe</td>\n",
       "      <td>2020-04-09</td>\n",
       "      <td>11.0</td>\n",
       "      <td>3.0</td>\n",
       "      <td>0.0</td>\n",
       "      <td>ZWE</td>\n",
       "      <td>POLYGON ((31.19141 -22.25151, 30.65987 -22.151...</td>\n",
       "    </tr>\n",
       "    <tr>\n",
       "      <td>6143</td>\n",
       "      <td>Zimbabwe</td>\n",
       "      <td>2020-04-10</td>\n",
       "      <td>13.0</td>\n",
       "      <td>3.0</td>\n",
       "      <td>0.0</td>\n",
       "      <td>ZWE</td>\n",
       "      <td>POLYGON ((31.19141 -22.25151, 30.65987 -22.151...</td>\n",
       "    </tr>\n",
       "  </tbody>\n",
       "</table>\n",
       "<p>6144 rows × 7 columns</p>\n",
       "</div>"
      ],
      "text/plain": [
       "          Country ObservationDate  Confirmed  Deaths  Recovered Country_code  \\\n",
       "0     Afghanistan      2020-02-24        1.0     0.0        0.0          AFG   \n",
       "1     Afghanistan      2020-02-25        1.0     0.0        0.0          AFG   \n",
       "2     Afghanistan      2020-02-26        1.0     0.0        0.0          AFG   \n",
       "3     Afghanistan      2020-02-27        1.0     0.0        0.0          AFG   \n",
       "4     Afghanistan      2020-02-28        1.0     0.0        0.0          AFG   \n",
       "...           ...             ...        ...     ...        ...          ...   \n",
       "6139     Zimbabwe      2020-04-06       10.0     1.0        0.0          ZWE   \n",
       "6140     Zimbabwe      2020-04-07       11.0     2.0        0.0          ZWE   \n",
       "6141     Zimbabwe      2020-04-08       11.0     3.0        0.0          ZWE   \n",
       "6142     Zimbabwe      2020-04-09       11.0     3.0        0.0          ZWE   \n",
       "6143     Zimbabwe      2020-04-10       13.0     3.0        0.0          ZWE   \n",
       "\n",
       "                                               geometry  \n",
       "0     POLYGON ((66.51861 37.36278, 67.07578 37.35614...  \n",
       "1     POLYGON ((66.51861 37.36278, 67.07578 37.35614...  \n",
       "2     POLYGON ((66.51861 37.36278, 67.07578 37.35614...  \n",
       "3     POLYGON ((66.51861 37.36278, 67.07578 37.35614...  \n",
       "4     POLYGON ((66.51861 37.36278, 67.07578 37.35614...  \n",
       "...                                                 ...  \n",
       "6139  POLYGON ((31.19141 -22.25151, 30.65987 -22.151...  \n",
       "6140  POLYGON ((31.19141 -22.25151, 30.65987 -22.151...  \n",
       "6141  POLYGON ((31.19141 -22.25151, 30.65987 -22.151...  \n",
       "6142  POLYGON ((31.19141 -22.25151, 30.65987 -22.151...  \n",
       "6143  POLYGON ((31.19141 -22.25151, 30.65987 -22.151...  \n",
       "\n",
       "[6144 rows x 7 columns]"
      ]
     },
     "execution_count": 23,
     "metadata": {},
     "output_type": "execute_result"
    }
   ],
   "source": [
    "# merge the shape file and COVID data\n",
    "\n",
    "data=pd.merge(countrywise_data, shape_file, on='Country', how='inner')\n",
    "data"
   ]
  },
  {
   "cell_type": "code",
   "execution_count": 24,
   "metadata": {},
   "outputs": [],
   "source": [
    "#data.to_json('merged_json', default_handler=str)\n",
    "#Read data to json.\n",
    "# merged_json = json.loads(data.to_json(default_handler=str))\n",
    "# #Convert to String like object.\n",
    "# json_data = json.dumps(merged_json)"
   ]
  },
  {
   "cell_type": "code",
   "execution_count": 25,
   "metadata": {},
   "outputs": [],
   "source": [
    "# Tried to plot the geo data using bokeh\n",
    "\n",
    "from bokeh.io import output_notebook, show, output_file\n",
    "from bokeh.plotting import figure\n",
    "from bokeh.models import GeoJSONDataSource, LinearColorMapper, ColorBar\n",
    "from bokeh.palettes import brewer"
   ]
  },
  {
   "cell_type": "code",
   "execution_count": 26,
   "metadata": {},
   "outputs": [],
   "source": [
    "# geosource = GeoJSONDataSource(geojson = json_data)\n",
    "\n",
    "# #Define a sequential multi-hue color palette.\n",
    "# palette = brewer['YlGnBu'][8]\n",
    "# #Reverse color order so that dark blue is highest obesity.\n",
    "# palette = palette[::-1]\n",
    "# #Instantiate LinearColorMapper that linearly maps numbers in a range, into a sequence of colors.\n",
    "# color_mapper = LinearColorMapper(palette = palette, low = 0, high = 40)\n",
    "\n",
    "# #Define custom tick labels for color bar.\n",
    "# tick_labels = {'0': '0%', '5': '5%', '10':'10%', '15':'15%', '20':'20%', '25':'25%', '30':'30%','35':'35%', '40': '>40%'}\n",
    "# #Create color bar. \n",
    "# color_bar = ColorBar(color_mapper=color_mapper, label_standoff=8,width = 500, height = 20,\n",
    "# border_line_color=None,location = (0,0), orientation = 'horizontal', major_label_overrides = tick_labels)\n",
    "# #Create figure object.\n",
    "# p = figure(title = 'Share of adults who are obese, 2016', plot_height = 600 , plot_width = 950, toolbar_location = None)\n",
    "# p.xgrid.grid_line_color = None\n",
    "# p.ygrid.grid_line_color = None\n",
    "\n",
    "# #Add patch renderer to figure. \n",
    "# p.patches('xs','ys', source = geosource,fill_color = {'field' :'Confirmed', 'transform' : color_mapper},\n",
    "#           line_color = 'black', line_width = 0.25, fill_alpha = 1)\n",
    "\n",
    "# #Specify figure layout.\n",
    "# p.add_layout(color_bar, 'below')\n",
    "\n",
    "# #Display figure inline in Jupyter Notebook.\n",
    "# output_notebook()\n",
    "\n",
    "# #Display figure.\n",
    "# show(p)"
   ]
  },
  {
   "cell_type": "code",
   "execution_count": 27,
   "metadata": {
    "scrolled": true
   },
   "outputs": [],
   "source": [
    "new_df=data.groupby('Country', as_index=False)['Confirmed'].sum()"
   ]
  },
  {
   "cell_type": "code",
   "execution_count": 28,
   "metadata": {},
   "outputs": [
    {
     "data": {
      "text/plain": [
       "array(['Afghanistan', 'Albania', 'Algeria', 'Angola', 'Argentina',\n",
       "       'Armenia', 'Australia', 'Austria', 'Azerbaijan', 'Bangladesh',\n",
       "       'Belarus', 'Belgium', 'Belize', 'Benin', 'Bhutan', 'Bolivia',\n",
       "       'Bosnia and Herzegovina', 'Botswana', 'Brazil', 'Brunei',\n",
       "       'Bulgaria', 'Burkina Faso', 'Burundi', 'Cambodia', 'Cameroon',\n",
       "       'Canada', 'Central African Republic', 'Chad', 'Chile', 'China',\n",
       "       'Colombia', 'Costa Rica', 'Croatia', 'Cuba', 'Cyprus', 'Czechia',\n",
       "       'Democratic Republic of the Congo', 'Denmark', 'Djibouti',\n",
       "       'Dominican Republic', 'East Timor', 'Ecuador', 'Egypt',\n",
       "       'El Salvador', 'Equatorial Guinea', 'Eritrea', 'Estonia',\n",
       "       'Ethiopia', 'Fiji', 'Finland', 'France',\n",
       "       'French Southern and Antarctic Lands', 'Gabon', 'Georgia',\n",
       "       'Germany', 'Ghana', 'Greece', 'Greenland', 'Guatemala', 'Guinea',\n",
       "       'Guinea-Bissau', 'Guyana', 'Haiti', 'Honduras', 'Hungary',\n",
       "       'Iceland', 'India', 'Indonesia', 'Iran', 'Iraq', 'Ireland',\n",
       "       'Israel', 'Italy', 'Ivory Coast', 'Jamaica', 'Japan', 'Jordan',\n",
       "       'Kazakhstan', 'Kenya', 'Kosovo', 'Kuwait', 'Kyrgyzstan', 'Laos',\n",
       "       'Latvia', 'Lebanon', 'Liberia', 'Libya', 'Lithuania', 'Luxembourg',\n",
       "       'Madagascar', 'Malawi', 'Malaysia', 'Mali', 'Mauritania', 'Mexico',\n",
       "       'Moldova', 'Mongolia', 'Montenegro', 'Morocco', 'Mozambique',\n",
       "       'Myanmar', 'Namibia', 'Nepal', 'Netherlands', 'New Zealand',\n",
       "       'Nicaragua', 'Niger', 'Nigeria', 'Norway', 'Oman', 'Pakistan',\n",
       "       'Palestine', 'Panama', 'Papua New Guinea', 'Paraguay', 'Peru',\n",
       "       'Philippines', 'Poland', 'Portugal', 'Puerto Rico', 'Qatar',\n",
       "       'Romania', 'Russia', 'Rwanda', 'Saudi Arabia', 'Senegal',\n",
       "       'Sierra Leone', 'Slovakia', 'Slovenia', 'Somalia', 'South Africa',\n",
       "       'South Korea', 'South Sudan', 'Spain', 'Sri Lanka', 'Sudan',\n",
       "       'Suriname', 'Sweden', 'Switzerland', 'Syria', 'Taiwan', 'Thailand',\n",
       "       'The Bahamas', 'Togo', 'Trinidad and Tobago', 'Tunisia', 'Turkey',\n",
       "       'Uganda', 'Ukraine', 'United Arab Emirates', 'United Kingdom',\n",
       "       'United Republic of Tanzania', 'United States of America',\n",
       "       'Uruguay', 'Uzbekistan', 'Venezuela', 'Vietnam', 'Western Sahara',\n",
       "       'Yemen', 'Zambia', 'Zimbabwe'], dtype=object)"
      ]
     },
     "execution_count": 28,
     "metadata": {},
     "output_type": "execute_result"
    }
   ],
   "source": [
    "new_df['Country'].unique()"
   ]
  },
  {
   "cell_type": "code",
   "execution_count": 29,
   "metadata": {},
   "outputs": [],
   "source": [
    "# country_codes=pd.read_csv('iso_3166_country_codes.csv', header=None, names=['Country', 'Country_code_2', 'Country_code_3', 'Country_num_code'], encoding='latin-1')\n",
    "# #countrywise_data['Country']=countrywise_data['Country'].str.strip().str.replace(\"[(),']\", '')\n",
    "# country_codes"
   ]
  },
  {
   "cell_type": "code",
   "execution_count": 30,
   "metadata": {},
   "outputs": [],
   "source": [
    "#grouping covid data by Country to get countrywise data\n",
    "new_data=data.groupby(['Country', 'Country_code'], as_index=False)['Confirmed', 'Deaths', 'Recovered'].sum()"
   ]
  },
  {
   "cell_type": "code",
   "execution_count": 31,
   "metadata": {},
   "outputs": [
    {
     "data": {
      "application/vnd.plotly.v1+json": {
       "config": {
        "plotlyServerURL": "https://plot.ly"
       },
       "data": [
        {
         "coloraxis": "coloraxis",
         "geo": "geo",
         "hoverlabel": {
          "namelength": 0
         },
         "hovertemplate": "<b>%{hovertext}</b><br><br>Country_code=%{location}<br>Confirmed=%{z}",
         "hovertext": [
          "Afghanistan",
          "Albania",
          "Algeria",
          "Angola",
          "Argentina",
          "Armenia",
          "Australia",
          "Austria",
          "Azerbaijan",
          "Bangladesh",
          "Belarus",
          "Belgium",
          "Belize",
          "Benin",
          "Bhutan",
          "Bolivia",
          "Bosnia and Herzegovina",
          "Botswana",
          "Brazil",
          "Brunei",
          "Bulgaria",
          "Burkina Faso",
          "Burundi",
          "Cambodia",
          "Cameroon",
          "Canada",
          "Central African Republic",
          "Chad",
          "Chile",
          "China",
          "Colombia",
          "Costa Rica",
          "Croatia",
          "Cuba",
          "Cyprus",
          "Czechia",
          "Democratic Republic of the Congo",
          "Denmark",
          "Djibouti",
          "Dominican Republic",
          "East Timor",
          "Ecuador",
          "Egypt",
          "El Salvador",
          "Equatorial Guinea",
          "Eritrea",
          "Estonia",
          "Ethiopia",
          "Fiji",
          "Finland",
          "France",
          "French Southern and Antarctic Lands",
          "Gabon",
          "Georgia",
          "Germany",
          "Ghana",
          "Greece",
          "Greenland",
          "Guatemala",
          "Guinea",
          "Guinea-Bissau",
          "Guyana",
          "Haiti",
          "Honduras",
          "Hungary",
          "Iceland",
          "India",
          "Indonesia",
          "Iran",
          "Iraq",
          "Ireland",
          "Israel",
          "Italy",
          "Ivory Coast",
          "Jamaica",
          "Japan",
          "Jordan",
          "Kazakhstan",
          "Kenya",
          "Kosovo",
          "Kuwait",
          "Kyrgyzstan",
          "Laos",
          "Latvia",
          "Lebanon",
          "Liberia",
          "Libya",
          "Lithuania",
          "Luxembourg",
          "Madagascar",
          "Malawi",
          "Malaysia",
          "Mali",
          "Mauritania",
          "Mexico",
          "Moldova",
          "Mongolia",
          "Montenegro",
          "Morocco",
          "Mozambique",
          "Myanmar",
          "Namibia",
          "Nepal",
          "Netherlands",
          "New Zealand",
          "Nicaragua",
          "Niger",
          "Nigeria",
          "Norway",
          "Oman",
          "Pakistan",
          "Palestine",
          "Panama",
          "Papua New Guinea",
          "Paraguay",
          "Peru",
          "Philippines",
          "Poland",
          "Portugal",
          "Puerto Rico",
          "Qatar",
          "Romania",
          "Russia",
          "Rwanda",
          "Saudi Arabia",
          "Senegal",
          "Sierra Leone",
          "Slovakia",
          "Slovenia",
          "Somalia",
          "South Africa",
          "South Korea",
          "South Sudan",
          "Spain",
          "Sri Lanka",
          "Sudan",
          "Suriname",
          "Sweden",
          "Switzerland",
          "Syria",
          "Taiwan",
          "Thailand",
          "The Bahamas",
          "Togo",
          "Trinidad and Tobago",
          "Tunisia",
          "Turkey",
          "Uganda",
          "Ukraine",
          "United Arab Emirates",
          "United Kingdom",
          "United Republic of Tanzania",
          "United States of America",
          "Uruguay",
          "Uzbekistan",
          "Venezuela",
          "Vietnam",
          "Western Sahara",
          "Yemen",
          "Zambia",
          "Zimbabwe"
         ],
         "locations": [
          "AFG",
          "ALB",
          "DZA",
          "AGO",
          "ARG",
          "ARM",
          "AUS",
          "AUT",
          "AZE",
          "BGD",
          "BLR",
          "BEL",
          "BLZ",
          "BEN",
          "BTN",
          "BOL",
          "BIH",
          "BWA",
          "BRA",
          "BRN",
          "BGR",
          "BFA",
          "BDI",
          "KHM",
          "CMR",
          "CAN",
          "CAF",
          "TCD",
          "CHL",
          "CHN",
          "COL",
          "CRI",
          "HRV",
          "CUB",
          "CYP",
          "CZE",
          "COD",
          "DNK",
          "DJI",
          "DOM",
          "TLS",
          "ECU",
          "EGY",
          "SLV",
          "GNQ",
          "ERI",
          "EST",
          "ETH",
          "FJI",
          "FIN",
          "FRA",
          "ATF",
          "GAB",
          "GEO",
          "DEU",
          "GHA",
          "GRC",
          "GRL",
          "GTM",
          "GIN",
          "GNB",
          "GUY",
          "HTI",
          "HND",
          "HUN",
          "ISL",
          "IND",
          "IDN",
          "IRN",
          "IRQ",
          "IRL",
          "ISR",
          "ITA",
          "CIV",
          "JAM",
          "JPN",
          "JOR",
          "KAZ",
          "KEN",
          "KOS",
          "KWT",
          "KGZ",
          "LAO",
          "LVA",
          "LBN",
          "LBR",
          "LBY",
          "LTU",
          "LUX",
          "MDG",
          "MWI",
          "MYS",
          "MLI",
          "MRT",
          "MEX",
          "MDA",
          "MNG",
          "MNE",
          "MAR",
          "MOZ",
          "MMR",
          "NAM",
          "NPL",
          "NLD",
          "NZL",
          "NIC",
          "NER",
          "NGA",
          "NOR",
          "OMN",
          "PAK",
          "PSX",
          "PAN",
          "PNG",
          "PRY",
          "PER",
          "PHL",
          "POL",
          "PRT",
          "PRI",
          "QAT",
          "ROU",
          "RUS",
          "RWA",
          "SAU",
          "SEN",
          "SLE",
          "SVK",
          "SVN",
          "SOM",
          "ZAF",
          "KOR",
          "SDS",
          "ESP",
          "LKA",
          "SDN",
          "SUR",
          "SWE",
          "CHE",
          "SYR",
          "TWN",
          "THA",
          "BHS",
          "TGO",
          "TTO",
          "TUN",
          "TUR",
          "UGA",
          "UKR",
          "ARE",
          "GBR",
          "TZA",
          "USA",
          "URY",
          "UZB",
          "VEN",
          "VNM",
          "SAH",
          "YEM",
          "ZMB",
          "ZWE"
         ],
         "name": "",
         "type": "choropleth",
         "z": [
          4903,
          5751,
          18293,
          186,
          21515,
          12086,
          92717,
          206692,
          8319,
          2134,
          9381,
          291300,
          78,
          287,
          95,
          2467,
          9672,
          73,
          162653,
          3032,
          8946,
          5484,
          31,
          2404,
          6916,
          210562,
          111,
          127,
          64417,
          4993339,
          22625,
          7612,
          18532,
          4624,
          6677,
          72952,
          2726,
          79935,
          956,
          24389,
          1,
          56929,
          19853,
          853,
          294,
          344,
          17994,
          649,
          165,
          34152,
          1346881,
          117,
          364,
          3049,
          1603482,
          3739,
          38665,
          3,
          1046,
          1333,
          251,
          423,
          324,
          3603,
          11282,
          26193,
          54444,
          36800,
          1114864,
          16394,
          76308,
          122339,
          2519539,
          4104,
          941,
          66007,
          5780,
          8008,
          1833,
          2151,
          10602,
          2527,
          174,
          8584,
          10565,
          210,
          209,
          11708,
          45346,
          1048,
          52,
          65154,
          621,
          108,
          28596,
          11385,
          298,
          2786,
          14252,
          180,
          268,
          249,
          172,
          285555,
          13999,
          91,
          2460,
          3220,
          108528,
          5052,
          50035,
          86,
          26349,
          27,
          1584,
          37071,
          45402,
          58832,
          162633,
          3,
          27068,
          54504,
          104033,
          1588,
          37761,
          3699,
          51,
          8885,
          18710,
          120,
          26997,
          359208,
          13,
          2074060,
          3235,
          172,
          188,
          115981,
          370191,
          224,
          8169,
          36109,
          3,
          820,
          2197,
          8137,
          356377,
          711,
          16904,
          25645,
          669545,
          395,
          4616005,
          6743,
          5011,
          2891,
          5356,
          24,
          1,
          582,
          153
         ]
        }
       ],
       "layout": {
        "coloraxis": {
         "colorbar": {
          "title": {
           "text": "Confirmed"
          }
         },
         "colorscale": [
          [
           0,
           "rgb(0, 128, 128)"
          ],
          [
           0.16666666666666666,
           "rgb(112, 164, 148)"
          ],
          [
           0.3333333333333333,
           "rgb(180, 200, 168)"
          ],
          [
           0.5,
           "rgb(246, 237, 189)"
          ],
          [
           0.6666666666666666,
           "rgb(237, 187, 138)"
          ],
          [
           0.8333333333333334,
           "rgb(222, 138, 90)"
          ],
          [
           1,
           "rgb(202, 86, 44)"
          ]
         ]
        },
        "geo": {
         "center": {},
         "domain": {
          "x": [
           0,
           0.98
          ],
          "y": [
           0,
           1
          ]
         }
        },
        "height": 600,
        "legend": {
         "tracegroupgap": 0
        },
        "margin": {
         "t": 60
        },
        "template": {
         "data": {
          "bar": [
           {
            "error_x": {
             "color": "#2a3f5f"
            },
            "error_y": {
             "color": "#2a3f5f"
            },
            "marker": {
             "line": {
              "color": "#E5ECF6",
              "width": 0.5
             }
            },
            "type": "bar"
           }
          ],
          "barpolar": [
           {
            "marker": {
             "line": {
              "color": "#E5ECF6",
              "width": 0.5
             }
            },
            "type": "barpolar"
           }
          ],
          "carpet": [
           {
            "aaxis": {
             "endlinecolor": "#2a3f5f",
             "gridcolor": "white",
             "linecolor": "white",
             "minorgridcolor": "white",
             "startlinecolor": "#2a3f5f"
            },
            "baxis": {
             "endlinecolor": "#2a3f5f",
             "gridcolor": "white",
             "linecolor": "white",
             "minorgridcolor": "white",
             "startlinecolor": "#2a3f5f"
            },
            "type": "carpet"
           }
          ],
          "choropleth": [
           {
            "colorbar": {
             "outlinewidth": 0,
             "ticks": ""
            },
            "type": "choropleth"
           }
          ],
          "contour": [
           {
            "colorbar": {
             "outlinewidth": 0,
             "ticks": ""
            },
            "colorscale": [
             [
              0,
              "#0d0887"
             ],
             [
              0.1111111111111111,
              "#46039f"
             ],
             [
              0.2222222222222222,
              "#7201a8"
             ],
             [
              0.3333333333333333,
              "#9c179e"
             ],
             [
              0.4444444444444444,
              "#bd3786"
             ],
             [
              0.5555555555555556,
              "#d8576b"
             ],
             [
              0.6666666666666666,
              "#ed7953"
             ],
             [
              0.7777777777777778,
              "#fb9f3a"
             ],
             [
              0.8888888888888888,
              "#fdca26"
             ],
             [
              1,
              "#f0f921"
             ]
            ],
            "type": "contour"
           }
          ],
          "contourcarpet": [
           {
            "colorbar": {
             "outlinewidth": 0,
             "ticks": ""
            },
            "type": "contourcarpet"
           }
          ],
          "heatmap": [
           {
            "colorbar": {
             "outlinewidth": 0,
             "ticks": ""
            },
            "colorscale": [
             [
              0,
              "#0d0887"
             ],
             [
              0.1111111111111111,
              "#46039f"
             ],
             [
              0.2222222222222222,
              "#7201a8"
             ],
             [
              0.3333333333333333,
              "#9c179e"
             ],
             [
              0.4444444444444444,
              "#bd3786"
             ],
             [
              0.5555555555555556,
              "#d8576b"
             ],
             [
              0.6666666666666666,
              "#ed7953"
             ],
             [
              0.7777777777777778,
              "#fb9f3a"
             ],
             [
              0.8888888888888888,
              "#fdca26"
             ],
             [
              1,
              "#f0f921"
             ]
            ],
            "type": "heatmap"
           }
          ],
          "heatmapgl": [
           {
            "colorbar": {
             "outlinewidth": 0,
             "ticks": ""
            },
            "colorscale": [
             [
              0,
              "#0d0887"
             ],
             [
              0.1111111111111111,
              "#46039f"
             ],
             [
              0.2222222222222222,
              "#7201a8"
             ],
             [
              0.3333333333333333,
              "#9c179e"
             ],
             [
              0.4444444444444444,
              "#bd3786"
             ],
             [
              0.5555555555555556,
              "#d8576b"
             ],
             [
              0.6666666666666666,
              "#ed7953"
             ],
             [
              0.7777777777777778,
              "#fb9f3a"
             ],
             [
              0.8888888888888888,
              "#fdca26"
             ],
             [
              1,
              "#f0f921"
             ]
            ],
            "type": "heatmapgl"
           }
          ],
          "histogram": [
           {
            "marker": {
             "colorbar": {
              "outlinewidth": 0,
              "ticks": ""
             }
            },
            "type": "histogram"
           }
          ],
          "histogram2d": [
           {
            "colorbar": {
             "outlinewidth": 0,
             "ticks": ""
            },
            "colorscale": [
             [
              0,
              "#0d0887"
             ],
             [
              0.1111111111111111,
              "#46039f"
             ],
             [
              0.2222222222222222,
              "#7201a8"
             ],
             [
              0.3333333333333333,
              "#9c179e"
             ],
             [
              0.4444444444444444,
              "#bd3786"
             ],
             [
              0.5555555555555556,
              "#d8576b"
             ],
             [
              0.6666666666666666,
              "#ed7953"
             ],
             [
              0.7777777777777778,
              "#fb9f3a"
             ],
             [
              0.8888888888888888,
              "#fdca26"
             ],
             [
              1,
              "#f0f921"
             ]
            ],
            "type": "histogram2d"
           }
          ],
          "histogram2dcontour": [
           {
            "colorbar": {
             "outlinewidth": 0,
             "ticks": ""
            },
            "colorscale": [
             [
              0,
              "#0d0887"
             ],
             [
              0.1111111111111111,
              "#46039f"
             ],
             [
              0.2222222222222222,
              "#7201a8"
             ],
             [
              0.3333333333333333,
              "#9c179e"
             ],
             [
              0.4444444444444444,
              "#bd3786"
             ],
             [
              0.5555555555555556,
              "#d8576b"
             ],
             [
              0.6666666666666666,
              "#ed7953"
             ],
             [
              0.7777777777777778,
              "#fb9f3a"
             ],
             [
              0.8888888888888888,
              "#fdca26"
             ],
             [
              1,
              "#f0f921"
             ]
            ],
            "type": "histogram2dcontour"
           }
          ],
          "mesh3d": [
           {
            "colorbar": {
             "outlinewidth": 0,
             "ticks": ""
            },
            "type": "mesh3d"
           }
          ],
          "parcoords": [
           {
            "line": {
             "colorbar": {
              "outlinewidth": 0,
              "ticks": ""
             }
            },
            "type": "parcoords"
           }
          ],
          "scatter": [
           {
            "marker": {
             "colorbar": {
              "outlinewidth": 0,
              "ticks": ""
             }
            },
            "type": "scatter"
           }
          ],
          "scatter3d": [
           {
            "line": {
             "colorbar": {
              "outlinewidth": 0,
              "ticks": ""
             }
            },
            "marker": {
             "colorbar": {
              "outlinewidth": 0,
              "ticks": ""
             }
            },
            "type": "scatter3d"
           }
          ],
          "scattercarpet": [
           {
            "marker": {
             "colorbar": {
              "outlinewidth": 0,
              "ticks": ""
             }
            },
            "type": "scattercarpet"
           }
          ],
          "scattergeo": [
           {
            "marker": {
             "colorbar": {
              "outlinewidth": 0,
              "ticks": ""
             }
            },
            "type": "scattergeo"
           }
          ],
          "scattergl": [
           {
            "marker": {
             "colorbar": {
              "outlinewidth": 0,
              "ticks": ""
             }
            },
            "type": "scattergl"
           }
          ],
          "scattermapbox": [
           {
            "marker": {
             "colorbar": {
              "outlinewidth": 0,
              "ticks": ""
             }
            },
            "type": "scattermapbox"
           }
          ],
          "scatterpolar": [
           {
            "marker": {
             "colorbar": {
              "outlinewidth": 0,
              "ticks": ""
             }
            },
            "type": "scatterpolar"
           }
          ],
          "scatterpolargl": [
           {
            "marker": {
             "colorbar": {
              "outlinewidth": 0,
              "ticks": ""
             }
            },
            "type": "scatterpolargl"
           }
          ],
          "scatterternary": [
           {
            "marker": {
             "colorbar": {
              "outlinewidth": 0,
              "ticks": ""
             }
            },
            "type": "scatterternary"
           }
          ],
          "surface": [
           {
            "colorbar": {
             "outlinewidth": 0,
             "ticks": ""
            },
            "colorscale": [
             [
              0,
              "#0d0887"
             ],
             [
              0.1111111111111111,
              "#46039f"
             ],
             [
              0.2222222222222222,
              "#7201a8"
             ],
             [
              0.3333333333333333,
              "#9c179e"
             ],
             [
              0.4444444444444444,
              "#bd3786"
             ],
             [
              0.5555555555555556,
              "#d8576b"
             ],
             [
              0.6666666666666666,
              "#ed7953"
             ],
             [
              0.7777777777777778,
              "#fb9f3a"
             ],
             [
              0.8888888888888888,
              "#fdca26"
             ],
             [
              1,
              "#f0f921"
             ]
            ],
            "type": "surface"
           }
          ],
          "table": [
           {
            "cells": {
             "fill": {
              "color": "#EBF0F8"
             },
             "line": {
              "color": "white"
             }
            },
            "header": {
             "fill": {
              "color": "#C8D4E3"
             },
             "line": {
              "color": "white"
             }
            },
            "type": "table"
           }
          ]
         },
         "layout": {
          "annotationdefaults": {
           "arrowcolor": "#2a3f5f",
           "arrowhead": 0,
           "arrowwidth": 1
          },
          "colorscale": {
           "diverging": [
            [
             0,
             "#8e0152"
            ],
            [
             0.1,
             "#c51b7d"
            ],
            [
             0.2,
             "#de77ae"
            ],
            [
             0.3,
             "#f1b6da"
            ],
            [
             0.4,
             "#fde0ef"
            ],
            [
             0.5,
             "#f7f7f7"
            ],
            [
             0.6,
             "#e6f5d0"
            ],
            [
             0.7,
             "#b8e186"
            ],
            [
             0.8,
             "#7fbc41"
            ],
            [
             0.9,
             "#4d9221"
            ],
            [
             1,
             "#276419"
            ]
           ],
           "sequential": [
            [
             0,
             "#0d0887"
            ],
            [
             0.1111111111111111,
             "#46039f"
            ],
            [
             0.2222222222222222,
             "#7201a8"
            ],
            [
             0.3333333333333333,
             "#9c179e"
            ],
            [
             0.4444444444444444,
             "#bd3786"
            ],
            [
             0.5555555555555556,
             "#d8576b"
            ],
            [
             0.6666666666666666,
             "#ed7953"
            ],
            [
             0.7777777777777778,
             "#fb9f3a"
            ],
            [
             0.8888888888888888,
             "#fdca26"
            ],
            [
             1,
             "#f0f921"
            ]
           ],
           "sequentialminus": [
            [
             0,
             "#0d0887"
            ],
            [
             0.1111111111111111,
             "#46039f"
            ],
            [
             0.2222222222222222,
             "#7201a8"
            ],
            [
             0.3333333333333333,
             "#9c179e"
            ],
            [
             0.4444444444444444,
             "#bd3786"
            ],
            [
             0.5555555555555556,
             "#d8576b"
            ],
            [
             0.6666666666666666,
             "#ed7953"
            ],
            [
             0.7777777777777778,
             "#fb9f3a"
            ],
            [
             0.8888888888888888,
             "#fdca26"
            ],
            [
             1,
             "#f0f921"
            ]
           ]
          },
          "colorway": [
           "#636efa",
           "#EF553B",
           "#00cc96",
           "#ab63fa",
           "#FFA15A",
           "#19d3f3",
           "#FF6692",
           "#B6E880",
           "#FF97FF",
           "#FECB52"
          ],
          "font": {
           "color": "#2a3f5f"
          },
          "geo": {
           "bgcolor": "white",
           "lakecolor": "white",
           "landcolor": "#E5ECF6",
           "showlakes": true,
           "showland": true,
           "subunitcolor": "white"
          },
          "hoverlabel": {
           "align": "left"
          },
          "hovermode": "closest",
          "mapbox": {
           "style": "light"
          },
          "paper_bgcolor": "white",
          "plot_bgcolor": "#E5ECF6",
          "polar": {
           "angularaxis": {
            "gridcolor": "white",
            "linecolor": "white",
            "ticks": ""
           },
           "bgcolor": "#E5ECF6",
           "radialaxis": {
            "gridcolor": "white",
            "linecolor": "white",
            "ticks": ""
           }
          },
          "scene": {
           "xaxis": {
            "backgroundcolor": "#E5ECF6",
            "gridcolor": "white",
            "gridwidth": 2,
            "linecolor": "white",
            "showbackground": true,
            "ticks": "",
            "zerolinecolor": "white"
           },
           "yaxis": {
            "backgroundcolor": "#E5ECF6",
            "gridcolor": "white",
            "gridwidth": 2,
            "linecolor": "white",
            "showbackground": true,
            "ticks": "",
            "zerolinecolor": "white"
           },
           "zaxis": {
            "backgroundcolor": "#E5ECF6",
            "gridcolor": "white",
            "gridwidth": 2,
            "linecolor": "white",
            "showbackground": true,
            "ticks": "",
            "zerolinecolor": "white"
           }
          },
          "shapedefaults": {
           "line": {
            "color": "#2a3f5f"
           }
          },
          "ternary": {
           "aaxis": {
            "gridcolor": "white",
            "linecolor": "white",
            "ticks": ""
           },
           "baxis": {
            "gridcolor": "white",
            "linecolor": "white",
            "ticks": ""
           },
           "bgcolor": "#E5ECF6",
           "caxis": {
            "gridcolor": "white",
            "linecolor": "white",
            "ticks": ""
           }
          },
          "title": {
           "x": 0.05
          },
          "xaxis": {
           "automargin": true,
           "gridcolor": "white",
           "linecolor": "white",
           "ticks": "",
           "zerolinecolor": "white",
           "zerolinewidth": 2
          },
          "yaxis": {
           "automargin": true,
           "gridcolor": "white",
           "linecolor": "white",
           "ticks": "",
           "zerolinecolor": "white",
           "zerolinewidth": 2
          }
         }
        }
       }
      },
      "text/html": [
       "<div>\n",
       "        \n",
       "        \n",
       "            <div id=\"77f46a37-92c7-41ab-9462-bcae2a60fcfe\" class=\"plotly-graph-div\" style=\"height:600px; width:100%;\"></div>\n",
       "            <script type=\"text/javascript\">\n",
       "                require([\"plotly\"], function(Plotly) {\n",
       "                    window.PLOTLYENV=window.PLOTLYENV || {};\n",
       "                    \n",
       "                if (document.getElementById(\"77f46a37-92c7-41ab-9462-bcae2a60fcfe\")) {\n",
       "                    Plotly.newPlot(\n",
       "                        '77f46a37-92c7-41ab-9462-bcae2a60fcfe',\n",
       "                        [{\"coloraxis\": \"coloraxis\", \"geo\": \"geo\", \"hoverlabel\": {\"namelength\": 0}, \"hovertemplate\": \"<b>%{hovertext}</b><br><br>Country_code=%{location}<br>Confirmed=%{z}\", \"hovertext\": [\"Afghanistan\", \"Albania\", \"Algeria\", \"Angola\", \"Argentina\", \"Armenia\", \"Australia\", \"Austria\", \"Azerbaijan\", \"Bangladesh\", \"Belarus\", \"Belgium\", \"Belize\", \"Benin\", \"Bhutan\", \"Bolivia\", \"Bosnia and Herzegovina\", \"Botswana\", \"Brazil\", \"Brunei\", \"Bulgaria\", \"Burkina Faso\", \"Burundi\", \"Cambodia\", \"Cameroon\", \"Canada\", \"Central African Republic\", \"Chad\", \"Chile\", \"China\", \"Colombia\", \"Costa Rica\", \"Croatia\", \"Cuba\", \"Cyprus\", \"Czechia\", \"Democratic Republic of the Congo\", \"Denmark\", \"Djibouti\", \"Dominican Republic\", \"East Timor\", \"Ecuador\", \"Egypt\", \"El Salvador\", \"Equatorial Guinea\", \"Eritrea\", \"Estonia\", \"Ethiopia\", \"Fiji\", \"Finland\", \"France\", \"French Southern and Antarctic Lands\", \"Gabon\", \"Georgia\", \"Germany\", \"Ghana\", \"Greece\", \"Greenland\", \"Guatemala\", \"Guinea\", \"Guinea-Bissau\", \"Guyana\", \"Haiti\", \"Honduras\", \"Hungary\", \"Iceland\", \"India\", \"Indonesia\", \"Iran\", \"Iraq\", \"Ireland\", \"Israel\", \"Italy\", \"Ivory Coast\", \"Jamaica\", \"Japan\", \"Jordan\", \"Kazakhstan\", \"Kenya\", \"Kosovo\", \"Kuwait\", \"Kyrgyzstan\", \"Laos\", \"Latvia\", \"Lebanon\", \"Liberia\", \"Libya\", \"Lithuania\", \"Luxembourg\", \"Madagascar\", \"Malawi\", \"Malaysia\", \"Mali\", \"Mauritania\", \"Mexico\", \"Moldova\", \"Mongolia\", \"Montenegro\", \"Morocco\", \"Mozambique\", \"Myanmar\", \"Namibia\", \"Nepal\", \"Netherlands\", \"New Zealand\", \"Nicaragua\", \"Niger\", \"Nigeria\", \"Norway\", \"Oman\", \"Pakistan\", \"Palestine\", \"Panama\", \"Papua New Guinea\", \"Paraguay\", \"Peru\", \"Philippines\", \"Poland\", \"Portugal\", \"Puerto Rico\", \"Qatar\", \"Romania\", \"Russia\", \"Rwanda\", \"Saudi Arabia\", \"Senegal\", \"Sierra Leone\", \"Slovakia\", \"Slovenia\", \"Somalia\", \"South Africa\", \"South Korea\", \"South Sudan\", \"Spain\", \"Sri Lanka\", \"Sudan\", \"Suriname\", \"Sweden\", \"Switzerland\", \"Syria\", \"Taiwan\", \"Thailand\", \"The Bahamas\", \"Togo\", \"Trinidad and Tobago\", \"Tunisia\", \"Turkey\", \"Uganda\", \"Ukraine\", \"United Arab Emirates\", \"United Kingdom\", \"United Republic of Tanzania\", \"United States of America\", \"Uruguay\", \"Uzbekistan\", \"Venezuela\", \"Vietnam\", \"Western Sahara\", \"Yemen\", \"Zambia\", \"Zimbabwe\"], \"locations\": [\"AFG\", \"ALB\", \"DZA\", \"AGO\", \"ARG\", \"ARM\", \"AUS\", \"AUT\", \"AZE\", \"BGD\", \"BLR\", \"BEL\", \"BLZ\", \"BEN\", \"BTN\", \"BOL\", \"BIH\", \"BWA\", \"BRA\", \"BRN\", \"BGR\", \"BFA\", \"BDI\", \"KHM\", \"CMR\", \"CAN\", \"CAF\", \"TCD\", \"CHL\", \"CHN\", \"COL\", \"CRI\", \"HRV\", \"CUB\", \"CYP\", \"CZE\", \"COD\", \"DNK\", \"DJI\", \"DOM\", \"TLS\", \"ECU\", \"EGY\", \"SLV\", \"GNQ\", \"ERI\", \"EST\", \"ETH\", \"FJI\", \"FIN\", \"FRA\", \"ATF\", \"GAB\", \"GEO\", \"DEU\", \"GHA\", \"GRC\", \"GRL\", \"GTM\", \"GIN\", \"GNB\", \"GUY\", \"HTI\", \"HND\", \"HUN\", \"ISL\", \"IND\", \"IDN\", \"IRN\", \"IRQ\", \"IRL\", \"ISR\", \"ITA\", \"CIV\", \"JAM\", \"JPN\", \"JOR\", \"KAZ\", \"KEN\", \"KOS\", \"KWT\", \"KGZ\", \"LAO\", \"LVA\", \"LBN\", \"LBR\", \"LBY\", \"LTU\", \"LUX\", \"MDG\", \"MWI\", \"MYS\", \"MLI\", \"MRT\", \"MEX\", \"MDA\", \"MNG\", \"MNE\", \"MAR\", \"MOZ\", \"MMR\", \"NAM\", \"NPL\", \"NLD\", \"NZL\", \"NIC\", \"NER\", \"NGA\", \"NOR\", \"OMN\", \"PAK\", \"PSX\", \"PAN\", \"PNG\", \"PRY\", \"PER\", \"PHL\", \"POL\", \"PRT\", \"PRI\", \"QAT\", \"ROU\", \"RUS\", \"RWA\", \"SAU\", \"SEN\", \"SLE\", \"SVK\", \"SVN\", \"SOM\", \"ZAF\", \"KOR\", \"SDS\", \"ESP\", \"LKA\", \"SDN\", \"SUR\", \"SWE\", \"CHE\", \"SYR\", \"TWN\", \"THA\", \"BHS\", \"TGO\", \"TTO\", \"TUN\", \"TUR\", \"UGA\", \"UKR\", \"ARE\", \"GBR\", \"TZA\", \"USA\", \"URY\", \"UZB\", \"VEN\", \"VNM\", \"SAH\", \"YEM\", \"ZMB\", \"ZWE\"], \"name\": \"\", \"type\": \"choropleth\", \"z\": [4903.0, 5751.0, 18293.0, 186.0, 21515.0, 12086.0, 92717.0, 206692.0, 8319.0, 2134.0, 9381.0, 291300.0, 78.0, 287.0, 95.0, 2467.0, 9672.0, 73.0, 162653.0, 3032.0, 8946.0, 5484.0, 31.0, 2404.0, 6916.0, 210562.0, 111.0, 127.0, 64417.0, 4993339.0, 22625.0, 7612.0, 18532.0, 4624.0, 6677.0, 72952.0, 2726.0, 79935.0, 956.0, 24389.0, 1.0, 56929.0, 19853.0, 853.0, 294.0, 344.0, 17994.0, 649.0, 165.0, 34152.0, 1346881.0, 117.0, 364.0, 3049.0, 1603482.0, 3739.0, 38665.0, 3.0, 1046.0, 1333.0, 251.0, 423.0, 324.0, 3603.0, 11282.0, 26193.0, 54444.0, 36800.0, 1114864.0, 16394.0, 76308.0, 122339.0, 2519539.0, 4104.0, 941.0, 66007.0, 5780.0, 8008.0, 1833.0, 2151.0, 10602.0, 2527.0, 174.0, 8584.0, 10565.0, 210.0, 209.0, 11708.0, 45346.0, 1048.0, 52.0, 65154.0, 621.0, 108.0, 28596.0, 11385.0, 298.0, 2786.0, 14252.0, 180.0, 268.0, 249.0, 172.0, 285555.0, 13999.0, 91.0, 2460.0, 3220.0, 108528.0, 5052.0, 50035.0, 86.0, 26349.0, 27.0, 1584.0, 37071.0, 45402.0, 58832.0, 162633.0, 3.0, 27068.0, 54504.0, 104033.0, 1588.0, 37761.0, 3699.0, 51.0, 8885.0, 18710.0, 120.0, 26997.0, 359208.0, 13.0, 2074060.0, 3235.0, 172.0, 188.0, 115981.0, 370191.0, 224.0, 8169.0, 36109.0, 3.0, 820.0, 2197.0, 8137.0, 356377.0, 711.0, 16904.0, 25645.0, 669545.0, 395.0, 4616005.0, 6743.0, 5011.0, 2891.0, 5356.0, 24.0, 1.0, 582.0, 153.0]}],\n",
       "                        {\"coloraxis\": {\"colorbar\": {\"title\": {\"text\": \"Confirmed\"}}, \"colorscale\": [[0.0, \"rgb(0, 128, 128)\"], [0.16666666666666666, \"rgb(112, 164, 148)\"], [0.3333333333333333, \"rgb(180, 200, 168)\"], [0.5, \"rgb(246, 237, 189)\"], [0.6666666666666666, \"rgb(237, 187, 138)\"], [0.8333333333333334, \"rgb(222, 138, 90)\"], [1.0, \"rgb(202, 86, 44)\"]]}, \"geo\": {\"center\": {}, \"domain\": {\"x\": [0.0, 0.98], \"y\": [0.0, 1.0]}}, \"height\": 600, \"legend\": {\"tracegroupgap\": 0}, \"margin\": {\"t\": 60}, \"template\": {\"data\": {\"bar\": [{\"error_x\": {\"color\": \"#2a3f5f\"}, \"error_y\": {\"color\": \"#2a3f5f\"}, \"marker\": {\"line\": {\"color\": \"#E5ECF6\", \"width\": 0.5}}, \"type\": \"bar\"}], \"barpolar\": [{\"marker\": {\"line\": {\"color\": \"#E5ECF6\", \"width\": 0.5}}, \"type\": \"barpolar\"}], \"carpet\": [{\"aaxis\": {\"endlinecolor\": \"#2a3f5f\", \"gridcolor\": \"white\", \"linecolor\": \"white\", \"minorgridcolor\": \"white\", \"startlinecolor\": \"#2a3f5f\"}, \"baxis\": {\"endlinecolor\": \"#2a3f5f\", \"gridcolor\": \"white\", \"linecolor\": \"white\", \"minorgridcolor\": \"white\", \"startlinecolor\": \"#2a3f5f\"}, \"type\": \"carpet\"}], \"choropleth\": [{\"colorbar\": {\"outlinewidth\": 0, \"ticks\": \"\"}, \"type\": \"choropleth\"}], \"contour\": [{\"colorbar\": {\"outlinewidth\": 0, \"ticks\": \"\"}, \"colorscale\": [[0.0, \"#0d0887\"], [0.1111111111111111, \"#46039f\"], [0.2222222222222222, \"#7201a8\"], [0.3333333333333333, \"#9c179e\"], [0.4444444444444444, \"#bd3786\"], [0.5555555555555556, \"#d8576b\"], [0.6666666666666666, \"#ed7953\"], [0.7777777777777778, \"#fb9f3a\"], [0.8888888888888888, \"#fdca26\"], [1.0, \"#f0f921\"]], \"type\": \"contour\"}], \"contourcarpet\": [{\"colorbar\": {\"outlinewidth\": 0, \"ticks\": \"\"}, \"type\": \"contourcarpet\"}], \"heatmap\": [{\"colorbar\": {\"outlinewidth\": 0, \"ticks\": \"\"}, \"colorscale\": [[0.0, \"#0d0887\"], [0.1111111111111111, \"#46039f\"], [0.2222222222222222, \"#7201a8\"], [0.3333333333333333, \"#9c179e\"], [0.4444444444444444, \"#bd3786\"], [0.5555555555555556, \"#d8576b\"], [0.6666666666666666, \"#ed7953\"], [0.7777777777777778, \"#fb9f3a\"], [0.8888888888888888, \"#fdca26\"], [1.0, \"#f0f921\"]], \"type\": \"heatmap\"}], \"heatmapgl\": [{\"colorbar\": {\"outlinewidth\": 0, \"ticks\": \"\"}, \"colorscale\": [[0.0, \"#0d0887\"], [0.1111111111111111, \"#46039f\"], [0.2222222222222222, \"#7201a8\"], [0.3333333333333333, \"#9c179e\"], [0.4444444444444444, \"#bd3786\"], [0.5555555555555556, \"#d8576b\"], [0.6666666666666666, \"#ed7953\"], [0.7777777777777778, \"#fb9f3a\"], [0.8888888888888888, \"#fdca26\"], [1.0, \"#f0f921\"]], \"type\": \"heatmapgl\"}], \"histogram\": [{\"marker\": {\"colorbar\": {\"outlinewidth\": 0, \"ticks\": \"\"}}, \"type\": \"histogram\"}], \"histogram2d\": [{\"colorbar\": {\"outlinewidth\": 0, \"ticks\": \"\"}, \"colorscale\": [[0.0, \"#0d0887\"], [0.1111111111111111, \"#46039f\"], [0.2222222222222222, \"#7201a8\"], [0.3333333333333333, \"#9c179e\"], [0.4444444444444444, \"#bd3786\"], [0.5555555555555556, \"#d8576b\"], [0.6666666666666666, \"#ed7953\"], [0.7777777777777778, \"#fb9f3a\"], [0.8888888888888888, \"#fdca26\"], [1.0, \"#f0f921\"]], \"type\": \"histogram2d\"}], \"histogram2dcontour\": [{\"colorbar\": {\"outlinewidth\": 0, \"ticks\": \"\"}, \"colorscale\": [[0.0, \"#0d0887\"], [0.1111111111111111, \"#46039f\"], [0.2222222222222222, \"#7201a8\"], [0.3333333333333333, \"#9c179e\"], [0.4444444444444444, \"#bd3786\"], [0.5555555555555556, \"#d8576b\"], [0.6666666666666666, \"#ed7953\"], [0.7777777777777778, \"#fb9f3a\"], [0.8888888888888888, \"#fdca26\"], [1.0, \"#f0f921\"]], \"type\": \"histogram2dcontour\"}], \"mesh3d\": [{\"colorbar\": {\"outlinewidth\": 0, \"ticks\": \"\"}, \"type\": \"mesh3d\"}], \"parcoords\": [{\"line\": {\"colorbar\": {\"outlinewidth\": 0, \"ticks\": \"\"}}, \"type\": \"parcoords\"}], \"scatter\": [{\"marker\": {\"colorbar\": {\"outlinewidth\": 0, \"ticks\": \"\"}}, \"type\": \"scatter\"}], \"scatter3d\": [{\"line\": {\"colorbar\": {\"outlinewidth\": 0, \"ticks\": \"\"}}, \"marker\": {\"colorbar\": {\"outlinewidth\": 0, \"ticks\": \"\"}}, \"type\": \"scatter3d\"}], \"scattercarpet\": [{\"marker\": {\"colorbar\": {\"outlinewidth\": 0, \"ticks\": \"\"}}, \"type\": \"scattercarpet\"}], \"scattergeo\": [{\"marker\": {\"colorbar\": {\"outlinewidth\": 0, \"ticks\": \"\"}}, \"type\": \"scattergeo\"}], \"scattergl\": [{\"marker\": {\"colorbar\": {\"outlinewidth\": 0, \"ticks\": \"\"}}, \"type\": \"scattergl\"}], \"scattermapbox\": [{\"marker\": {\"colorbar\": {\"outlinewidth\": 0, \"ticks\": \"\"}}, \"type\": \"scattermapbox\"}], \"scatterpolar\": [{\"marker\": {\"colorbar\": {\"outlinewidth\": 0, \"ticks\": \"\"}}, \"type\": \"scatterpolar\"}], \"scatterpolargl\": [{\"marker\": {\"colorbar\": {\"outlinewidth\": 0, \"ticks\": \"\"}}, \"type\": \"scatterpolargl\"}], \"scatterternary\": [{\"marker\": {\"colorbar\": {\"outlinewidth\": 0, \"ticks\": \"\"}}, \"type\": \"scatterternary\"}], \"surface\": [{\"colorbar\": {\"outlinewidth\": 0, \"ticks\": \"\"}, \"colorscale\": [[0.0, \"#0d0887\"], [0.1111111111111111, \"#46039f\"], [0.2222222222222222, \"#7201a8\"], [0.3333333333333333, \"#9c179e\"], [0.4444444444444444, \"#bd3786\"], [0.5555555555555556, \"#d8576b\"], [0.6666666666666666, \"#ed7953\"], [0.7777777777777778, \"#fb9f3a\"], [0.8888888888888888, \"#fdca26\"], [1.0, \"#f0f921\"]], \"type\": \"surface\"}], \"table\": [{\"cells\": {\"fill\": {\"color\": \"#EBF0F8\"}, \"line\": {\"color\": \"white\"}}, \"header\": {\"fill\": {\"color\": \"#C8D4E3\"}, \"line\": {\"color\": \"white\"}}, \"type\": \"table\"}]}, \"layout\": {\"annotationdefaults\": {\"arrowcolor\": \"#2a3f5f\", \"arrowhead\": 0, \"arrowwidth\": 1}, \"colorscale\": {\"diverging\": [[0, \"#8e0152\"], [0.1, \"#c51b7d\"], [0.2, \"#de77ae\"], [0.3, \"#f1b6da\"], [0.4, \"#fde0ef\"], [0.5, \"#f7f7f7\"], [0.6, \"#e6f5d0\"], [0.7, \"#b8e186\"], [0.8, \"#7fbc41\"], [0.9, \"#4d9221\"], [1, \"#276419\"]], \"sequential\": [[0.0, \"#0d0887\"], [0.1111111111111111, \"#46039f\"], [0.2222222222222222, \"#7201a8\"], [0.3333333333333333, \"#9c179e\"], [0.4444444444444444, \"#bd3786\"], [0.5555555555555556, \"#d8576b\"], [0.6666666666666666, \"#ed7953\"], [0.7777777777777778, \"#fb9f3a\"], [0.8888888888888888, \"#fdca26\"], [1.0, \"#f0f921\"]], \"sequentialminus\": [[0.0, \"#0d0887\"], [0.1111111111111111, \"#46039f\"], [0.2222222222222222, \"#7201a8\"], [0.3333333333333333, \"#9c179e\"], [0.4444444444444444, \"#bd3786\"], [0.5555555555555556, \"#d8576b\"], [0.6666666666666666, \"#ed7953\"], [0.7777777777777778, \"#fb9f3a\"], [0.8888888888888888, \"#fdca26\"], [1.0, \"#f0f921\"]]}, \"colorway\": [\"#636efa\", \"#EF553B\", \"#00cc96\", \"#ab63fa\", \"#FFA15A\", \"#19d3f3\", \"#FF6692\", \"#B6E880\", \"#FF97FF\", \"#FECB52\"], \"font\": {\"color\": \"#2a3f5f\"}, \"geo\": {\"bgcolor\": \"white\", \"lakecolor\": \"white\", \"landcolor\": \"#E5ECF6\", \"showlakes\": true, \"showland\": true, \"subunitcolor\": \"white\"}, \"hoverlabel\": {\"align\": \"left\"}, \"hovermode\": \"closest\", \"mapbox\": {\"style\": \"light\"}, \"paper_bgcolor\": \"white\", \"plot_bgcolor\": \"#E5ECF6\", \"polar\": {\"angularaxis\": {\"gridcolor\": \"white\", \"linecolor\": \"white\", \"ticks\": \"\"}, \"bgcolor\": \"#E5ECF6\", \"radialaxis\": {\"gridcolor\": \"white\", \"linecolor\": \"white\", \"ticks\": \"\"}}, \"scene\": {\"xaxis\": {\"backgroundcolor\": \"#E5ECF6\", \"gridcolor\": \"white\", \"gridwidth\": 2, \"linecolor\": \"white\", \"showbackground\": true, \"ticks\": \"\", \"zerolinecolor\": \"white\"}, \"yaxis\": {\"backgroundcolor\": \"#E5ECF6\", \"gridcolor\": \"white\", \"gridwidth\": 2, \"linecolor\": \"white\", \"showbackground\": true, \"ticks\": \"\", \"zerolinecolor\": \"white\"}, \"zaxis\": {\"backgroundcolor\": \"#E5ECF6\", \"gridcolor\": \"white\", \"gridwidth\": 2, \"linecolor\": \"white\", \"showbackground\": true, \"ticks\": \"\", \"zerolinecolor\": \"white\"}}, \"shapedefaults\": {\"line\": {\"color\": \"#2a3f5f\"}}, \"ternary\": {\"aaxis\": {\"gridcolor\": \"white\", \"linecolor\": \"white\", \"ticks\": \"\"}, \"baxis\": {\"gridcolor\": \"white\", \"linecolor\": \"white\", \"ticks\": \"\"}, \"bgcolor\": \"#E5ECF6\", \"caxis\": {\"gridcolor\": \"white\", \"linecolor\": \"white\", \"ticks\": \"\"}}, \"title\": {\"x\": 0.05}, \"xaxis\": {\"automargin\": true, \"gridcolor\": \"white\", \"linecolor\": \"white\", \"ticks\": \"\", \"zerolinecolor\": \"white\", \"zerolinewidth\": 2}, \"yaxis\": {\"automargin\": true, \"gridcolor\": \"white\", \"linecolor\": \"white\", \"ticks\": \"\", \"zerolinecolor\": \"white\", \"zerolinewidth\": 2}}}},\n",
       "                        {\"responsive\": true}\n",
       "                    ).then(function(){\n",
       "                            \n",
       "var gd = document.getElementById('77f46a37-92c7-41ab-9462-bcae2a60fcfe');\n",
       "var x = new MutationObserver(function (mutations, observer) {{\n",
       "        var display = window.getComputedStyle(gd).display;\n",
       "        if (!display || display === 'none') {{\n",
       "            console.log([gd, 'removed!']);\n",
       "            Plotly.purge(gd);\n",
       "            observer.disconnect();\n",
       "        }}\n",
       "}});\n",
       "\n",
       "// Listen for the removal of the full notebook cells\n",
       "var notebookContainer = gd.closest('#notebook-container');\n",
       "if (notebookContainer) {{\n",
       "    x.observe(notebookContainer, {childList: true});\n",
       "}}\n",
       "\n",
       "// Listen for the clearing of the current output cell\n",
       "var outputEl = gd.closest('.output');\n",
       "if (outputEl) {{\n",
       "    x.observe(outputEl, {childList: true});\n",
       "}}\n",
       "\n",
       "                        })\n",
       "                };\n",
       "                });\n",
       "            </script>\n",
       "        </div>"
      ]
     },
     "metadata": {},
     "output_type": "display_data"
    }
   ],
   "source": [
    "# Choropleth graph using plotly\n",
    "\n",
    "import plotly.express as px\n",
    "fig = px.choropleth(new_data, locations=\"Country_code\",\n",
    "                    color=\"Confirmed\", # lifeExp is a column of gapminder\n",
    "                    hover_name=\"Country\", # column to add to hover information\n",
    "                    color_continuous_scale=px.colors.diverging.Geyser)\n",
    "fig.show()"
   ]
  },
  {
   "cell_type": "code",
   "execution_count": 32,
   "metadata": {},
   "outputs": [],
   "source": [
    "# import plotly.express as px\n",
    "\n",
    "# fig = go.FigureWidget(data=go.Choropleth(locations = new_data['Country_code'],\n",
    "#     z = new_data['Confirmed'],\n",
    "#     text = new_data['Country'],\n",
    "#     colorscale = 'Blues',\n",
    "#     autocolorscale=False,\n",
    "#     reversescale=True,\n",
    "#     marker_line_color='darkgray',\n",
    "#     marker_line_width=0.5,\n",
    "#     colorbar_title = 'Total COVID-19 cases',\n",
    "# ))\n",
    "\n",
    "# fig.update_layout(\n",
    "#     title_text='2014 Global GDP',\n",
    "#     geo=dict(\n",
    "#         showframe=False,\n",
    "#         showcoastlines=False,\n",
    "#         projection_type='equirectangular'\n",
    "#     ))\n",
    "\n",
    "# out = Output()\n",
    "# @out.capture(clear_output=True)\n",
    "# def handle_click(trace, points, state):\n",
    "#     print(points.point_inds)\n",
    "\n",
    "# data.on_click(handle_click)\n",
    "\n",
    "# VBox([fig, out])\n",
    "\n",
    "# fig.show()"
   ]
  },
  {
   "cell_type": "code",
   "execution_count": 33,
   "metadata": {},
   "outputs": [],
   "source": [
    "# Extracting the data that needs to be plotted in a list\n",
    "\n",
    "fips=new_data['Country_code'].tolist()\n",
    "values=new_data['Confirmed'].tolist()\n",
    "country=new_data['Country'].tolist()"
   ]
  },
  {
   "cell_type": "code",
   "execution_count": 34,
   "metadata": {},
   "outputs": [
    {
     "data": {
      "application/vnd.jupyter.widget-view+json": {
       "model_id": "a65eebab391249d1a01b70f3dd09448c",
       "version_major": 2,
       "version_minor": 0
      },
      "text/plain": [
       "VBox(children=(FigureWidget({\n",
       "    'data': [{'colorscale': [[0.0, 'rgb(0, 128, 128)'], [0.16666666666666666,\n",
       "  …"
      ]
     },
     "metadata": {},
     "output_type": "display_data"
    }
   ],
   "source": [
    "# Plotting the geomap and getting the index number of country when clicked on\n",
    "\n",
    "from ipywidgets import VBox, HBox, Output\n",
    "\n",
    "d=[]\n",
    "f = go.FigureWidget([go.Choropleth(locations = fips, text = country, z=values)])\n",
    "\n",
    "trace=f.data[0]\n",
    "#colorscale=\"Blues\"\n",
    "trace.colorscale='Geyser'\n",
    "trace.hovertext=country\n",
    "#print(trace)\n",
    "out = Output()\n",
    "@out.capture(clear_output=True)\n",
    "def click_fn(trace, points, state):\n",
    "    print(points.point_inds[0])\n",
    "    #country=new_data.ix[x]['Country']\n",
    "    \n",
    "\n",
    "country_index=d\n",
    "trace.on_click(click_fn)\n",
    "\n",
    "# def select_country(value):\n",
    "#     for i in value:\n",
    "#         country=new_data.ix[i]['Country']\n",
    "#         print(country)\n",
    "#         fig=line_graph(country)\n",
    "#         return fig\n",
    "    \n",
    "# f2=select_country(country_index)\n",
    "\n",
    "VBox([f, out])"
   ]
  },
  {
   "cell_type": "code",
   "execution_count": 35,
   "metadata": {},
   "outputs": [
    {
     "data": {
      "application/vnd.jupyter.widget-view+json": {
       "model_id": "76414d9fe0174d6fa6b2b0f6f0de742a",
       "version_major": 2,
       "version_minor": 0
      },
      "text/plain": [
       "VBox(children=(FigureWidget({\n",
       "    'data': [{'colorscale': [[0.0, 'rgb(0, 128, 128)'], [0.16666666666666666,\n",
       "  …"
      ]
     },
     "metadata": {},
     "output_type": "display_data"
    }
   ],
   "source": [
    "# Linking Geo plot with line graph (without any titles and naming convetions)\n",
    "\n",
    "f = go.FigureWidget([go.Choropleth(locations = fips, text = country, z=values)])   # plotting the Choropleth graph\n",
    "\n",
    "trace=f.data[0]\n",
    "#colorscale=\"Blues\"\n",
    "trace.colorscale='Geyser'\n",
    "trace.hovertext=country\n",
    "#print(trace)\n",
    "\n",
    "out = Output()\n",
    "\n",
    "@out.capture(clear_output=True)  # capturing the output\n",
    "def click_fn(trace, points, state):\n",
    "    country=new_data.ix[points.point_inds[0]]['Country']     # using the index extracted to get the country name\n",
    "    \n",
    "    fig=go.FigureWidget()          # defining empty figure widget\n",
    "    fig\n",
    "    temp_data=countrywise_data[countrywise_data['Country']==country]        # extracting the data with same country name\n",
    "    fig.add_scatter(x=temp_data['ObservationDate'], y=temp_data['Confirmed'], mode='lines+markers', name='Covid-19 confirmed cases')\n",
    "    fig.add_scatter(x=temp_data['ObservationDate'], y=temp_data['Deaths'], mode='lines+markers', name='Deaths due to Covid-19')\n",
    "    fig.add_scatter(x=temp_data['ObservationDate'], y=temp_data['Recovered'], mode='lines+markers', name='Total recovered patients')\n",
    "    fig.show()\n",
    "    \n",
    "    \n",
    "trace.on_click(click_fn)   #calling the click function\n",
    "\n",
    "VBox([f, out])  # plotting the output of map and function in Vertical Box"
   ]
  },
  {
   "cell_type": "code",
   "execution_count": 36,
   "metadata": {},
   "outputs": [
    {
     "data": {
      "application/vnd.jupyter.widget-view+json": {
       "model_id": "5a96cc68bb844ed9884af724559cd5ab",
       "version_major": 2,
       "version_minor": 0
      },
      "text/plain": [
       "VBox(children=(FigureWidget({\n",
       "    'data': [{'colorbar': {'title': {'text': 'Number of COVID-19 cases'}},\n",
       "     …"
      ]
     },
     "metadata": {},
     "output_type": "display_data"
    }
   ],
   "source": [
    "# Linking Geo plot with line graph with titles and naming convetions\n",
    "\n",
    "f = go.FigureWidget([go.Choropleth(locations = fips, text = country, z=values, colorbar_title='Number of COVID-19 cases')])  # plotting the Choropleth graph\n",
    "\n",
    "trace=f.data[0]\n",
    "#colorscale=\"Blues\"\n",
    "trace.colorscale='Geyser'    # setting the colorscale\n",
    "trace.hovertext=country      # setting the hovertext data\n",
    "\n",
    "f.update_layout(             # updating the laout of the graph\n",
    "    title=\"World Map Visualization for COVID-19 cases\",\n",
    "    width=1000, height=600)\n",
    "#print(trace)\n",
    "\n",
    "out = Output()         # getting the data when clicked\n",
    "\n",
    "@out.capture(clear_output=True)\n",
    "def click_fn(trace, points, state):\n",
    "    country=new_data.ix[points.point_inds[0]]['Country']    # extracting the country name using the index of the click\n",
    "    \n",
    "    fig=go.FigureWidget()       # creating empty Figure widget for the line graph\n",
    "    fig\n",
    "    temp_data=countrywise_data[countrywise_data['Country']==country]   # extracting the rows with similar country name\n",
    "    fig.add_scatter(x=temp_data['ObservationDate'], y=temp_data['Confirmed'], mode='lines+markers', name='Covid-19 confirmed cases')\n",
    "    fig.add_scatter(x=temp_data['ObservationDate'], y=temp_data['Deaths'], mode='lines+markers', name='Deaths due to Covid-19')\n",
    "    fig.add_scatter(x=temp_data['ObservationDate'], y=temp_data['Recovered'], mode='lines+markers', name='Total recovered patients')\n",
    "    \n",
    "    fig.update_layout(title='Joint scatter plot showing Confirmed, Deaths and Recoverd cases of '+country,\n",
    "                      xaxis_title=\"Observation Dates\",\n",
    "                      yaxis_title=\"Confirmed, Deaths and Recovered cases\", width=1000, height=600)\n",
    "    fig.show()\n",
    "    \n",
    "    \n",
    "trace.on_click(click_fn)\n",
    "\n",
    "VBox([f, out])"
   ]
  },
  {
   "cell_type": "code",
   "execution_count": 37,
   "metadata": {},
   "outputs": [],
   "source": [
    "# Interactive Time Series Line Graph country wise\n",
    "# crrating a function to extract unique country names\n",
    "\n",
    "ALL=\"All\"\n",
    "def unique_countries(country):\n",
    "    unique_country=country.unique().tolist()\n",
    "    unique_country.sort\n",
    "    return unique_country"
   ]
  },
  {
   "cell_type": "code",
   "execution_count": 38,
   "metadata": {},
   "outputs": [
    {
     "data": {
      "application/vnd.jupyter.widget-view+json": {
       "model_id": "fe0be1fd4cd34826b71ff979c73dfbdf",
       "version_major": 2,
       "version_minor": 0
      },
      "text/plain": [
       "Dropdown(options=(' Azerbaijan', \"('St. Martin',)\", 'Afghanistan', 'Albania', 'Algeria', 'Andorra', 'Angola', …"
      ]
     },
     "metadata": {},
     "output_type": "display_data"
    }
   ],
   "source": [
    "# Creating widgets for countries and extracting the data based on the seletected country\n",
    "\n",
    "dropdown_country=ipywidgets.Dropdown(options=unique_countries(countrywise_data.Country))\n",
    "\n",
    "output_country=ipywidgets.Output()\n",
    "\n",
    "def dropdown_event_handler(change):\n",
    "    output_country.clear_output()\n",
    "    with output_country:\n",
    "        if(change.new==''):\n",
    "            display(countrywise_data)\n",
    "        else:\n",
    "            display(countrywise_data[countrywise_data.Country==change.new])\n",
    "    return output_country\n",
    "     \n",
    "dropdown_country.observe(dropdown_event_handler, names='value')\n",
    "\n",
    "display(dropdown_country)"
   ]
  },
  {
   "cell_type": "code",
   "execution_count": 39,
   "metadata": {},
   "outputs": [
    {
     "data": {
      "application/vnd.jupyter.widget-view+json": {
       "model_id": "25efdda5612d42078d2329581603a85f",
       "version_major": 2,
       "version_minor": 0
      },
      "text/plain": [
       "Output()"
      ]
     },
     "metadata": {},
     "output_type": "display_data"
    }
   ],
   "source": [
    "display(output_country)"
   ]
  },
  {
   "cell_type": "code",
   "execution_count": 40,
   "metadata": {},
   "outputs": [],
   "source": [
    "# Adding All value to dropdown to plot top 10 coutries msot affected with COVID-19\n",
    "\n",
    "ALL='All'\n",
    "def x_variable(x):\n",
    "    unique_country=x['Country'].unique().tolist()\n",
    "    unique_country.insert(0, 'All')\n",
    "    return unique_country"
   ]
  },
  {
   "cell_type": "code",
   "execution_count": 41,
   "metadata": {},
   "outputs": [],
   "source": [
    "#countrywise_data[countrywise_data['Country']=='Azerbaijan']"
   ]
  },
  {
   "cell_type": "code",
   "execution_count": 42,
   "metadata": {},
   "outputs": [
    {
     "data": {
      "text/plain": [
       "array(['United States of America', 'Spain', 'Italy', 'France', 'Germany',\n",
       "       'China', 'United Kingdom', 'Iran', 'Turkey', 'Belgium'],\n",
       "      dtype=object)"
      ]
     },
     "execution_count": 42,
     "metadata": {},
     "output_type": "execute_result"
    }
   ],
   "source": [
    "# extracting top 10 countries that has most number of covid cases\n",
    "\n",
    "con=countrywise_data.sort_values('Confirmed', ascending=False)['Country'].unique()[:10]\n",
    "new_df=pd.DataFrame(columns=['Country','ObservationDate','Confirmed', 'Deaths', 'Recovered'])\n",
    "for i in con:\n",
    "    temp=countrywise_data[countrywise_data['Country']==i]\n",
    "    new_df=pd.concat([new_df, temp], ignore_index=True)\n",
    "#     new_df.append(temp)\n",
    "    \n",
    "new_df['Country'].unique()"
   ]
  },
  {
   "cell_type": "code",
   "execution_count": 43,
   "metadata": {},
   "outputs": [
    {
     "data": {
      "application/vnd.jupyter.widget-view+json": {
       "model_id": "be68f687bb854280ac0758eed079a6ae",
       "version_major": 2,
       "version_minor": 0
      },
      "text/plain": [
       "interactive(children=(Dropdown(description='Country', options=('All', ' Azerbaijan', \"('St. Martin',)\", 'Afgha…"
      ]
     },
     "metadata": {},
     "output_type": "display_data"
    },
    {
     "data": {
      "text/plain": [
       "<function __main__.plot_line_graph(Country)>"
      ]
     },
     "execution_count": 43,
     "metadata": {},
     "output_type": "execute_result"
    }
   ],
   "source": [
    "# plotting line graph\n",
    "\n",
    "Country=ipywidgets.Dropdown(options=(list(x_variable(countrywise_data))))      # calling the unique countries functon defined above\n",
    "\n",
    "def plot_line_graph(Country):\n",
    "    \n",
    "    plt.figure(figsize=(15,8))                # setting the figure size\n",
    "    \n",
    "    if Country=='All':                        # plotting graph with top 10 countries with most number of covid-19 cases if dropdown value is 'ALL'  \n",
    "        \n",
    "        color=['Red', 'Green', 'Blue', 'Yellow', 'Magenta', 'Cyan', 'Orange', 'limegreen', 'indigo', 'lightblue']\n",
    "        con=countrywise_data.sort_values('Confirmed', ascending=False)['Country'].unique()[:10]  # extrating top 10 country names\n",
    "        new_df=pd.DataFrame(columns=['Country','ObservationDate','Confirmed', 'Deaths', 'Recovered'])\n",
    "        for (i,j) in zip(con,color):\n",
    "            temp=pd.DataFrame(columns=['Country','ObservationDate','Confirmed', 'Deaths', 'Recovered']) # defining empty dataframe\n",
    "            data_temp=countrywise_data[countrywise_data['Country']==i]      # extacting countrywise data\n",
    "            new_df=pd.concat([data_temp, temp], ignore_index=True)\n",
    "            plt.plot('ObservationDate','Confirmed', data=new_df, c=j, marker='o')\n",
    "            print(i+':' +j)\n",
    "        plt.title(\"Top 10 countires with most COVID-19 cases\")\n",
    "        plt.xlabel(\"Observation Date\")\n",
    "        plt.ylabel(\"Total Covid Cases\")\n",
    "        plt.xticks(rotation=90)\n",
    "        \n",
    "    else:\n",
    "        temp_df=countrywise_data[countrywise_data['Country']==Country]    # extracting data based on the dropdown value\n",
    "\n",
    "        plt.plot('ObservationDate','Confirmed', data=temp_df, c='orange', marker='o')\n",
    "        plt.plot('ObservationDate','Deaths', data=temp_df, c='red', marker='o')\n",
    "        plt.plot('ObservationDate','Recovered', data=temp_df, c='green', marker='o')\n",
    "        plt.title(\"COVID-19 cases in \"+ Country)\n",
    "        plt.xlabel(\"Observation Date\")\n",
    "        plt.ylabel(\"Total Covid Cases\")\n",
    "        plt.xticks(rotation=90)\n",
    "        plt.legend()\n",
    "        plt.show()\n",
    "    \n",
    "\n",
    "ipywidgets.interact(plot_line_graph, Country=Country)"
   ]
  },
  {
   "cell_type": "markdown",
   "metadata": {},
   "source": [
    "# Dashboard description\n",
    "\n",
    "The above dashboard is created using the COVID-19 data extracted from Kaggle. This data shows the number of Confirmed, Deaths and Recovered cases in countries. One can see the line graph representing the number of COVID cases since January, 22nd to April 10th 2020. All one have to do is select the country name from the Country dropdown for which they want to see the COVID cases and the graph will automatically display the number of the data presepctive to that country. If one wants to see top 10 countries with most number of COVID cases, then all one has to do is select the first value in the dropdown which is 'All' and the line graph for top 10 countries will be displayed.\n",
    "\n",
    "Note: I was trying to make interactive dashboard using the line graph and Geomap where if a person clicks on a country in the geomap then the line graph will automatically display the data relative to that country.I was able to connect both the graphs using function but I wasn't able to make the two graphs interactive using ipywidgets.\n",
    "\n",
    "I had to find and add the shape file to plot choropleth geo map. THis shape file contains digit code for every country aorund the world. By merging the shape file and COVID-19 dataset, we were able to plot the COVID data on a geo map"
   ]
  },
  {
   "cell_type": "code",
   "execution_count": 44,
   "metadata": {},
   "outputs": [],
   "source": [
    "statewise_data=covid_data.copy()"
   ]
  },
  {
   "cell_type": "code",
   "execution_count": 45,
   "metadata": {},
   "outputs": [
    {
     "data": {
      "text/plain": [
       "31"
      ]
     },
     "execution_count": 45,
     "metadata": {},
     "output_type": "execute_result"
    }
   ],
   "source": [
    "statewise_data=statewise_data.groupby(['Country', 'State', 'ObservationDate'], as_index=False)['Confirmed', 'Deaths', 'Recovered'].sum()\n",
    "statewise_data[statewise_data[\"Country\"]=='Mainland China']['State'].nunique()"
   ]
  },
  {
   "cell_type": "code",
   "execution_count": 46,
   "metadata": {},
   "outputs": [],
   "source": [
    "statewise_data['State']=statewise_data['State'].str.replace(\"[().']\",'')\n",
    "statewise_data[['County/State','State']] = statewise_data.pop('State').str.split(',\\s*', n=0, expand=True)"
   ]
  },
  {
   "cell_type": "code",
   "execution_count": 47,
   "metadata": {},
   "outputs": [],
   "source": [
    "statewise_data['State'].replace(\"None\", 'County/State', inplace=True)"
   ]
  },
  {
   "cell_type": "code",
   "execution_count": 48,
   "metadata": {},
   "outputs": [
    {
     "data": {
      "text/html": [
       "<div>\n",
       "<style scoped>\n",
       "    .dataframe tbody tr th:only-of-type {\n",
       "        vertical-align: middle;\n",
       "    }\n",
       "\n",
       "    .dataframe tbody tr th {\n",
       "        vertical-align: top;\n",
       "    }\n",
       "\n",
       "    .dataframe thead th {\n",
       "        text-align: right;\n",
       "    }\n",
       "</style>\n",
       "<table border=\"1\" class=\"dataframe\">\n",
       "  <thead>\n",
       "    <tr style=\"text-align: right;\">\n",
       "      <th></th>\n",
       "      <th>Country</th>\n",
       "      <th>ObservationDate</th>\n",
       "      <th>Confirmed</th>\n",
       "      <th>Deaths</th>\n",
       "      <th>Recovered</th>\n",
       "      <th>County/State</th>\n",
       "      <th>State</th>\n",
       "    </tr>\n",
       "  </thead>\n",
       "  <tbody>\n",
       "    <tr>\n",
       "      <td>1573</td>\n",
       "      <td>Canada</td>\n",
       "      <td>02/28/2020</td>\n",
       "      <td>1.0</td>\n",
       "      <td>0.0</td>\n",
       "      <td>0.0</td>\n",
       "      <td>Montreal</td>\n",
       "      <td>QC</td>\n",
       "    </tr>\n",
       "    <tr>\n",
       "      <td>1574</td>\n",
       "      <td>Canada</td>\n",
       "      <td>02/29/2020</td>\n",
       "      <td>1.0</td>\n",
       "      <td>0.0</td>\n",
       "      <td>0.0</td>\n",
       "      <td>Montreal</td>\n",
       "      <td>QC</td>\n",
       "    </tr>\n",
       "    <tr>\n",
       "      <td>1575</td>\n",
       "      <td>Canada</td>\n",
       "      <td>03/01/2020</td>\n",
       "      <td>1.0</td>\n",
       "      <td>0.0</td>\n",
       "      <td>0.0</td>\n",
       "      <td>Montreal</td>\n",
       "      <td>QC</td>\n",
       "    </tr>\n",
       "    <tr>\n",
       "      <td>1576</td>\n",
       "      <td>Canada</td>\n",
       "      <td>03/02/2020</td>\n",
       "      <td>1.0</td>\n",
       "      <td>0.0</td>\n",
       "      <td>0.0</td>\n",
       "      <td>Montreal</td>\n",
       "      <td>QC</td>\n",
       "    </tr>\n",
       "    <tr>\n",
       "      <td>1577</td>\n",
       "      <td>Canada</td>\n",
       "      <td>03/03/2020</td>\n",
       "      <td>1.0</td>\n",
       "      <td>0.0</td>\n",
       "      <td>0.0</td>\n",
       "      <td>Montreal</td>\n",
       "      <td>QC</td>\n",
       "    </tr>\n",
       "    <tr>\n",
       "      <td>...</td>\n",
       "      <td>...</td>\n",
       "      <td>...</td>\n",
       "      <td>...</td>\n",
       "      <td>...</td>\n",
       "      <td>...</td>\n",
       "      <td>...</td>\n",
       "      <td>...</td>\n",
       "    </tr>\n",
       "    <tr>\n",
       "      <td>2101</td>\n",
       "      <td>Canada</td>\n",
       "      <td>04/06/2020</td>\n",
       "      <td>6.0</td>\n",
       "      <td>0.0</td>\n",
       "      <td>0.0</td>\n",
       "      <td>Yukon</td>\n",
       "      <td>Yukon</td>\n",
       "    </tr>\n",
       "    <tr>\n",
       "      <td>2102</td>\n",
       "      <td>Canada</td>\n",
       "      <td>04/07/2020</td>\n",
       "      <td>7.0</td>\n",
       "      <td>0.0</td>\n",
       "      <td>0.0</td>\n",
       "      <td>Yukon</td>\n",
       "      <td>Yukon</td>\n",
       "    </tr>\n",
       "    <tr>\n",
       "      <td>2103</td>\n",
       "      <td>Canada</td>\n",
       "      <td>04/08/2020</td>\n",
       "      <td>7.0</td>\n",
       "      <td>0.0</td>\n",
       "      <td>0.0</td>\n",
       "      <td>Yukon</td>\n",
       "      <td>Yukon</td>\n",
       "    </tr>\n",
       "    <tr>\n",
       "      <td>2104</td>\n",
       "      <td>Canada</td>\n",
       "      <td>04/09/2020</td>\n",
       "      <td>7.0</td>\n",
       "      <td>0.0</td>\n",
       "      <td>0.0</td>\n",
       "      <td>Yukon</td>\n",
       "      <td>Yukon</td>\n",
       "    </tr>\n",
       "    <tr>\n",
       "      <td>2105</td>\n",
       "      <td>Canada</td>\n",
       "      <td>04/10/2020</td>\n",
       "      <td>8.0</td>\n",
       "      <td>0.0</td>\n",
       "      <td>0.0</td>\n",
       "      <td>Yukon</td>\n",
       "      <td>Yukon</td>\n",
       "    </tr>\n",
       "  </tbody>\n",
       "</table>\n",
       "<p>533 rows × 7 columns</p>\n",
       "</div>"
      ],
      "text/plain": [
       "     Country ObservationDate  Confirmed  Deaths  Recovered County/State  State\n",
       "1573  Canada      02/28/2020        1.0     0.0        0.0     Montreal     QC\n",
       "1574  Canada      02/29/2020        1.0     0.0        0.0     Montreal     QC\n",
       "1575  Canada      03/01/2020        1.0     0.0        0.0     Montreal     QC\n",
       "1576  Canada      03/02/2020        1.0     0.0        0.0     Montreal     QC\n",
       "1577  Canada      03/03/2020        1.0     0.0        0.0     Montreal     QC\n",
       "...      ...             ...        ...     ...        ...          ...    ...\n",
       "2101  Canada      04/06/2020        6.0     0.0        0.0        Yukon  Yukon\n",
       "2102  Canada      04/07/2020        7.0     0.0        0.0        Yukon  Yukon\n",
       "2103  Canada      04/08/2020        7.0     0.0        0.0        Yukon  Yukon\n",
       "2104  Canada      04/09/2020        7.0     0.0        0.0        Yukon  Yukon\n",
       "2105  Canada      04/10/2020        8.0     0.0        0.0        Yukon  Yukon\n",
       "\n",
       "[533 rows x 7 columns]"
      ]
     },
     "execution_count": 48,
     "metadata": {},
     "output_type": "execute_result"
    }
   ],
   "source": [
    "#pd.set_option('display.max_rows',9999)\n",
    "statewise_data.loc[statewise_data['State'].isnull(), 'State']=statewise_data['County/State']\n",
    "statewise_data[statewise_data['Country']==\"Canada\"]"
   ]
  },
  {
   "cell_type": "code",
   "execution_count": 49,
   "metadata": {},
   "outputs": [],
   "source": [
    "ALL='All'\n",
    "def x_variable_state(x,y):\n",
    "    state_df=x[x['Country']==y]\n",
    "    unique_state=state_df['State'].unique().tolist()\n",
    "    print(unique_state)"
   ]
  },
  {
   "cell_type": "code",
   "execution_count": 50,
   "metadata": {},
   "outputs": [],
   "source": [
    "# World wide covid confirmed cases data country and state wise (if states are given) except US\n",
    "\n",
    "world_state_confirmed_data=covid19_time_series_confirmed.copy()\n",
    "world_state_confirmed_data.loc[world_state_confirmed_data['State'].isnull(), \"State\"]=world_state_confirmed_data['Country']\n",
    "world_state_confirmed_data.drop(columns=['Lat', 'Long'], axis=1, inplace=True)\n",
    "world_state_confirmed_data=world_state_confirmed_data.melt(id_vars=[\"State\", \"Country\"], var_name=\"ObservationDate\", value_name=\"Confirmed\")\n",
    "world_state_confirmed_data=world_state_confirmed_data.groupby(['State', 'ObservationDate', 'Country'], as_index=False)['Confirmed'].sum()\n",
    "world_state_confirmed_data=world_state_confirmed_data[world_state_confirmed_data['Country']!='US']"
   ]
  },
  {
   "cell_type": "code",
   "execution_count": 51,
   "metadata": {},
   "outputs": [],
   "source": [
    "# World wide covid deaths cases data country and state wise (if states are given) except US\n",
    "\n",
    "world_state_deaths_data=covid19_time_series_deaths.copy()\n",
    "world_state_deaths_data.loc[world_state_deaths_data['State'].isnull(), \"State\"]=world_state_deaths_data['Country']\n",
    "world_state_deaths_data.drop(columns=['Lat', 'Long'], axis=1, inplace=True)\n",
    "world_state_deaths_data=world_state_deaths_data.melt(id_vars=[\"State\", \"Country\"], var_name=\"ObservationDate\", value_name=\"Confirmed\")\n",
    "world_state_deaths_data=world_state_deaths_data.groupby(['State', 'ObservationDate', 'Country'], as_index=False)['Confirmed'].sum()\n",
    "world_state_deaths_data=world_state_deaths_data[world_state_deaths_data['Country']!='US']"
   ]
  },
  {
   "cell_type": "code",
   "execution_count": 52,
   "metadata": {},
   "outputs": [
    {
     "data": {
      "text/plain": [
       "(21040, 5)"
      ]
     },
     "execution_count": 52,
     "metadata": {},
     "output_type": "execute_result"
    }
   ],
   "source": [
    "world_covid_data=pd.merge(world_state_confirmed_data,world_state_deaths_data, left_index=True, right_index=True)\n",
    "world_covid_data.drop(world_covid_data.columns[[4,5,6]], axis=1, inplace=True)\n",
    "world_covid_data.columns=['State', 'ObservationDate', 'Country', 'Confirmed', 'Deaths']\n",
    "world_covid_data=world_covid_data[['State', 'Country', 'ObservationDate', 'Confirmed', 'Deaths']]\n",
    "world_covid_data.shape"
   ]
  },
  {
   "cell_type": "code",
   "execution_count": 53,
   "metadata": {},
   "outputs": [
    {
     "data": {
      "text/html": [
       "<div>\n",
       "<style scoped>\n",
       "    .dataframe tbody tr th:only-of-type {\n",
       "        vertical-align: middle;\n",
       "    }\n",
       "\n",
       "    .dataframe tbody tr th {\n",
       "        vertical-align: top;\n",
       "    }\n",
       "\n",
       "    .dataframe thead th {\n",
       "        text-align: right;\n",
       "    }\n",
       "</style>\n",
       "<table border=\"1\" class=\"dataframe\">\n",
       "  <thead>\n",
       "    <tr style=\"text-align: right;\">\n",
       "      <th></th>\n",
       "      <th>State</th>\n",
       "      <th>ObservationDate</th>\n",
       "      <th>Country</th>\n",
       "      <th>Confirmed</th>\n",
       "    </tr>\n",
       "  </thead>\n",
       "  <tbody>\n",
       "    <tr>\n",
       "      <td>0</td>\n",
       "      <td>Alabama</td>\n",
       "      <td>1/22/20</td>\n",
       "      <td>US</td>\n",
       "      <td>0</td>\n",
       "    </tr>\n",
       "    <tr>\n",
       "      <td>1</td>\n",
       "      <td>Alabama</td>\n",
       "      <td>1/23/20</td>\n",
       "      <td>US</td>\n",
       "      <td>0</td>\n",
       "    </tr>\n",
       "    <tr>\n",
       "      <td>2</td>\n",
       "      <td>Alabama</td>\n",
       "      <td>1/24/20</td>\n",
       "      <td>US</td>\n",
       "      <td>0</td>\n",
       "    </tr>\n",
       "    <tr>\n",
       "      <td>3</td>\n",
       "      <td>Alabama</td>\n",
       "      <td>1/25/20</td>\n",
       "      <td>US</td>\n",
       "      <td>0</td>\n",
       "    </tr>\n",
       "    <tr>\n",
       "      <td>4</td>\n",
       "      <td>Alabama</td>\n",
       "      <td>1/26/20</td>\n",
       "      <td>US</td>\n",
       "      <td>0</td>\n",
       "    </tr>\n",
       "  </tbody>\n",
       "</table>\n",
       "</div>"
      ],
      "text/plain": [
       "     State ObservationDate Country  Confirmed\n",
       "0  Alabama         1/22/20      US          0\n",
       "1  Alabama         1/23/20      US          0\n",
       "2  Alabama         1/24/20      US          0\n",
       "3  Alabama         1/25/20      US          0\n",
       "4  Alabama         1/26/20      US          0"
      ]
     },
     "execution_count": 53,
     "metadata": {},
     "output_type": "execute_result"
    }
   ],
   "source": [
    "US_confirmed_data=covid19_time_series_confirmed_US.copy()\n",
    "US_confirmed_data.drop(columns=['UID', 'iso2', 'iso3', 'code3', 'FIPS', 'Admin2', 'Lat', 'Long_','Combined_Key'], axis=1, inplace=True)\n",
    "US_confirmed_data.rename(columns={'Province_State':'State', 'Country_Region':'Country'}, inplace=True)\n",
    "US_confirmed_data=US_confirmed_data.melt(id_vars=[\"State\", \"Country\"], var_name=\"ObservationDate\", value_name=\"Confirmed\")\n",
    "US_confirmed_data=US_confirmed_data.groupby(['State', 'ObservationDate', 'Country'], as_index=False)['Confirmed'].sum()\n",
    "US_confirmed_data.head()"
   ]
  },
  {
   "cell_type": "code",
   "execution_count": 54,
   "metadata": {},
   "outputs": [
    {
     "data": {
      "text/html": [
       "<div>\n",
       "<style scoped>\n",
       "    .dataframe tbody tr th:only-of-type {\n",
       "        vertical-align: middle;\n",
       "    }\n",
       "\n",
       "    .dataframe tbody tr th {\n",
       "        vertical-align: top;\n",
       "    }\n",
       "\n",
       "    .dataframe thead th {\n",
       "        text-align: right;\n",
       "    }\n",
       "</style>\n",
       "<table border=\"1\" class=\"dataframe\">\n",
       "  <thead>\n",
       "    <tr style=\"text-align: right;\">\n",
       "      <th></th>\n",
       "      <th>State</th>\n",
       "      <th>ObservationDate</th>\n",
       "      <th>Country</th>\n",
       "      <th>Deaths</th>\n",
       "    </tr>\n",
       "  </thead>\n",
       "  <tbody>\n",
       "    <tr>\n",
       "      <td>0</td>\n",
       "      <td>Alabama</td>\n",
       "      <td>1/22/20</td>\n",
       "      <td>US</td>\n",
       "      <td>0</td>\n",
       "    </tr>\n",
       "    <tr>\n",
       "      <td>1</td>\n",
       "      <td>Alabama</td>\n",
       "      <td>1/23/20</td>\n",
       "      <td>US</td>\n",
       "      <td>0</td>\n",
       "    </tr>\n",
       "    <tr>\n",
       "      <td>2</td>\n",
       "      <td>Alabama</td>\n",
       "      <td>1/24/20</td>\n",
       "      <td>US</td>\n",
       "      <td>0</td>\n",
       "    </tr>\n",
       "    <tr>\n",
       "      <td>3</td>\n",
       "      <td>Alabama</td>\n",
       "      <td>1/25/20</td>\n",
       "      <td>US</td>\n",
       "      <td>0</td>\n",
       "    </tr>\n",
       "    <tr>\n",
       "      <td>4</td>\n",
       "      <td>Alabama</td>\n",
       "      <td>1/26/20</td>\n",
       "      <td>US</td>\n",
       "      <td>0</td>\n",
       "    </tr>\n",
       "  </tbody>\n",
       "</table>\n",
       "</div>"
      ],
      "text/plain": [
       "     State ObservationDate Country  Deaths\n",
       "0  Alabama         1/22/20      US       0\n",
       "1  Alabama         1/23/20      US       0\n",
       "2  Alabama         1/24/20      US       0\n",
       "3  Alabama         1/25/20      US       0\n",
       "4  Alabama         1/26/20      US       0"
      ]
     },
     "execution_count": 54,
     "metadata": {},
     "output_type": "execute_result"
    }
   ],
   "source": [
    "pd.set_option('display.max_rows',999)\n",
    "US_death_data=covid19_time_series_deaths_US.copy()\n",
    "US_death_data.drop(columns=['UID', 'iso2', 'iso3', 'code3', 'FIPS', 'Admin2', 'Lat', 'Long_','Combined_Key', 'Population'], axis=1, inplace=True)\n",
    "US_death_data.rename(columns={'Province_State':'State', 'Country_Region':'Country'}, inplace=True)\n",
    "US_death_data=US_death_data.melt(id_vars=[\"State\", \"Country\"], var_name=\"ObservationDate\", value_name=\"Deaths\")\n",
    "US_death_data=US_death_data.groupby(['State', \"ObservationDate\", 'Country'], as_index=False)['Deaths'].sum()\n",
    "US_death_data.head()"
   ]
  },
  {
   "cell_type": "code",
   "execution_count": 55,
   "metadata": {},
   "outputs": [
    {
     "data": {
      "text/html": [
       "<div>\n",
       "<style scoped>\n",
       "    .dataframe tbody tr th:only-of-type {\n",
       "        vertical-align: middle;\n",
       "    }\n",
       "\n",
       "    .dataframe tbody tr th {\n",
       "        vertical-align: top;\n",
       "    }\n",
       "\n",
       "    .dataframe thead th {\n",
       "        text-align: right;\n",
       "    }\n",
       "</style>\n",
       "<table border=\"1\" class=\"dataframe\">\n",
       "  <thead>\n",
       "    <tr style=\"text-align: right;\">\n",
       "      <th></th>\n",
       "      <th>State</th>\n",
       "      <th>Country</th>\n",
       "      <th>ObservationDate</th>\n",
       "      <th>Confirmed</th>\n",
       "      <th>Deaths</th>\n",
       "    </tr>\n",
       "  </thead>\n",
       "  <tbody>\n",
       "    <tr>\n",
       "      <td>0</td>\n",
       "      <td>Alabama</td>\n",
       "      <td>US</td>\n",
       "      <td>1/22/20</td>\n",
       "      <td>0</td>\n",
       "      <td>0</td>\n",
       "    </tr>\n",
       "    <tr>\n",
       "      <td>1</td>\n",
       "      <td>Alabama</td>\n",
       "      <td>US</td>\n",
       "      <td>1/23/20</td>\n",
       "      <td>0</td>\n",
       "      <td>0</td>\n",
       "    </tr>\n",
       "    <tr>\n",
       "      <td>2</td>\n",
       "      <td>Alabama</td>\n",
       "      <td>US</td>\n",
       "      <td>1/24/20</td>\n",
       "      <td>0</td>\n",
       "      <td>0</td>\n",
       "    </tr>\n",
       "    <tr>\n",
       "      <td>3</td>\n",
       "      <td>Alabama</td>\n",
       "      <td>US</td>\n",
       "      <td>1/25/20</td>\n",
       "      <td>0</td>\n",
       "      <td>0</td>\n",
       "    </tr>\n",
       "    <tr>\n",
       "      <td>4</td>\n",
       "      <td>Alabama</td>\n",
       "      <td>US</td>\n",
       "      <td>1/26/20</td>\n",
       "      <td>0</td>\n",
       "      <td>0</td>\n",
       "    </tr>\n",
       "    <tr>\n",
       "      <td>...</td>\n",
       "      <td>...</td>\n",
       "      <td>...</td>\n",
       "      <td>...</td>\n",
       "      <td>...</td>\n",
       "      <td>...</td>\n",
       "    </tr>\n",
       "    <tr>\n",
       "      <td>4635</td>\n",
       "      <td>Wyoming</td>\n",
       "      <td>US</td>\n",
       "      <td>4/5/20</td>\n",
       "      <td>197</td>\n",
       "      <td>0</td>\n",
       "    </tr>\n",
       "    <tr>\n",
       "      <td>4636</td>\n",
       "      <td>Wyoming</td>\n",
       "      <td>US</td>\n",
       "      <td>4/6/20</td>\n",
       "      <td>210</td>\n",
       "      <td>0</td>\n",
       "    </tr>\n",
       "    <tr>\n",
       "      <td>4637</td>\n",
       "      <td>Wyoming</td>\n",
       "      <td>US</td>\n",
       "      <td>4/7/20</td>\n",
       "      <td>216</td>\n",
       "      <td>0</td>\n",
       "    </tr>\n",
       "    <tr>\n",
       "      <td>4638</td>\n",
       "      <td>Wyoming</td>\n",
       "      <td>US</td>\n",
       "      <td>4/8/20</td>\n",
       "      <td>221</td>\n",
       "      <td>0</td>\n",
       "    </tr>\n",
       "    <tr>\n",
       "      <td>4639</td>\n",
       "      <td>Wyoming</td>\n",
       "      <td>US</td>\n",
       "      <td>4/9/20</td>\n",
       "      <td>230</td>\n",
       "      <td>0</td>\n",
       "    </tr>\n",
       "  </tbody>\n",
       "</table>\n",
       "<p>4640 rows × 5 columns</p>\n",
       "</div>"
      ],
      "text/plain": [
       "        State Country ObservationDate  Confirmed  Deaths\n",
       "0     Alabama      US         1/22/20          0       0\n",
       "1     Alabama      US         1/23/20          0       0\n",
       "2     Alabama      US         1/24/20          0       0\n",
       "3     Alabama      US         1/25/20          0       0\n",
       "4     Alabama      US         1/26/20          0       0\n",
       "...       ...     ...             ...        ...     ...\n",
       "4635  Wyoming      US          4/5/20        197       0\n",
       "4636  Wyoming      US          4/6/20        210       0\n",
       "4637  Wyoming      US          4/7/20        216       0\n",
       "4638  Wyoming      US          4/8/20        221       0\n",
       "4639  Wyoming      US          4/9/20        230       0\n",
       "\n",
       "[4640 rows x 5 columns]"
      ]
     },
     "execution_count": 55,
     "metadata": {},
     "output_type": "execute_result"
    }
   ],
   "source": [
    "US_covid_data=pd.merge(US_confirmed_data,US_death_data, left_index=True, right_index=True)\n",
    "US_covid_data.drop(US_covid_data.columns[[4,5,6]], axis=1, inplace=True)\n",
    "US_covid_data.columns=['State', 'ObservationDate', 'Country', 'Confirmed', 'Deaths']\n",
    "#US_covid_data.sort_values(['State', 'ObservationDate']).head(999)\n",
    "US_covid_data=US_covid_data[['State', 'Country', 'ObservationDate', 'Confirmed', 'Deaths']]\n",
    "US_covid_data"
   ]
  },
  {
   "cell_type": "code",
   "execution_count": 56,
   "metadata": {},
   "outputs": [],
   "source": [
    "statewise_data=statewise_data[['State','Country','ObservationDate','Confirmed','Deaths','Recovered']]"
   ]
  },
  {
   "cell_type": "code",
   "execution_count": null,
   "metadata": {},
   "outputs": [],
   "source": []
  },
  {
   "cell_type": "code",
   "execution_count": 57,
   "metadata": {},
   "outputs": [
    {
     "data": {
      "text/html": [
       "<div>\n",
       "<style scoped>\n",
       "    .dataframe tbody tr th:only-of-type {\n",
       "        vertical-align: middle;\n",
       "    }\n",
       "\n",
       "    .dataframe tbody tr th {\n",
       "        vertical-align: top;\n",
       "    }\n",
       "\n",
       "    .dataframe thead th {\n",
       "        text-align: right;\n",
       "    }\n",
       "</style>\n",
       "<table border=\"1\" class=\"dataframe\">\n",
       "  <thead>\n",
       "    <tr style=\"text-align: right;\">\n",
       "      <th></th>\n",
       "      <th>State</th>\n",
       "      <th>Country</th>\n",
       "      <th>ObservationDate</th>\n",
       "      <th>Confirmed</th>\n",
       "      <th>Deaths</th>\n",
       "      <th>Recovered</th>\n",
       "    </tr>\n",
       "  </thead>\n",
       "  <tbody>\n",
       "    <tr>\n",
       "      <td>0</td>\n",
       "      <td>Azerbaijan</td>\n",
       "      <td>Azerbaijan</td>\n",
       "      <td>02/28/2020</td>\n",
       "      <td>1.0</td>\n",
       "      <td>0.0</td>\n",
       "      <td>0.0</td>\n",
       "    </tr>\n",
       "    <tr>\n",
       "      <td>1</td>\n",
       "      <td></td>\n",
       "      <td>('St. Martin',)</td>\n",
       "      <td>03/10/2020</td>\n",
       "      <td>2.0</td>\n",
       "      <td>0.0</td>\n",
       "      <td>0.0</td>\n",
       "    </tr>\n",
       "    <tr>\n",
       "      <td>2</td>\n",
       "      <td>Afghanistan</td>\n",
       "      <td>Afghanistan</td>\n",
       "      <td>02/24/2020</td>\n",
       "      <td>1.0</td>\n",
       "      <td>0.0</td>\n",
       "      <td>0.0</td>\n",
       "    </tr>\n",
       "    <tr>\n",
       "      <td>3</td>\n",
       "      <td>Afghanistan</td>\n",
       "      <td>Afghanistan</td>\n",
       "      <td>02/25/2020</td>\n",
       "      <td>1.0</td>\n",
       "      <td>0.0</td>\n",
       "      <td>0.0</td>\n",
       "    </tr>\n",
       "    <tr>\n",
       "      <td>4</td>\n",
       "      <td>Afghanistan</td>\n",
       "      <td>Afghanistan</td>\n",
       "      <td>02/26/2020</td>\n",
       "      <td>1.0</td>\n",
       "      <td>0.0</td>\n",
       "      <td>0.0</td>\n",
       "    </tr>\n",
       "    <tr>\n",
       "      <td>...</td>\n",
       "      <td>...</td>\n",
       "      <td>...</td>\n",
       "      <td>...</td>\n",
       "      <td>...</td>\n",
       "      <td>...</td>\n",
       "      <td>...</td>\n",
       "    </tr>\n",
       "    <tr>\n",
       "      <td>13841</td>\n",
       "      <td>occupied Palestinian territory</td>\n",
       "      <td>occupied Palestinian territory</td>\n",
       "      <td>03/12/2020</td>\n",
       "      <td>0.0</td>\n",
       "      <td>0.0</td>\n",
       "      <td>0.0</td>\n",
       "    </tr>\n",
       "    <tr>\n",
       "      <td>13842</td>\n",
       "      <td>occupied Palestinian territory</td>\n",
       "      <td>occupied Palestinian territory</td>\n",
       "      <td>03/14/2020</td>\n",
       "      <td>0.0</td>\n",
       "      <td>0.0</td>\n",
       "      <td>0.0</td>\n",
       "    </tr>\n",
       "    <tr>\n",
       "      <td>13843</td>\n",
       "      <td>occupied Palestinian territory</td>\n",
       "      <td>occupied Palestinian territory</td>\n",
       "      <td>03/15/2020</td>\n",
       "      <td>0.0</td>\n",
       "      <td>0.0</td>\n",
       "      <td>0.0</td>\n",
       "    </tr>\n",
       "    <tr>\n",
       "      <td>13844</td>\n",
       "      <td>occupied Palestinian territory</td>\n",
       "      <td>occupied Palestinian territory</td>\n",
       "      <td>03/16/2020</td>\n",
       "      <td>0.0</td>\n",
       "      <td>0.0</td>\n",
       "      <td>0.0</td>\n",
       "    </tr>\n",
       "    <tr>\n",
       "      <td>13845</td>\n",
       "      <td>occupied Palestinian territory</td>\n",
       "      <td>occupied Palestinian territory</td>\n",
       "      <td>03/17/2020</td>\n",
       "      <td>0.0</td>\n",
       "      <td>0.0</td>\n",
       "      <td>0.0</td>\n",
       "    </tr>\n",
       "  </tbody>\n",
       "</table>\n",
       "<p>13846 rows × 6 columns</p>\n",
       "</div>"
      ],
      "text/plain": [
       "                                State                         Country  \\\n",
       "0                          Azerbaijan                      Azerbaijan   \n",
       "1                                                     ('St. Martin',)   \n",
       "2                         Afghanistan                     Afghanistan   \n",
       "3                         Afghanistan                     Afghanistan   \n",
       "4                         Afghanistan                     Afghanistan   \n",
       "...                               ...                             ...   \n",
       "13841  occupied Palestinian territory  occupied Palestinian territory   \n",
       "13842  occupied Palestinian territory  occupied Palestinian territory   \n",
       "13843  occupied Palestinian territory  occupied Palestinian territory   \n",
       "13844  occupied Palestinian territory  occupied Palestinian territory   \n",
       "13845  occupied Palestinian territory  occupied Palestinian territory   \n",
       "\n",
       "      ObservationDate  Confirmed  Deaths  Recovered  \n",
       "0          02/28/2020        1.0     0.0        0.0  \n",
       "1          03/10/2020        2.0     0.0        0.0  \n",
       "2          02/24/2020        1.0     0.0        0.0  \n",
       "3          02/25/2020        1.0     0.0        0.0  \n",
       "4          02/26/2020        1.0     0.0        0.0  \n",
       "...               ...        ...     ...        ...  \n",
       "13841      03/12/2020        0.0     0.0        0.0  \n",
       "13842      03/14/2020        0.0     0.0        0.0  \n",
       "13843      03/15/2020        0.0     0.0        0.0  \n",
       "13844      03/16/2020        0.0     0.0        0.0  \n",
       "13845      03/17/2020        0.0     0.0        0.0  \n",
       "\n",
       "[13846 rows x 6 columns]"
      ]
     },
     "execution_count": 57,
     "metadata": {},
     "output_type": "execute_result"
    }
   ],
   "source": [
    "statewise_data"
   ]
  },
  {
   "cell_type": "code",
   "execution_count": 58,
   "metadata": {},
   "outputs": [
    {
     "data": {
      "text/plain": [
       "(25680, 5)"
      ]
     },
     "execution_count": 58,
     "metadata": {},
     "output_type": "execute_result"
    }
   ],
   "source": [
    "combined_data=pd.concat([world_covid_data, US_covid_data], axis=0, ignore_index=False)\n",
    "\n",
    "combined_data.shape"
   ]
  },
  {
   "cell_type": "code",
   "execution_count": 59,
   "metadata": {},
   "outputs": [],
   "source": [
    "country_list=combined_data['Country'].unique()\n",
    "country_name=\"US\""
   ]
  },
  {
   "cell_type": "code",
   "execution_count": 60,
   "metadata": {},
   "outputs": [
    {
     "data": {
      "text/html": [
       "<div>\n",
       "<style scoped>\n",
       "    .dataframe tbody tr th:only-of-type {\n",
       "        vertical-align: middle;\n",
       "    }\n",
       "\n",
       "    .dataframe tbody tr th {\n",
       "        vertical-align: top;\n",
       "    }\n",
       "\n",
       "    .dataframe thead th {\n",
       "        text-align: right;\n",
       "    }\n",
       "</style>\n",
       "<table border=\"1\" class=\"dataframe\">\n",
       "  <thead>\n",
       "    <tr style=\"text-align: right;\">\n",
       "      <th></th>\n",
       "      <th>State</th>\n",
       "      <th>Country</th>\n",
       "      <th>ObservationDate</th>\n",
       "      <th>Confirmed</th>\n",
       "      <th>Deaths</th>\n",
       "    </tr>\n",
       "  </thead>\n",
       "  <tbody>\n",
       "    <tr>\n",
       "      <td>0</td>\n",
       "      <td>Alabama</td>\n",
       "      <td>United States of America</td>\n",
       "      <td>1/22/20</td>\n",
       "      <td>0</td>\n",
       "      <td>0</td>\n",
       "    </tr>\n",
       "    <tr>\n",
       "      <td>1</td>\n",
       "      <td>Alabama</td>\n",
       "      <td>United States of America</td>\n",
       "      <td>1/23/20</td>\n",
       "      <td>0</td>\n",
       "      <td>0</td>\n",
       "    </tr>\n",
       "    <tr>\n",
       "      <td>2</td>\n",
       "      <td>Alabama</td>\n",
       "      <td>United States of America</td>\n",
       "      <td>1/24/20</td>\n",
       "      <td>0</td>\n",
       "      <td>0</td>\n",
       "    </tr>\n",
       "    <tr>\n",
       "      <td>3</td>\n",
       "      <td>Alabama</td>\n",
       "      <td>United States of America</td>\n",
       "      <td>1/25/20</td>\n",
       "      <td>0</td>\n",
       "      <td>0</td>\n",
       "    </tr>\n",
       "    <tr>\n",
       "      <td>4</td>\n",
       "      <td>Alabama</td>\n",
       "      <td>United States of America</td>\n",
       "      <td>1/26/20</td>\n",
       "      <td>0</td>\n",
       "      <td>0</td>\n",
       "    </tr>\n",
       "    <tr>\n",
       "      <td>...</td>\n",
       "      <td>...</td>\n",
       "      <td>...</td>\n",
       "      <td>...</td>\n",
       "      <td>...</td>\n",
       "      <td>...</td>\n",
       "    </tr>\n",
       "    <tr>\n",
       "      <td>4635</td>\n",
       "      <td>Wyoming</td>\n",
       "      <td>United States of America</td>\n",
       "      <td>4/5/20</td>\n",
       "      <td>197</td>\n",
       "      <td>0</td>\n",
       "    </tr>\n",
       "    <tr>\n",
       "      <td>4636</td>\n",
       "      <td>Wyoming</td>\n",
       "      <td>United States of America</td>\n",
       "      <td>4/6/20</td>\n",
       "      <td>210</td>\n",
       "      <td>0</td>\n",
       "    </tr>\n",
       "    <tr>\n",
       "      <td>4637</td>\n",
       "      <td>Wyoming</td>\n",
       "      <td>United States of America</td>\n",
       "      <td>4/7/20</td>\n",
       "      <td>216</td>\n",
       "      <td>0</td>\n",
       "    </tr>\n",
       "    <tr>\n",
       "      <td>4638</td>\n",
       "      <td>Wyoming</td>\n",
       "      <td>United States of America</td>\n",
       "      <td>4/8/20</td>\n",
       "      <td>221</td>\n",
       "      <td>0</td>\n",
       "    </tr>\n",
       "    <tr>\n",
       "      <td>4639</td>\n",
       "      <td>Wyoming</td>\n",
       "      <td>United States of America</td>\n",
       "      <td>4/9/20</td>\n",
       "      <td>230</td>\n",
       "      <td>0</td>\n",
       "    </tr>\n",
       "  </tbody>\n",
       "</table>\n",
       "<p>4640 rows × 5 columns</p>\n",
       "</div>"
      ],
      "text/plain": [
       "        State                   Country ObservationDate  Confirmed  Deaths\n",
       "0     Alabama  United States of America         1/22/20          0       0\n",
       "1     Alabama  United States of America         1/23/20          0       0\n",
       "2     Alabama  United States of America         1/24/20          0       0\n",
       "3     Alabama  United States of America         1/25/20          0       0\n",
       "4     Alabama  United States of America         1/26/20          0       0\n",
       "...       ...                       ...             ...        ...     ...\n",
       "4635  Wyoming  United States of America          4/5/20        197       0\n",
       "4636  Wyoming  United States of America          4/6/20        210       0\n",
       "4637  Wyoming  United States of America          4/7/20        216       0\n",
       "4638  Wyoming  United States of America          4/8/20        221       0\n",
       "4639  Wyoming  United States of America          4/9/20        230       0\n",
       "\n",
       "[4640 rows x 5 columns]"
      ]
     },
     "execution_count": 60,
     "metadata": {},
     "output_type": "execute_result"
    }
   ],
   "source": [
    "#countrywise_data['Country']=countrywise_data['Country'].apply(lambda x: 'Czechia' if (x=='Czech Republic') else x)\n",
    "#combined_data[combined_data['Country']=='Bahamas', 'Country']=='The Bahamas'\n",
    "combined_data['Country']=combined_data['Country'].apply(lambda x: 'The Bahamas' if (x=='Bahamas') else x)\n",
    "combined_data['Country']=combined_data['Country'].apply(lambda x: 'Ivory Coast' if (x==\"Cote d'Ivoire\") else x)\n",
    "combined_data['Country']=combined_data['Country'].apply(lambda x: 'United States of America' if (x==\"US\") else x)\n",
    "combined_data['Country']=combined_data['Country'].apply(lambda x: 'Myanmar' if (x==\"Burma\") else x)\n",
    "combined_data['Country']=combined_data['Country'].apply(lambda x: 'Democratic Republic of the Congo' if (x=='Congo (Brazzaville)' or x=='Congo (Kinshasa)') else x)\n",
    "combined_data['Country']=combined_data['Country'].apply(lambda x: 'Dominican Republic' if (x==\"Dominica\") else x)\n",
    "combined_data['Country']=combined_data['Country'].apply(lambda x: 'South Korea' if (x==\"Korea, South\") else x)\n",
    "combined_data['Country']=combined_data['Country'].apply(lambda x: 'Taiwan' if (x==\"Taiwan*\") else x)\n",
    "combined_data['Country']=combined_data['Country'].apply(lambda x: 'Indonesia' if (x=='Timor-Leste') else x)\n",
    "combined_data['Country']=combined_data['Country'].apply(lambda x: 'United Republic of Tanzania' if (x=='Tanzania') else x)\n",
    "\n",
    "combined_data[combined_data['Country']==\"United States of America\"]"
   ]
  },
  {
   "cell_type": "code",
   "execution_count": 61,
   "metadata": {},
   "outputs": [],
   "source": [
    "combined_data['Country']=combined_data['Country'].apply(lambda x: 'China' if (x=='Mainland China' or x=='Macau' or x=='Hong Kong') else x)\n",
    "combined_data['Country']=combined_data['Country'].apply(lambda x: 'France' if (x=='Jersey' or x=='Martinique' or x=='Mayotte' or x=='Monaco' or x=='Reunion' or x=='Saint Barthelemy') else x)\n",
    "combined_data['Country']=combined_data['Country'].apply(lambda x: 'Democratic Republic of the Congo' if (x=='Congo (Brazzaville)' or x=='Congo (Kinshasa)' or x=='Republic of the Congo') else x)\n",
    "combined_data['Country']=combined_data['Country'].apply(lambda x: 'Czechia' if (x=='Czech Republic') else x)\n",
    "combined_data['Country']=combined_data['Country'].apply(lambda x: 'French Southern and Antarctic Lands' if (x=='French Guiana') else x)\n",
    "combined_data['Country']=combined_data['Country'].apply(lambda x: 'Switzerland' if (x=='Liechtenstein') else x)\n",
    "combined_data['Country']=combined_data['Country'].apply(lambda x: 'Netherlands' if (x=='MS Zaandam' or x=='St. Martin') else x)\n",
    "combined_data['Country']=combined_data['Country'].apply(lambda x: 'Italy' if (x=='Malta' or x=='San Marino') else x)\n",
    "combined_data['Country']=combined_data['Country'].apply(lambda x: 'Ireland' if (x=='North Ireland' or x=='Republic of Ireland') else x)\n",
    "combined_data['Country']=combined_data['Country'].apply(lambda x: 'Greece' if (x=='North Macedonia') else x)\n",
    "combined_data['Country']=combined_data['Country'].apply(lambda x: 'Trinidad and Tobago' if (x=='Saint Kitts and Nevis' or x=='Saint Lucia' or x=='Saint Vincent and the Grenadines') else x)\n",
    "combined_data['Country']=combined_data['Country'].apply(lambda x: 'South Africa' if (x=='Sao Tome and Principe') else x)\n",
    "combined_data['Country']=combined_data['Country'].apply(lambda x: 'Russia' if (x=='Serbia' or x=='Seychelles') else x)\n",
    "combined_data['Country']=combined_data['Country'].apply(lambda x: 'Indonesia' if (x=='Timor-Leste') else x)\n",
    "combined_data['Country']=combined_data['Country'].apply(lambda x: 'United Republic of Tanzania' if (x=='Tanzania') else x)\n",
    "combined_data['Country']=combined_data['Country'].apply(lambda x: 'Israel' if (x=='West Bank and Gaza' or x=='occupied Palestinian territory') else x)\n",
    "combined_data['Country']=combined_data['Country'].apply(lambda x: 'Myanmar' if (x=='Burma') else x)\n",
    "combined_data['Country']=combined_data['Country'].apply(lambda x: 'United Kingdom' if (x=='UK') else x)\n",
    "combined_data['Country']=combined_data['Country'].apply(lambda x: 'United States of America' if (x=='US') else x)\n",
    "combined_data['Country']=combined_data['Country'].apply(lambda x: 'The Gambia' if (x=='Gambia') else x)\n",
    "combined_data['Country']=combined_data['Country'].apply(lambda x: 'Dominican Republic' if (x==\"Dominica\") else x)\n",
    "combined_data['Country']=combined_data['Country'].apply(lambda x: 'South Korea' if (x==\"Korea, South\") else x)\n",
    "combined_data['Country']=combined_data['Country'].apply(lambda x: 'Taiwan' if (x==\"Taiwan*\") else x)\n",
    "combined_data['Country']=combined_data['Country'].apply(lambda x: 'The Bahamas' if (x=='Bahamas') else x)\n",
    "combined_data['Country']=combined_data['Country'].apply(lambda x: 'Ivory Coast' if (x==\"Cote d'Ivoire\") else x)"
   ]
  },
  {
   "cell_type": "code",
   "execution_count": 62,
   "metadata": {},
   "outputs": [],
   "source": [
    "a=combined_data['Country'].sort_values().unique()"
   ]
  },
  {
   "cell_type": "code",
   "execution_count": 63,
   "metadata": {},
   "outputs": [],
   "source": [
    "b=new_data['Country'].unique()"
   ]
  },
  {
   "cell_type": "code",
   "execution_count": 65,
   "metadata": {},
   "outputs": [
    {
     "data": {
      "text/html": [
       "<div>\n",
       "<style scoped>\n",
       "    .dataframe tbody tr th:only-of-type {\n",
       "        vertical-align: middle;\n",
       "    }\n",
       "\n",
       "    .dataframe tbody tr th {\n",
       "        vertical-align: top;\n",
       "    }\n",
       "\n",
       "    .dataframe thead th {\n",
       "        text-align: right;\n",
       "    }\n",
       "</style>\n",
       "<table border=\"1\" class=\"dataframe\">\n",
       "  <thead>\n",
       "    <tr style=\"text-align: right;\">\n",
       "      <th></th>\n",
       "      <th>State</th>\n",
       "      <th>Country</th>\n",
       "      <th>ObservationDate</th>\n",
       "      <th>Confirmed</th>\n",
       "      <th>Deaths</th>\n",
       "    </tr>\n",
       "  </thead>\n",
       "  <tbody>\n",
       "    <tr>\n",
       "      <td>2880</td>\n",
       "      <td>Burma</td>\n",
       "      <td>Myanmar</td>\n",
       "      <td>2020-01-22</td>\n",
       "      <td>0</td>\n",
       "      <td>0</td>\n",
       "    </tr>\n",
       "    <tr>\n",
       "      <td>2881</td>\n",
       "      <td>Burma</td>\n",
       "      <td>Myanmar</td>\n",
       "      <td>2020-01-23</td>\n",
       "      <td>0</td>\n",
       "      <td>0</td>\n",
       "    </tr>\n",
       "    <tr>\n",
       "      <td>2882</td>\n",
       "      <td>Burma</td>\n",
       "      <td>Myanmar</td>\n",
       "      <td>2020-01-24</td>\n",
       "      <td>0</td>\n",
       "      <td>0</td>\n",
       "    </tr>\n",
       "    <tr>\n",
       "      <td>2883</td>\n",
       "      <td>Burma</td>\n",
       "      <td>Myanmar</td>\n",
       "      <td>2020-01-25</td>\n",
       "      <td>0</td>\n",
       "      <td>0</td>\n",
       "    </tr>\n",
       "    <tr>\n",
       "      <td>2884</td>\n",
       "      <td>Burma</td>\n",
       "      <td>Myanmar</td>\n",
       "      <td>2020-01-26</td>\n",
       "      <td>0</td>\n",
       "      <td>0</td>\n",
       "    </tr>\n",
       "    <tr>\n",
       "      <td>2885</td>\n",
       "      <td>Burma</td>\n",
       "      <td>Myanmar</td>\n",
       "      <td>2020-01-27</td>\n",
       "      <td>0</td>\n",
       "      <td>0</td>\n",
       "    </tr>\n",
       "    <tr>\n",
       "      <td>2886</td>\n",
       "      <td>Burma</td>\n",
       "      <td>Myanmar</td>\n",
       "      <td>2020-01-28</td>\n",
       "      <td>0</td>\n",
       "      <td>0</td>\n",
       "    </tr>\n",
       "    <tr>\n",
       "      <td>2887</td>\n",
       "      <td>Burma</td>\n",
       "      <td>Myanmar</td>\n",
       "      <td>2020-01-29</td>\n",
       "      <td>0</td>\n",
       "      <td>0</td>\n",
       "    </tr>\n",
       "    <tr>\n",
       "      <td>2888</td>\n",
       "      <td>Burma</td>\n",
       "      <td>Myanmar</td>\n",
       "      <td>2020-01-30</td>\n",
       "      <td>0</td>\n",
       "      <td>0</td>\n",
       "    </tr>\n",
       "    <tr>\n",
       "      <td>2889</td>\n",
       "      <td>Burma</td>\n",
       "      <td>Myanmar</td>\n",
       "      <td>2020-01-31</td>\n",
       "      <td>0</td>\n",
       "      <td>0</td>\n",
       "    </tr>\n",
       "    <tr>\n",
       "      <td>2890</td>\n",
       "      <td>Burma</td>\n",
       "      <td>Myanmar</td>\n",
       "      <td>2020-02-01</td>\n",
       "      <td>0</td>\n",
       "      <td>0</td>\n",
       "    </tr>\n",
       "    <tr>\n",
       "      <td>2901</td>\n",
       "      <td>Burma</td>\n",
       "      <td>Myanmar</td>\n",
       "      <td>2020-02-02</td>\n",
       "      <td>0</td>\n",
       "      <td>0</td>\n",
       "    </tr>\n",
       "    <tr>\n",
       "      <td>2912</td>\n",
       "      <td>Burma</td>\n",
       "      <td>Myanmar</td>\n",
       "      <td>2020-02-03</td>\n",
       "      <td>0</td>\n",
       "      <td>0</td>\n",
       "    </tr>\n",
       "    <tr>\n",
       "      <td>2913</td>\n",
       "      <td>Burma</td>\n",
       "      <td>Myanmar</td>\n",
       "      <td>2020-02-04</td>\n",
       "      <td>0</td>\n",
       "      <td>0</td>\n",
       "    </tr>\n",
       "    <tr>\n",
       "      <td>2914</td>\n",
       "      <td>Burma</td>\n",
       "      <td>Myanmar</td>\n",
       "      <td>2020-02-05</td>\n",
       "      <td>0</td>\n",
       "      <td>0</td>\n",
       "    </tr>\n",
       "    <tr>\n",
       "      <td>2915</td>\n",
       "      <td>Burma</td>\n",
       "      <td>Myanmar</td>\n",
       "      <td>2020-02-06</td>\n",
       "      <td>0</td>\n",
       "      <td>0</td>\n",
       "    </tr>\n",
       "    <tr>\n",
       "      <td>2916</td>\n",
       "      <td>Burma</td>\n",
       "      <td>Myanmar</td>\n",
       "      <td>2020-02-07</td>\n",
       "      <td>0</td>\n",
       "      <td>0</td>\n",
       "    </tr>\n",
       "    <tr>\n",
       "      <td>2917</td>\n",
       "      <td>Burma</td>\n",
       "      <td>Myanmar</td>\n",
       "      <td>2020-02-08</td>\n",
       "      <td>0</td>\n",
       "      <td>0</td>\n",
       "    </tr>\n",
       "    <tr>\n",
       "      <td>2918</td>\n",
       "      <td>Burma</td>\n",
       "      <td>Myanmar</td>\n",
       "      <td>2020-02-09</td>\n",
       "      <td>0</td>\n",
       "      <td>0</td>\n",
       "    </tr>\n",
       "    <tr>\n",
       "      <td>2891</td>\n",
       "      <td>Burma</td>\n",
       "      <td>Myanmar</td>\n",
       "      <td>2020-02-10</td>\n",
       "      <td>0</td>\n",
       "      <td>0</td>\n",
       "    </tr>\n",
       "    <tr>\n",
       "      <td>2892</td>\n",
       "      <td>Burma</td>\n",
       "      <td>Myanmar</td>\n",
       "      <td>2020-02-11</td>\n",
       "      <td>0</td>\n",
       "      <td>0</td>\n",
       "    </tr>\n",
       "    <tr>\n",
       "      <td>2893</td>\n",
       "      <td>Burma</td>\n",
       "      <td>Myanmar</td>\n",
       "      <td>2020-02-12</td>\n",
       "      <td>0</td>\n",
       "      <td>0</td>\n",
       "    </tr>\n",
       "    <tr>\n",
       "      <td>2894</td>\n",
       "      <td>Burma</td>\n",
       "      <td>Myanmar</td>\n",
       "      <td>2020-02-13</td>\n",
       "      <td>0</td>\n",
       "      <td>0</td>\n",
       "    </tr>\n",
       "    <tr>\n",
       "      <td>2895</td>\n",
       "      <td>Burma</td>\n",
       "      <td>Myanmar</td>\n",
       "      <td>2020-02-14</td>\n",
       "      <td>0</td>\n",
       "      <td>0</td>\n",
       "    </tr>\n",
       "    <tr>\n",
       "      <td>2896</td>\n",
       "      <td>Burma</td>\n",
       "      <td>Myanmar</td>\n",
       "      <td>2020-02-15</td>\n",
       "      <td>0</td>\n",
       "      <td>0</td>\n",
       "    </tr>\n",
       "    <tr>\n",
       "      <td>2897</td>\n",
       "      <td>Burma</td>\n",
       "      <td>Myanmar</td>\n",
       "      <td>2020-02-16</td>\n",
       "      <td>0</td>\n",
       "      <td>0</td>\n",
       "    </tr>\n",
       "    <tr>\n",
       "      <td>2898</td>\n",
       "      <td>Burma</td>\n",
       "      <td>Myanmar</td>\n",
       "      <td>2020-02-17</td>\n",
       "      <td>0</td>\n",
       "      <td>0</td>\n",
       "    </tr>\n",
       "    <tr>\n",
       "      <td>2899</td>\n",
       "      <td>Burma</td>\n",
       "      <td>Myanmar</td>\n",
       "      <td>2020-02-18</td>\n",
       "      <td>0</td>\n",
       "      <td>0</td>\n",
       "    </tr>\n",
       "    <tr>\n",
       "      <td>2900</td>\n",
       "      <td>Burma</td>\n",
       "      <td>Myanmar</td>\n",
       "      <td>2020-02-19</td>\n",
       "      <td>0</td>\n",
       "      <td>0</td>\n",
       "    </tr>\n",
       "    <tr>\n",
       "      <td>2902</td>\n",
       "      <td>Burma</td>\n",
       "      <td>Myanmar</td>\n",
       "      <td>2020-02-20</td>\n",
       "      <td>0</td>\n",
       "      <td>0</td>\n",
       "    </tr>\n",
       "    <tr>\n",
       "      <td>2903</td>\n",
       "      <td>Burma</td>\n",
       "      <td>Myanmar</td>\n",
       "      <td>2020-02-21</td>\n",
       "      <td>0</td>\n",
       "      <td>0</td>\n",
       "    </tr>\n",
       "    <tr>\n",
       "      <td>2904</td>\n",
       "      <td>Burma</td>\n",
       "      <td>Myanmar</td>\n",
       "      <td>2020-02-22</td>\n",
       "      <td>0</td>\n",
       "      <td>0</td>\n",
       "    </tr>\n",
       "    <tr>\n",
       "      <td>2905</td>\n",
       "      <td>Burma</td>\n",
       "      <td>Myanmar</td>\n",
       "      <td>2020-02-23</td>\n",
       "      <td>0</td>\n",
       "      <td>0</td>\n",
       "    </tr>\n",
       "    <tr>\n",
       "      <td>2906</td>\n",
       "      <td>Burma</td>\n",
       "      <td>Myanmar</td>\n",
       "      <td>2020-02-24</td>\n",
       "      <td>0</td>\n",
       "      <td>0</td>\n",
       "    </tr>\n",
       "    <tr>\n",
       "      <td>2907</td>\n",
       "      <td>Burma</td>\n",
       "      <td>Myanmar</td>\n",
       "      <td>2020-02-25</td>\n",
       "      <td>0</td>\n",
       "      <td>0</td>\n",
       "    </tr>\n",
       "    <tr>\n",
       "      <td>2908</td>\n",
       "      <td>Burma</td>\n",
       "      <td>Myanmar</td>\n",
       "      <td>2020-02-26</td>\n",
       "      <td>0</td>\n",
       "      <td>0</td>\n",
       "    </tr>\n",
       "    <tr>\n",
       "      <td>2909</td>\n",
       "      <td>Burma</td>\n",
       "      <td>Myanmar</td>\n",
       "      <td>2020-02-27</td>\n",
       "      <td>0</td>\n",
       "      <td>0</td>\n",
       "    </tr>\n",
       "    <tr>\n",
       "      <td>2910</td>\n",
       "      <td>Burma</td>\n",
       "      <td>Myanmar</td>\n",
       "      <td>2020-02-28</td>\n",
       "      <td>0</td>\n",
       "      <td>0</td>\n",
       "    </tr>\n",
       "    <tr>\n",
       "      <td>2911</td>\n",
       "      <td>Burma</td>\n",
       "      <td>Myanmar</td>\n",
       "      <td>2020-02-29</td>\n",
       "      <td>0</td>\n",
       "      <td>0</td>\n",
       "    </tr>\n",
       "    <tr>\n",
       "      <td>2919</td>\n",
       "      <td>Burma</td>\n",
       "      <td>Myanmar</td>\n",
       "      <td>2020-03-01</td>\n",
       "      <td>0</td>\n",
       "      <td>0</td>\n",
       "    </tr>\n",
       "    <tr>\n",
       "      <td>2930</td>\n",
       "      <td>Burma</td>\n",
       "      <td>Myanmar</td>\n",
       "      <td>2020-03-02</td>\n",
       "      <td>0</td>\n",
       "      <td>0</td>\n",
       "    </tr>\n",
       "    <tr>\n",
       "      <td>2941</td>\n",
       "      <td>Burma</td>\n",
       "      <td>Myanmar</td>\n",
       "      <td>2020-03-03</td>\n",
       "      <td>0</td>\n",
       "      <td>0</td>\n",
       "    </tr>\n",
       "    <tr>\n",
       "      <td>2944</td>\n",
       "      <td>Burma</td>\n",
       "      <td>Myanmar</td>\n",
       "      <td>2020-03-04</td>\n",
       "      <td>0</td>\n",
       "      <td>0</td>\n",
       "    </tr>\n",
       "    <tr>\n",
       "      <td>2945</td>\n",
       "      <td>Burma</td>\n",
       "      <td>Myanmar</td>\n",
       "      <td>2020-03-05</td>\n",
       "      <td>0</td>\n",
       "      <td>0</td>\n",
       "    </tr>\n",
       "    <tr>\n",
       "      <td>2946</td>\n",
       "      <td>Burma</td>\n",
       "      <td>Myanmar</td>\n",
       "      <td>2020-03-06</td>\n",
       "      <td>0</td>\n",
       "      <td>0</td>\n",
       "    </tr>\n",
       "    <tr>\n",
       "      <td>2947</td>\n",
       "      <td>Burma</td>\n",
       "      <td>Myanmar</td>\n",
       "      <td>2020-03-07</td>\n",
       "      <td>0</td>\n",
       "      <td>0</td>\n",
       "    </tr>\n",
       "    <tr>\n",
       "      <td>2948</td>\n",
       "      <td>Burma</td>\n",
       "      <td>Myanmar</td>\n",
       "      <td>2020-03-08</td>\n",
       "      <td>0</td>\n",
       "      <td>0</td>\n",
       "    </tr>\n",
       "    <tr>\n",
       "      <td>2949</td>\n",
       "      <td>Burma</td>\n",
       "      <td>Myanmar</td>\n",
       "      <td>2020-03-09</td>\n",
       "      <td>0</td>\n",
       "      <td>0</td>\n",
       "    </tr>\n",
       "    <tr>\n",
       "      <td>2920</td>\n",
       "      <td>Burma</td>\n",
       "      <td>Myanmar</td>\n",
       "      <td>2020-03-10</td>\n",
       "      <td>0</td>\n",
       "      <td>0</td>\n",
       "    </tr>\n",
       "    <tr>\n",
       "      <td>2921</td>\n",
       "      <td>Burma</td>\n",
       "      <td>Myanmar</td>\n",
       "      <td>2020-03-11</td>\n",
       "      <td>0</td>\n",
       "      <td>0</td>\n",
       "    </tr>\n",
       "    <tr>\n",
       "      <td>2922</td>\n",
       "      <td>Burma</td>\n",
       "      <td>Myanmar</td>\n",
       "      <td>2020-03-12</td>\n",
       "      <td>0</td>\n",
       "      <td>0</td>\n",
       "    </tr>\n",
       "    <tr>\n",
       "      <td>2923</td>\n",
       "      <td>Burma</td>\n",
       "      <td>Myanmar</td>\n",
       "      <td>2020-03-13</td>\n",
       "      <td>0</td>\n",
       "      <td>0</td>\n",
       "    </tr>\n",
       "    <tr>\n",
       "      <td>2924</td>\n",
       "      <td>Burma</td>\n",
       "      <td>Myanmar</td>\n",
       "      <td>2020-03-14</td>\n",
       "      <td>0</td>\n",
       "      <td>0</td>\n",
       "    </tr>\n",
       "    <tr>\n",
       "      <td>2925</td>\n",
       "      <td>Burma</td>\n",
       "      <td>Myanmar</td>\n",
       "      <td>2020-03-15</td>\n",
       "      <td>0</td>\n",
       "      <td>0</td>\n",
       "    </tr>\n",
       "    <tr>\n",
       "      <td>2926</td>\n",
       "      <td>Burma</td>\n",
       "      <td>Myanmar</td>\n",
       "      <td>2020-03-16</td>\n",
       "      <td>0</td>\n",
       "      <td>0</td>\n",
       "    </tr>\n",
       "    <tr>\n",
       "      <td>2927</td>\n",
       "      <td>Burma</td>\n",
       "      <td>Myanmar</td>\n",
       "      <td>2020-03-17</td>\n",
       "      <td>0</td>\n",
       "      <td>0</td>\n",
       "    </tr>\n",
       "    <tr>\n",
       "      <td>2928</td>\n",
       "      <td>Burma</td>\n",
       "      <td>Myanmar</td>\n",
       "      <td>2020-03-18</td>\n",
       "      <td>0</td>\n",
       "      <td>0</td>\n",
       "    </tr>\n",
       "    <tr>\n",
       "      <td>2929</td>\n",
       "      <td>Burma</td>\n",
       "      <td>Myanmar</td>\n",
       "      <td>2020-03-19</td>\n",
       "      <td>0</td>\n",
       "      <td>0</td>\n",
       "    </tr>\n",
       "    <tr>\n",
       "      <td>2931</td>\n",
       "      <td>Burma</td>\n",
       "      <td>Myanmar</td>\n",
       "      <td>2020-03-20</td>\n",
       "      <td>0</td>\n",
       "      <td>0</td>\n",
       "    </tr>\n",
       "    <tr>\n",
       "      <td>2932</td>\n",
       "      <td>Burma</td>\n",
       "      <td>Myanmar</td>\n",
       "      <td>2020-03-21</td>\n",
       "      <td>0</td>\n",
       "      <td>0</td>\n",
       "    </tr>\n",
       "    <tr>\n",
       "      <td>2933</td>\n",
       "      <td>Burma</td>\n",
       "      <td>Myanmar</td>\n",
       "      <td>2020-03-22</td>\n",
       "      <td>0</td>\n",
       "      <td>0</td>\n",
       "    </tr>\n",
       "    <tr>\n",
       "      <td>2934</td>\n",
       "      <td>Burma</td>\n",
       "      <td>Myanmar</td>\n",
       "      <td>2020-03-23</td>\n",
       "      <td>0</td>\n",
       "      <td>0</td>\n",
       "    </tr>\n",
       "    <tr>\n",
       "      <td>2935</td>\n",
       "      <td>Burma</td>\n",
       "      <td>Myanmar</td>\n",
       "      <td>2020-03-24</td>\n",
       "      <td>0</td>\n",
       "      <td>0</td>\n",
       "    </tr>\n",
       "    <tr>\n",
       "      <td>2936</td>\n",
       "      <td>Burma</td>\n",
       "      <td>Myanmar</td>\n",
       "      <td>2020-03-25</td>\n",
       "      <td>0</td>\n",
       "      <td>0</td>\n",
       "    </tr>\n",
       "    <tr>\n",
       "      <td>2937</td>\n",
       "      <td>Burma</td>\n",
       "      <td>Myanmar</td>\n",
       "      <td>2020-03-26</td>\n",
       "      <td>0</td>\n",
       "      <td>0</td>\n",
       "    </tr>\n",
       "    <tr>\n",
       "      <td>2938</td>\n",
       "      <td>Burma</td>\n",
       "      <td>Myanmar</td>\n",
       "      <td>2020-03-27</td>\n",
       "      <td>8</td>\n",
       "      <td>0</td>\n",
       "    </tr>\n",
       "    <tr>\n",
       "      <td>2939</td>\n",
       "      <td>Burma</td>\n",
       "      <td>Myanmar</td>\n",
       "      <td>2020-03-28</td>\n",
       "      <td>8</td>\n",
       "      <td>0</td>\n",
       "    </tr>\n",
       "    <tr>\n",
       "      <td>2940</td>\n",
       "      <td>Burma</td>\n",
       "      <td>Myanmar</td>\n",
       "      <td>2020-03-29</td>\n",
       "      <td>10</td>\n",
       "      <td>0</td>\n",
       "    </tr>\n",
       "    <tr>\n",
       "      <td>2942</td>\n",
       "      <td>Burma</td>\n",
       "      <td>Myanmar</td>\n",
       "      <td>2020-03-30</td>\n",
       "      <td>14</td>\n",
       "      <td>0</td>\n",
       "    </tr>\n",
       "    <tr>\n",
       "      <td>2943</td>\n",
       "      <td>Burma</td>\n",
       "      <td>Myanmar</td>\n",
       "      <td>2020-03-31</td>\n",
       "      <td>15</td>\n",
       "      <td>1</td>\n",
       "    </tr>\n",
       "    <tr>\n",
       "      <td>2950</td>\n",
       "      <td>Burma</td>\n",
       "      <td>Myanmar</td>\n",
       "      <td>2020-04-01</td>\n",
       "      <td>15</td>\n",
       "      <td>1</td>\n",
       "    </tr>\n",
       "    <tr>\n",
       "      <td>2952</td>\n",
       "      <td>Burma</td>\n",
       "      <td>Myanmar</td>\n",
       "      <td>2020-04-02</td>\n",
       "      <td>20</td>\n",
       "      <td>1</td>\n",
       "    </tr>\n",
       "    <tr>\n",
       "      <td>2953</td>\n",
       "      <td>Burma</td>\n",
       "      <td>Myanmar</td>\n",
       "      <td>2020-04-03</td>\n",
       "      <td>20</td>\n",
       "      <td>1</td>\n",
       "    </tr>\n",
       "    <tr>\n",
       "      <td>2954</td>\n",
       "      <td>Burma</td>\n",
       "      <td>Myanmar</td>\n",
       "      <td>2020-04-04</td>\n",
       "      <td>21</td>\n",
       "      <td>1</td>\n",
       "    </tr>\n",
       "    <tr>\n",
       "      <td>2955</td>\n",
       "      <td>Burma</td>\n",
       "      <td>Myanmar</td>\n",
       "      <td>2020-04-05</td>\n",
       "      <td>21</td>\n",
       "      <td>1</td>\n",
       "    </tr>\n",
       "    <tr>\n",
       "      <td>2956</td>\n",
       "      <td>Burma</td>\n",
       "      <td>Myanmar</td>\n",
       "      <td>2020-04-06</td>\n",
       "      <td>22</td>\n",
       "      <td>1</td>\n",
       "    </tr>\n",
       "    <tr>\n",
       "      <td>2957</td>\n",
       "      <td>Burma</td>\n",
       "      <td>Myanmar</td>\n",
       "      <td>2020-04-07</td>\n",
       "      <td>22</td>\n",
       "      <td>1</td>\n",
       "    </tr>\n",
       "    <tr>\n",
       "      <td>2958</td>\n",
       "      <td>Burma</td>\n",
       "      <td>Myanmar</td>\n",
       "      <td>2020-04-08</td>\n",
       "      <td>22</td>\n",
       "      <td>3</td>\n",
       "    </tr>\n",
       "    <tr>\n",
       "      <td>2959</td>\n",
       "      <td>Burma</td>\n",
       "      <td>Myanmar</td>\n",
       "      <td>2020-04-09</td>\n",
       "      <td>23</td>\n",
       "      <td>3</td>\n",
       "    </tr>\n",
       "    <tr>\n",
       "      <td>2951</td>\n",
       "      <td>Burma</td>\n",
       "      <td>Myanmar</td>\n",
       "      <td>2020-04-10</td>\n",
       "      <td>27</td>\n",
       "      <td>3</td>\n",
       "    </tr>\n",
       "  </tbody>\n",
       "</table>\n",
       "</div>"
      ],
      "text/plain": [
       "      State  Country ObservationDate  Confirmed  Deaths\n",
       "2880  Burma  Myanmar      2020-01-22          0       0\n",
       "2881  Burma  Myanmar      2020-01-23          0       0\n",
       "2882  Burma  Myanmar      2020-01-24          0       0\n",
       "2883  Burma  Myanmar      2020-01-25          0       0\n",
       "2884  Burma  Myanmar      2020-01-26          0       0\n",
       "2885  Burma  Myanmar      2020-01-27          0       0\n",
       "2886  Burma  Myanmar      2020-01-28          0       0\n",
       "2887  Burma  Myanmar      2020-01-29          0       0\n",
       "2888  Burma  Myanmar      2020-01-30          0       0\n",
       "2889  Burma  Myanmar      2020-01-31          0       0\n",
       "2890  Burma  Myanmar      2020-02-01          0       0\n",
       "2901  Burma  Myanmar      2020-02-02          0       0\n",
       "2912  Burma  Myanmar      2020-02-03          0       0\n",
       "2913  Burma  Myanmar      2020-02-04          0       0\n",
       "2914  Burma  Myanmar      2020-02-05          0       0\n",
       "2915  Burma  Myanmar      2020-02-06          0       0\n",
       "2916  Burma  Myanmar      2020-02-07          0       0\n",
       "2917  Burma  Myanmar      2020-02-08          0       0\n",
       "2918  Burma  Myanmar      2020-02-09          0       0\n",
       "2891  Burma  Myanmar      2020-02-10          0       0\n",
       "2892  Burma  Myanmar      2020-02-11          0       0\n",
       "2893  Burma  Myanmar      2020-02-12          0       0\n",
       "2894  Burma  Myanmar      2020-02-13          0       0\n",
       "2895  Burma  Myanmar      2020-02-14          0       0\n",
       "2896  Burma  Myanmar      2020-02-15          0       0\n",
       "2897  Burma  Myanmar      2020-02-16          0       0\n",
       "2898  Burma  Myanmar      2020-02-17          0       0\n",
       "2899  Burma  Myanmar      2020-02-18          0       0\n",
       "2900  Burma  Myanmar      2020-02-19          0       0\n",
       "2902  Burma  Myanmar      2020-02-20          0       0\n",
       "2903  Burma  Myanmar      2020-02-21          0       0\n",
       "2904  Burma  Myanmar      2020-02-22          0       0\n",
       "2905  Burma  Myanmar      2020-02-23          0       0\n",
       "2906  Burma  Myanmar      2020-02-24          0       0\n",
       "2907  Burma  Myanmar      2020-02-25          0       0\n",
       "2908  Burma  Myanmar      2020-02-26          0       0\n",
       "2909  Burma  Myanmar      2020-02-27          0       0\n",
       "2910  Burma  Myanmar      2020-02-28          0       0\n",
       "2911  Burma  Myanmar      2020-02-29          0       0\n",
       "2919  Burma  Myanmar      2020-03-01          0       0\n",
       "2930  Burma  Myanmar      2020-03-02          0       0\n",
       "2941  Burma  Myanmar      2020-03-03          0       0\n",
       "2944  Burma  Myanmar      2020-03-04          0       0\n",
       "2945  Burma  Myanmar      2020-03-05          0       0\n",
       "2946  Burma  Myanmar      2020-03-06          0       0\n",
       "2947  Burma  Myanmar      2020-03-07          0       0\n",
       "2948  Burma  Myanmar      2020-03-08          0       0\n",
       "2949  Burma  Myanmar      2020-03-09          0       0\n",
       "2920  Burma  Myanmar      2020-03-10          0       0\n",
       "2921  Burma  Myanmar      2020-03-11          0       0\n",
       "2922  Burma  Myanmar      2020-03-12          0       0\n",
       "2923  Burma  Myanmar      2020-03-13          0       0\n",
       "2924  Burma  Myanmar      2020-03-14          0       0\n",
       "2925  Burma  Myanmar      2020-03-15          0       0\n",
       "2926  Burma  Myanmar      2020-03-16          0       0\n",
       "2927  Burma  Myanmar      2020-03-17          0       0\n",
       "2928  Burma  Myanmar      2020-03-18          0       0\n",
       "2929  Burma  Myanmar      2020-03-19          0       0\n",
       "2931  Burma  Myanmar      2020-03-20          0       0\n",
       "2932  Burma  Myanmar      2020-03-21          0       0\n",
       "2933  Burma  Myanmar      2020-03-22          0       0\n",
       "2934  Burma  Myanmar      2020-03-23          0       0\n",
       "2935  Burma  Myanmar      2020-03-24          0       0\n",
       "2936  Burma  Myanmar      2020-03-25          0       0\n",
       "2937  Burma  Myanmar      2020-03-26          0       0\n",
       "2938  Burma  Myanmar      2020-03-27          8       0\n",
       "2939  Burma  Myanmar      2020-03-28          8       0\n",
       "2940  Burma  Myanmar      2020-03-29         10       0\n",
       "2942  Burma  Myanmar      2020-03-30         14       0\n",
       "2943  Burma  Myanmar      2020-03-31         15       1\n",
       "2950  Burma  Myanmar      2020-04-01         15       1\n",
       "2952  Burma  Myanmar      2020-04-02         20       1\n",
       "2953  Burma  Myanmar      2020-04-03         20       1\n",
       "2954  Burma  Myanmar      2020-04-04         21       1\n",
       "2955  Burma  Myanmar      2020-04-05         21       1\n",
       "2956  Burma  Myanmar      2020-04-06         22       1\n",
       "2957  Burma  Myanmar      2020-04-07         22       1\n",
       "2958  Burma  Myanmar      2020-04-08         22       3\n",
       "2959  Burma  Myanmar      2020-04-09         23       3\n",
       "2951  Burma  Myanmar      2020-04-10         27       3"
      ]
     },
     "execution_count": 65,
     "metadata": {},
     "output_type": "execute_result"
    }
   ],
   "source": [
    "lst=[i for i in a if i not in b]\n",
    "lst\n",
    "for i in lst:\n",
    "    combined_data=combined_data[combined_data['Country']!=i]\n",
    "\n",
    "combined_data['ObservationDate']= pd.to_datetime(combined_data['ObservationDate']) \n",
    "combined_data=combined_data.sort_values(['ObservationDate','State', 'Country'], ascending=[True, True, True])\n",
    "combined_data[combined_data['Country']=='Myanmar']"
   ]
  },
  {
   "cell_type": "code",
   "execution_count": 66,
   "metadata": {},
   "outputs": [
    {
     "data": {
      "text/html": [
       "<div>\n",
       "<style scoped>\n",
       "    .dataframe tbody tr th:only-of-type {\n",
       "        vertical-align: middle;\n",
       "    }\n",
       "\n",
       "    .dataframe tbody tr th {\n",
       "        vertical-align: top;\n",
       "    }\n",
       "\n",
       "    .dataframe thead th {\n",
       "        text-align: right;\n",
       "    }\n",
       "</style>\n",
       "<table border=\"1\" class=\"dataframe\">\n",
       "  <thead>\n",
       "    <tr style=\"text-align: right;\">\n",
       "      <th></th>\n",
       "      <th>State</th>\n",
       "      <th>Country</th>\n",
       "      <th>ObservationDate</th>\n",
       "      <th>Confirmed</th>\n",
       "      <th>Deaths</th>\n",
       "    </tr>\n",
       "  </thead>\n",
       "  <tbody>\n",
       "    <tr>\n",
       "      <td>0</td>\n",
       "      <td>Alabama</td>\n",
       "      <td>United States of America</td>\n",
       "      <td>2020-01-22</td>\n",
       "      <td>0</td>\n",
       "      <td>0</td>\n",
       "    </tr>\n",
       "    <tr>\n",
       "      <td>1</td>\n",
       "      <td>Alabama</td>\n",
       "      <td>United States of America</td>\n",
       "      <td>2020-01-23</td>\n",
       "      <td>0</td>\n",
       "      <td>0</td>\n",
       "    </tr>\n",
       "    <tr>\n",
       "      <td>2</td>\n",
       "      <td>Alabama</td>\n",
       "      <td>United States of America</td>\n",
       "      <td>2020-01-24</td>\n",
       "      <td>0</td>\n",
       "      <td>0</td>\n",
       "    </tr>\n",
       "    <tr>\n",
       "      <td>3</td>\n",
       "      <td>Alabama</td>\n",
       "      <td>United States of America</td>\n",
       "      <td>2020-01-25</td>\n",
       "      <td>0</td>\n",
       "      <td>0</td>\n",
       "    </tr>\n",
       "    <tr>\n",
       "      <td>4</td>\n",
       "      <td>Alabama</td>\n",
       "      <td>United States of America</td>\n",
       "      <td>2020-01-26</td>\n",
       "      <td>0</td>\n",
       "      <td>0</td>\n",
       "    </tr>\n",
       "    <tr>\n",
       "      <td>...</td>\n",
       "      <td>...</td>\n",
       "      <td>...</td>\n",
       "      <td>...</td>\n",
       "      <td>...</td>\n",
       "      <td>...</td>\n",
       "    </tr>\n",
       "    <tr>\n",
       "      <td>4636</td>\n",
       "      <td>Wyoming</td>\n",
       "      <td>United States of America</td>\n",
       "      <td>2020-04-06</td>\n",
       "      <td>210</td>\n",
       "      <td>0</td>\n",
       "    </tr>\n",
       "    <tr>\n",
       "      <td>4637</td>\n",
       "      <td>Wyoming</td>\n",
       "      <td>United States of America</td>\n",
       "      <td>2020-04-07</td>\n",
       "      <td>216</td>\n",
       "      <td>0</td>\n",
       "    </tr>\n",
       "    <tr>\n",
       "      <td>4638</td>\n",
       "      <td>Wyoming</td>\n",
       "      <td>United States of America</td>\n",
       "      <td>2020-04-08</td>\n",
       "      <td>221</td>\n",
       "      <td>0</td>\n",
       "    </tr>\n",
       "    <tr>\n",
       "      <td>4639</td>\n",
       "      <td>Wyoming</td>\n",
       "      <td>United States of America</td>\n",
       "      <td>2020-04-09</td>\n",
       "      <td>230</td>\n",
       "      <td>0</td>\n",
       "    </tr>\n",
       "    <tr>\n",
       "      <td>4631</td>\n",
       "      <td>Wyoming</td>\n",
       "      <td>United States of America</td>\n",
       "      <td>2020-04-10</td>\n",
       "      <td>239</td>\n",
       "      <td>0</td>\n",
       "    </tr>\n",
       "  </tbody>\n",
       "</table>\n",
       "<p>4640 rows × 5 columns</p>\n",
       "</div>"
      ],
      "text/plain": [
       "        State                   Country ObservationDate  Confirmed  Deaths\n",
       "0     Alabama  United States of America      2020-01-22          0       0\n",
       "1     Alabama  United States of America      2020-01-23          0       0\n",
       "2     Alabama  United States of America      2020-01-24          0       0\n",
       "3     Alabama  United States of America      2020-01-25          0       0\n",
       "4     Alabama  United States of America      2020-01-26          0       0\n",
       "...       ...                       ...             ...        ...     ...\n",
       "4636  Wyoming  United States of America      2020-04-06        210       0\n",
       "4637  Wyoming  United States of America      2020-04-07        216       0\n",
       "4638  Wyoming  United States of America      2020-04-08        221       0\n",
       "4639  Wyoming  United States of America      2020-04-09        230       0\n",
       "4631  Wyoming  United States of America      2020-04-10        239       0\n",
       "\n",
       "[4640 rows x 5 columns]"
      ]
     },
     "execution_count": 66,
     "metadata": {},
     "output_type": "execute_result"
    }
   ],
   "source": [
    "t=combined_data[combined_data['Country']=='United States of America']\n",
    "t=t.sort_values(['State','ObservationDate'], ascending=[True, True])\n",
    "#t.sort_values('Confirmed', ascending=False)['State'].unique()[:10]\n",
    "t"
   ]
  },
  {
   "cell_type": "code",
   "execution_count": 85,
   "metadata": {},
   "outputs": [],
   "source": [
    "def state_graph(country):\n",
    "    plt.figure(figsize=(15,7))\n",
    "    temp_df=combined_data[combined_data['Country']==country]\n",
    "    temp_df=temp_df.sort_values(['State','ObservationDate'], ascending=[True, True])\n",
    "    unique_states=temp_df.sort_values('Confirmed', ascending=False)['State'].unique()[:5]\n",
    "    color=['Red', 'Green', 'Blue', 'Yellow', 'Magenta', 'Cyan', 'Orange', 'limegreen', 'indigo', 'lightblue']\n",
    "    \n",
    "    for (i,j) in zip(unique_states, color):\n",
    "        temp_data=temp_df[temp_df['State']==i]\n",
    "        plt.plot('ObservationDate','Confirmed', data=temp_data, c=j, marker='o')\n",
    "        print(i+' : '+j)\n",
    "    plt.title('Datewise confirmed COVID cases in top 10 states in '+country)\n",
    "    plt.xlabel(\"Observation Date\")\n",
    "    plt.ylabel(\"Total Confirmed Covid Cases\")\n",
    "    #plt.xticks(rotation=90)\n",
    "    plt.show()"
   ]
  },
  {
   "cell_type": "code",
   "execution_count": 86,
   "metadata": {},
   "outputs": [
    {
     "name": "stdout",
     "output_type": "stream",
     "text": [
      "New York : Red\n",
      "New Jersey : Green\n",
      "Michigan : Blue\n",
      "California : Yellow\n",
      "Massachusetts : Magenta\n"
     ]
    },
    {
     "data": {
      "image/png": "[encoded data removed]",
      "text/plain": [
       "<Figure size 1080x504 with 1 Axes>"
      ]
     },
     "metadata": {
      "needs_background": "light"
     },
     "output_type": "display_data"
    }
   ],
   "source": [
    "state_graph('United States of America')"
   ]
  },
  {
   "cell_type": "code",
   "execution_count": 69,
   "metadata": {},
   "outputs": [],
   "source": [
    "ALL='All'\n",
    "def city_variable(x):\n",
    "    unique_country=x[x[\"Country\"]=='US']\n",
    "    unique_states=unique_country['State'].unique().tolist()\n",
    "    unique_states.insert(0, 'All')\n",
    "    return (unique_states)"
   ]
  }
 ],
 "metadata": {
  "kernelspec": {
   "display_name": "Python 3",
   "language": "python",
   "name": "python3"
  },
  "language_info": {
   "codemirror_mode": {
    "name": "ipython",
    "version": 3
   },
   "file_extension": ".py",
   "mimetype": "text/x-python",
   "name": "python",
   "nbconvert_exporter": "python",
   "pygments_lexer": "ipython3",
   "version": "3.7.2"
  }
 },
 "nbformat": 4,
 "nbformat_minor": 2
}
